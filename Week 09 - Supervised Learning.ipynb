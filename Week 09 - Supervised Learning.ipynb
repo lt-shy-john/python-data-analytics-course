{
 "cells": [
  {
   "cell_type": "markdown",
   "metadata": {},
   "source": [
    "# Week 09: Supervised Learning"
   ]
  },
  {
   "cell_type": "markdown",
   "metadata": {},
   "source": [
    "## Drill"
   ]
  },
  {
   "cell_type": "markdown",
   "metadata": {
    "solution": "hidden",
    "solution2": "hidden",
    "solution2_first": true,
    "solution_first": true
   },
   "source": [
    "__Exercise:__ Explain what libraries that are used for the applications below? \n",
    "* Data visualisation\n",
    "* Web scraping"
   ]
  },
  {
   "cell_type": "markdown",
   "metadata": {
    "solution": "hidden",
    "solution2": "hidden"
   },
   "source": [
    "__Solution:__ \n",
    "The are many libraries that do those tasks, but the following \n",
    "* Data visualisation: `matplotlib`, `seaborn`, `plotly`\n",
    "* Web scraping: `requests`, `beautifulsoap`"
   ]
  },
  {
   "cell_type": "markdown",
   "metadata": {
    "solution": "hidden",
    "solution2": "hidden",
    "solution2_first": true,
    "solution_first": true
   },
   "source": [
    "__Exercise:__ In the following, print out the results (__in 2 decimal points__) using the `.format()` method or f-string. The computation is given to you."
   ]
  },
  {
   "cell_type": "code",
   "execution_count": null,
   "metadata": {},
   "outputs": [],
   "source": [
    "def sum(ls): \n",
    "    i = 0\n",
    "    s = 0\n",
    "    while i < len(ls): \n",
    "        s += ls[i]\n",
    "        i += 1\n",
    "    return s\n",
    "data01 = [0, 1, 4, 1, 2, 5, 2, 3, 4, 1]\n",
    "avg = sum(data01)/len(data01)\n",
    "\n",
    "# Your code below\n"
   ]
  },
  {
   "cell_type": "code",
   "execution_count": null,
   "metadata": {
    "solution": "hidden",
    "solution2": "hidden"
   },
   "outputs": [],
   "source": [
    "# Solution\n",
    "def sum(ls): \n",
    "    i = 0\n",
    "    s = 0\n",
    "    while i < len(ls): \n",
    "        s += ls[i]\n",
    "        i += 1\n",
    "    return s\n",
    "data01 = [0, 1, 4, 1, 2, 5, 2, 3, 4, 1]\n",
    "avg = sum(data01)/len(data01)\n",
    "\n",
    "print('{0:.2f}'.format(avg))\n",
    "print(f'{avg:.2f}')"
   ]
  },
  {
   "cell_type": "markdown",
   "metadata": {},
   "source": [
    "## Recap"
   ]
  },
  {
   "cell_type": "markdown",
   "metadata": {},
   "source": [
    "This is a continuum of previous 2 week topics. Remember from the CRISP-DM from week 7? We have done: \n",
    "* Forming data analytics/ science project ideas\n",
    "* Finding datasets\n",
    "* Understand the datasets from EDA\n",
    "* Using statistics to understand datasets, this sometimes is part of EDA\n",
    "\n",
    "This week and next week is under the __Modelling__ and __Evaluation__ steps of CRISP-DM. In this week, we are building a class of machine learning models under supervised learning. "
   ]
  },
  {
   "cell_type": "markdown",
   "metadata": {},
   "source": [
    "## Supervised Learning"
   ]
  },
  {
   "cell_type": "markdown",
   "metadata": {},
   "source": [
    "Supervised learning is one type of machine learning. These algorithms look for a target variable. Remember from last week we talked about dependent variable? In machine learning the term target variable replaces this, while features replaces the term independent variables. For example, we predict the price of some goods based on the current features of production (e.g. size, temperature). \n",
    "\n",
    "Examples of supervised learning are\n",
    "* regression\n",
    "* classification\n",
    "\n",
    "This week we will look into the machine learning/ prediction side of them. "
   ]
  },
  {
   "cell_type": "markdown",
   "metadata": {},
   "source": [
    "In this week, we will use a library called scikit-learn. Since it is a powerful and large package, we will have to import its submodules like the following: \n",
    "```python\n",
    "from sklearn import ...\n",
    "```\n",
    "\n",
    "These will be mentioned in relevant sections. "
   ]
  },
  {
   "cell_type": "markdown",
   "metadata": {},
   "source": [
    "### But First..."
   ]
  },
  {
   "cell_type": "markdown",
   "metadata": {},
   "source": [
    "Remember from week 7, every data analytics project starts from pre-processing the data. The most common steps are:\n",
    "\n",
    "* Sample the data \n",
    "* Impute missing data\n",
    "* Remove duplicate data\n",
    "* Inconsistent data\n",
    "* Standardise/ normalise numeric value\n",
    "* Reduce dimensionality\n",
    "* Add derived features\n",
    "* Binning numeric value (into categories)\n",
    "* Convert categorical variables into binary variables\n",
    "* Select, combine, aggregate data\n",
    "\n",
    "You must check if the dataset is good for feeding into the machine learning algorithm. This is what we called as __preprocessing__ data. Couple of the methods have been introduced in week 7 and we will talk about some more below (Encoding will be mentioned in classification). "
   ]
  },
  {
   "cell_type": "markdown",
   "metadata": {},
   "source": [
    "### Standardisation, Normalisation"
   ]
  },
  {
   "cell_type": "markdown",
   "metadata": {},
   "source": [
    "Standardisation is one of the methods to make sure the data is within the same scale. For example, the highest and lowest data points are within the same digit. This method particularly ensures data is within a distribution of mean $0$ and standard deviation of $1$. The transformation is the same as z-score as from last week. \n",
    "$$Z\\;=\\;\\frac{X\\;-\\;\\mu}{\\sigma}$$\n",
    "\n",
    "We can standarise the data using `StandardScaler()` from scikit-learn. "
   ]
  },
  {
   "cell_type": "code",
   "execution_count": 1,
   "metadata": {},
   "outputs": [],
   "source": [
    "from sklearn.preprocessing import StandardScaler\n",
    "\n",
    "X = [[1], [2], [3]]\n",
    "scaler = StandardScaler()"
   ]
  },
  {
   "cell_type": "markdown",
   "metadata": {},
   "source": [
    "The same data `X` above we can calculate the mean is 2 with standard deviation of 0.816. We can put this into the equation above. "
   ]
  },
  {
   "cell_type": "markdown",
   "metadata": {},
   "source": [
    "First we need to fit the data. "
   ]
  },
  {
   "cell_type": "code",
   "execution_count": 2,
   "metadata": {},
   "outputs": [
    {
     "data": {
      "text/plain": [
       "StandardScaler()"
      ]
     },
     "execution_count": 2,
     "metadata": {},
     "output_type": "execute_result"
    }
   ],
   "source": [
    "scaler.fit(X)"
   ]
  },
  {
   "cell_type": "markdown",
   "metadata": {},
   "source": [
    "You won't see any outputs, but the `.transform()` is what you are looking for. "
   ]
  },
  {
   "cell_type": "code",
   "execution_count": 3,
   "metadata": {},
   "outputs": [
    {
     "data": {
      "text/plain": [
       "array([[-1.22474487],\n",
       "       [ 0.        ],\n",
       "       [ 1.22474487]])"
      ]
     },
     "execution_count": 3,
     "metadata": {},
     "output_type": "execute_result"
    }
   ],
   "source": [
    "scaler.transform(X)"
   ]
  },
  {
   "cell_type": "markdown",
   "metadata": {},
   "source": [
    "Is it the same as what you calculated with the equation?"
   ]
  },
  {
   "cell_type": "markdown",
   "metadata": {},
   "source": [
    "The other data transformation is called normalisation, which simply means we scale all data within $0$ and $1$. "
   ]
  },
  {
   "cell_type": "code",
   "execution_count": 11,
   "metadata": {},
   "outputs": [],
   "source": [
    "from sklearn import preprocessing"
   ]
  },
  {
   "cell_type": "markdown",
   "metadata": {},
   "source": [
    "We can test this using a sample data that only have $0$ and $1$ and expect they won't change. "
   ]
  },
  {
   "cell_type": "code",
   "execution_count": 8,
   "metadata": {},
   "outputs": [
    {
     "data": {
      "text/plain": [
       "array([[0., 0., 1.]])"
      ]
     },
     "execution_count": 8,
     "metadata": {},
     "output_type": "execute_result"
    }
   ],
   "source": [
    "preprocessing.normalize([[0, 0, 1]])"
   ]
  },
  {
   "cell_type": "markdown",
   "metadata": {},
   "source": [
    "What if we change the highest data point? We can see it will scale back to $1$. "
   ]
  },
  {
   "cell_type": "code",
   "execution_count": 9,
   "metadata": {},
   "outputs": [
    {
     "data": {
      "text/plain": [
       "array([[0., 0., 1.]])"
      ]
     },
     "execution_count": 9,
     "metadata": {},
     "output_type": "execute_result"
    }
   ],
   "source": [
    "preprocessing.normalize([[0, 0, 2]])"
   ]
  },
  {
   "cell_type": "markdown",
   "metadata": {},
   "source": [
    "Finally we can use the data from standardisation (see the structure is different). "
   ]
  },
  {
   "cell_type": "code",
   "execution_count": 10,
   "metadata": {},
   "outputs": [
    {
     "data": {
      "text/plain": [
       "array([[0.26726124, 0.53452248, 0.80178373]])"
      ]
     },
     "execution_count": 10,
     "metadata": {},
     "output_type": "execute_result"
    }
   ],
   "source": [
    "# Run me (and change data to test)\n",
    "preprocessing.normalize([[1, 2, 3]])"
   ]
  },
  {
   "cell_type": "markdown",
   "metadata": {},
   "source": [
    "### Imputation"
   ]
  },
  {
   "cell_type": "markdown",
   "metadata": {},
   "source": [
    "Real data have many places where they are missing. In week 7 we know that this can be patched by __imputation__. This can be done by `SimpleImputer()`. "
   ]
  },
  {
   "cell_type": "code",
   "execution_count": 5,
   "metadata": {},
   "outputs": [],
   "source": [
    "from sklearn.impute import SimpleImputer"
   ]
  },
  {
   "cell_type": "code",
   "execution_count": 6,
   "metadata": {},
   "outputs": [],
   "source": [
    "imp = SimpleImputer()"
   ]
  },
  {
   "cell_type": "markdown",
   "metadata": {},
   "source": [
    "Let us use an example from previous. We have the same first and last data point, but the middle one is left out. "
   ]
  },
  {
   "cell_type": "code",
   "execution_count": 7,
   "metadata": {},
   "outputs": [],
   "source": [
    "import numpy as np\n",
    "\n",
    "X = [[1], [np.nan], [3]]"
   ]
  },
  {
   "cell_type": "markdown",
   "metadata": {},
   "source": [
    "So we try to fit and transform the data as before. "
   ]
  },
  {
   "cell_type": "code",
   "execution_count": 8,
   "metadata": {},
   "outputs": [
    {
     "data": {
      "text/plain": [
       "array([[1.],\n",
       "       [2.],\n",
       "       [3.]])"
      ]
     },
     "execution_count": 8,
     "metadata": {},
     "output_type": "execute_result"
    }
   ],
   "source": [
    "imp.fit(X)\n",
    "\n",
    "imp.transform(X)"
   ]
  },
  {
   "cell_type": "markdown",
   "metadata": {},
   "source": [
    "You can see that the data is filled with $2$. This the mean of the remaining values ($1$ and $3$). We can also choose different strategies such as \n",
    "* mean\n",
    "* median\n",
    "* mode\n",
    "* constant\n",
    "\n",
    "Examples are from [offical docs](https://scikit-learn.org/stable/modules/impute.html#univariate-feature-imputation). "
   ]
  },
  {
   "cell_type": "markdown",
   "metadata": {},
   "source": [
    "## Regression"
   ]
  },
  {
   "cell_type": "markdown",
   "metadata": {},
   "source": [
    "Regression is one of the important examples of supervised learning, and you may have already using them. Regression forms a line (or plane) of predicted objects. When we know all the details of the independent variables, we can calculate the output from this. "
   ]
  },
  {
   "cell_type": "markdown",
   "metadata": {},
   "source": [
    "Let us use an example using below. The left column is the independent variable weight of caught fish this morning and the right hand column is the price that the fish market demands. \n",
    "\n",
    "| Weight (kg) | Price |\n",
    "|-------------|-------|\n",
    "| 10          | 21.5  |\n",
    "| 15          | 31.5  |\n",
    "| 20          | 41.5  |\n",
    "| 22.5        | 46.5  |\n",
    "| 30          | 61.5  |"
   ]
  },
  {
   "cell_type": "markdown",
   "metadata": {},
   "source": [
    "Let us say your boat has caught $10$ kg of fish, you expect to get 21.5 dollars. What if your boat has caught 25 kg fish? You will try to intrapolate between the known data and you will get 51.5 dollars. "
   ]
  },
  {
   "cell_type": "markdown",
   "metadata": {},
   "source": [
    "### Review Regression using Scikit-learn"
   ]
  },
  {
   "cell_type": "markdown",
   "metadata": {},
   "source": [
    "Let us review what we have learnt from last week on regression. In practice, we \n",
    "* create an regression object\n",
    "* create the object for independent and dependent variables\n",
    "* fit the model\n",
    "* predict the values\n",
    "* score the model\n",
    "\n",
    "This time we are using Scikit-learn, a popular package of machine learning. "
   ]
  },
  {
   "cell_type": "markdown",
   "metadata": {},
   "source": [
    "To start, we import the following: "
   ]
  },
  {
   "cell_type": "code",
   "execution_count": 3,
   "metadata": {},
   "outputs": [],
   "source": [
    "# Run this\n",
    "from sklearn import linear_model  # Only sklearn.linear_model to make import faster\n",
    "model = linear_model.LinearRegression()"
   ]
  },
  {
   "cell_type": "markdown",
   "metadata": {},
   "source": [
    "We can use a toy example with simulated data. The following shows a list of 100 data that where $y = 3x\\;+\\;1$. "
   ]
  },
  {
   "cell_type": "code",
   "execution_count": 84,
   "metadata": {},
   "outputs": [
    {
     "name": "stdout",
     "output_type": "stream",
     "text": [
      "β =  [3.]\n",
      "R2 =  1.0\n"
     ]
    }
   ],
   "source": [
    "import random\n",
    "N = 50\n",
    "X = [random.randint(0, 20) for i in range(N)] + [random.randint(0, i) for i in range(random.randint(0, N))]\n",
    "y = [(3*i)+1 for i in X]\n",
    "\n",
    "model_sample = linear_model.LinearRegression()\n",
    "model_sample.fit(np.array(X).reshape(-1, 1), y)\n",
    "print('β = ', model_sample.coef_)\n",
    "print('R2 = ', model_sample.score(np.array(X).reshape(-1, 1), y))"
   ]
  },
  {
   "cell_type": "markdown",
   "metadata": {},
   "source": [
    "We can see the model returns $R^2\\;=\\;1$ because there is no varability in the dependent variable $y$. "
   ]
  },
  {
   "cell_type": "markdown",
   "metadata": {},
   "source": [
    "Now we load the data from week 8. "
   ]
  },
  {
   "cell_type": "code",
   "execution_count": 1,
   "metadata": {},
   "outputs": [],
   "source": [
    "# Run me to load data (from week 8)\n",
    "import pandas as pd\n",
    "\n",
    "data_01 = pd.read_csv('files/LinearRegressionData.csv')"
   ]
  },
  {
   "cell_type": "markdown",
   "metadata": {},
   "source": [
    "Then we start to build the model and fit them. "
   ]
  },
  {
   "cell_type": "code",
   "execution_count": 52,
   "metadata": {},
   "outputs": [
    {
     "name": "stdout",
     "output_type": "stream",
     "text": [
      "β =  [3.33001597]\n",
      "R2 =  0.3088296342529492\n"
     ]
    }
   ],
   "source": [
    "model.fit(data_01['Quantity'].values.reshape(-1,1), data_01['Cost'])\n",
    "print('β = ', model.coef_)\n",
    "print('R2 = ', model.score(data_01['Quantity'].values.reshape(-1,1), data_01['Cost']))"
   ]
  },
  {
   "cell_type": "markdown",
   "metadata": {},
   "source": [
    "This result is similar to from week 8. "
   ]
  },
  {
   "cell_type": "markdown",
   "metadata": {},
   "source": [
    "Next, we will do differently in modelling. Which is to fit a portion of the data first and then test it. Which we will use the metrics in the next section. The method to split data is called test train split, and we will explain this in the classification section later. First we create a new model since the old model has the regression coefficients. "
   ]
  },
  {
   "cell_type": "code",
   "execution_count": 34,
   "metadata": {},
   "outputs": [],
   "source": [
    "model01 = linear_model.LinearRegression()"
   ]
  },
  {
   "cell_type": "code",
   "execution_count": 37,
   "metadata": {},
   "outputs": [],
   "source": [
    "from sklearn.model_selection import train_test_split\n",
    "X_train, X_test, y_train, y_test = train_test_split(data_01['Quantity'], data_01['Cost'], test_size=0.3, train_size=0.7, random_state=1)"
   ]
  },
  {
   "cell_type": "markdown",
   "metadata": {},
   "source": [
    "We can see that the `train_test_split()` has returned 4 objects. First 2 are the training data, which we will put them into the fitting later. We can check see the `X_train` contains the subset of the quantities data. While `y_train` has the price data. "
   ]
  },
  {
   "cell_type": "code",
   "execution_count": 38,
   "metadata": {},
   "outputs": [
    {
     "data": {
      "text/plain": [
       "116    33\n",
       "67      1\n",
       "78     73\n",
       "42     16\n",
       "17      3\n",
       "       ..\n",
       "133    94\n",
       "137    79\n",
       "72     73\n",
       "140    30\n",
       "37     42\n",
       "Name: Quantity, Length: 140, dtype: int64"
      ]
     },
     "execution_count": 38,
     "metadata": {},
     "output_type": "execute_result"
    }
   ],
   "source": [
    "X_train"
   ]
  },
  {
   "cell_type": "code",
   "execution_count": 39,
   "metadata": {},
   "outputs": [
    {
     "data": {
      "text/plain": [
       "116    512.670147\n",
       "67     165.196001\n",
       "78     644.078386\n",
       "42     150.220719\n",
       "17      57.130997\n",
       "          ...    \n",
       "133    339.245619\n",
       "137    281.207685\n",
       "72     337.792600\n",
       "140     26.664128\n",
       "37     232.878788\n",
       "Name: Cost, Length: 140, dtype: float64"
      ]
     },
     "execution_count": 39,
     "metadata": {},
     "output_type": "execute_result"
    }
   ],
   "source": [
    "y_train"
   ]
  },
  {
   "cell_type": "markdown",
   "metadata": {},
   "source": [
    "You can see there are 140 rows in both `X_train` and `y_train`, compared to the full model which has 200 rows. "
   ]
  },
  {
   "cell_type": "markdown",
   "metadata": {},
   "source": [
    "Next we fit the model and print the coefficient. "
   ]
  },
  {
   "cell_type": "code",
   "execution_count": 41,
   "metadata": {},
   "outputs": [
    {
     "data": {
      "text/plain": [
       "array([3.28892762])"
      ]
     },
     "execution_count": 41,
     "metadata": {},
     "output_type": "execute_result"
    }
   ],
   "source": [
    "model01.fit(X_train.values.reshape(-1,1), y_train)\n",
    "model01.coef_"
   ]
  },
  {
   "cell_type": "code",
   "execution_count": 44,
   "metadata": {},
   "outputs": [
    {
     "data": {
      "text/plain": [
       "0.30999441143864004"
      ]
     },
     "execution_count": 44,
     "metadata": {},
     "output_type": "execute_result"
    }
   ],
   "source": [
    "model01.score(X_test.values.reshape(-1,1), y_test)"
   ]
  },
  {
   "cell_type": "markdown",
   "metadata": {},
   "source": [
    "We will store the predicted value, which would be useful from next subsection. "
   ]
  },
  {
   "cell_type": "code",
   "execution_count": 46,
   "metadata": {},
   "outputs": [],
   "source": [
    "y_pred = model01.predict(X_test.values.reshape(-1,1))"
   ]
  },
  {
   "cell_type": "markdown",
   "metadata": {},
   "source": [
    "Unlike `y_test`, this dependent variable value is calculated from `X_test` from the regression model. "
   ]
  },
  {
   "cell_type": "markdown",
   "metadata": {},
   "source": [
    "### Error Metrics"
   ]
  },
  {
   "cell_type": "markdown",
   "metadata": {},
   "source": [
    "In the following we will be looking into the error diagnostics from linear regression. \n",
    "\n",
    "Mean squared error (MAE) is defined as: \n",
    "$$\\operatorname{MAE}\\;=\\;\\frac{\\sum_i^n\\left\\vert y_i\\;-\\;x_i\\right\\vert}{n}$$\n",
    "\n",
    "Mean squared error (MSE) is defined as: \n",
    "$$\\operatorname{MSE}\\;=\\;\\frac{\\sum_i^n\\left(y_i\\;-\\;\\hat{y_i}\\right)^2}{n}$$\n",
    "\n",
    "Root mean square error (RMSE) is defined as: \n",
    "$$\\operatorname{RMSE}\\;=\\;\\sqrt{\\frac{\\sum_i^n\\left(y_i\\;-\\;\\hat{y_i}\\right)^2}{n}}$$"
   ]
  },
  {
   "cell_type": "code",
   "execution_count": 33,
   "metadata": {},
   "outputs": [],
   "source": [
    "from sklearn.metrics import mean_absolute_error,mean_squared_error,root_mean_squared_error"
   ]
  },
  {
   "cell_type": "code",
   "execution_count": 47,
   "metadata": {},
   "outputs": [
    {
     "data": {
      "text/plain": [
       "142.5992804196821"
      ]
     },
     "execution_count": 47,
     "metadata": {},
     "output_type": "execute_result"
    }
   ],
   "source": [
    "mean_absolute_error(y_test,y_pred)"
   ]
  },
  {
   "cell_type": "code",
   "execution_count": 53,
   "metadata": {},
   "outputs": [
    {
     "data": {
      "text/plain": [
       "28207.975785500483"
      ]
     },
     "execution_count": 53,
     "metadata": {},
     "output_type": "execute_result"
    }
   ],
   "source": [
    "mean_squared_error(y_test,y_pred)"
   ]
  },
  {
   "cell_type": "code",
   "execution_count": 54,
   "metadata": {},
   "outputs": [
    {
     "data": {
      "text/plain": [
       "167.95230211432198"
      ]
     },
     "execution_count": 54,
     "metadata": {},
     "output_type": "execute_result"
    }
   ],
   "source": [
    "root_mean_squared_error(y_test,y_pred)"
   ]
  },
  {
   "cell_type": "markdown",
   "metadata": {},
   "source": [
    "How do we interpret this? One way is to observe the values in the costs. Which is around \\\\$50 to \\\\$500. Mean squared error of \\\\$142.60 is quite big compared to the costs values observed. The root mean square error provides a similar value than the mean squared error. It is saying that on average there are around \\\\$142.60 to \\\\$167.95 difference to the real predicted cost. Since it has the same or bigger magnitude to the costs, it means the model is not performing well. "
   ]
  },
  {
   "cell_type": "markdown",
   "metadata": {},
   "source": [
    "Often these error metrics are used when we have multiple models and use this to compare. It could mean more columns are added or removed, or the data are cleaned, or a new regression method is introduced. We then use these to benchmark the models. "
   ]
  },
  {
   "cell_type": "markdown",
   "metadata": {},
   "source": [
    "### Ridge, Lasso and ElasticNet (Optional)"
   ]
  },
  {
   "cell_type": "markdown",
   "metadata": {},
   "source": [
    "This week we will talk about serveral important linear regression algorithms. In mutiple regression, we are trying to find a line that has the least distance from all the data points. This is what is called fitting the data. Sometimes we may see the data does not have a linear relationship, or they autocorrelate and the line tries to fit them. If we include outliers or make the model with too many parameters (i.e. complex) then it may overfit. When new data comes in then the regression line does not predict them well because it considers too much of the outiers or did not encounter the real trend of data. "
   ]
  },
  {
   "cell_type": "markdown",
   "metadata": {},
   "source": [
    "This is where the ridge, lasso and ElasticNet comes in. They try to smooth the regression line or minimise the highly correlated parameters. We will look into how they work in coding. First, let us create the data from it. To make it non-linear, the dependent variable is a sine curve of the first independent variable. "
   ]
  },
  {
   "cell_type": "code",
   "execution_count": 33,
   "metadata": {},
   "outputs": [
    {
     "data": {
      "text/plain": [
       "<AxesSubplot:>"
      ]
     },
     "execution_count": 33,
     "metadata": {},
     "output_type": "execute_result"
    },
    {
     "data": {
      "image/png": "[encoded data removed]",
      "text/plain": [
       "<Figure size 432x288 with 2 Axes>"
      ]
     },
     "metadata": {
      "needs_background": "light"
     },
     "output_type": "display_data"
    }
   ],
   "source": [
    "import numpy as np\n",
    "import pandas as pd\n",
    "\n",
    "import scipy.stats as stats\n",
    "\n",
    "import seaborn as sns\n",
    "\n",
    "N = 45\n",
    "\n",
    "X_1 = stats.uniform.rvs(loc=0, scale=3, size=N)\n",
    "X_2 = X_1 + stats.norm.rvs(loc=1, scale=0.05, size=N)\n",
    "X_3 = X_1 ** 3\n",
    "X_4 = 1.5 * X_1\n",
    "X_5 = X_1 + X_3\n",
    "X_6 = X_1 * stats.norm.rvs(loc=1, scale=0.05, size=N)\n",
    "\n",
    "X = pd.DataFrame({\"X_1\": X_1, \"X_2\": X_2, \"X_3\": X_3, \"X_4\": X_4, \"X_5\": X_5, \"X_6\": X_6})\n",
    "y = 2 * np.sin(X_1) + np.sin(stats.norm.rvs(loc=0, scale=0.5, size=N))\n",
    "\n",
    "sns.heatmap(X.corr())"
   ]
  },
  {
   "cell_type": "markdown",
   "metadata": {},
   "source": [
    "As you can see from the heatmap all independent variables are highly correlated. "
   ]
  },
  {
   "cell_type": "markdown",
   "metadata": {},
   "source": [
    "Now let us create an (ordinary) linear regression model. "
   ]
  },
  {
   "cell_type": "code",
   "execution_count": 34,
   "metadata": {},
   "outputs": [],
   "source": [
    "from sklearn import linear_model\n",
    "m0 = linear_model.LinearRegression()\n",
    "results_m0 = m0.fit(X, y)"
   ]
  },
  {
   "cell_type": "markdown",
   "metadata": {},
   "source": [
    "If we plot the model against one of the independent variables, we should find the line is very zig zag. That is because the random fluctuations come from fitting with other independent variables. "
   ]
  },
  {
   "cell_type": "code",
   "execution_count": 35,
   "metadata": {},
   "outputs": [
    {
     "data": {
      "image/png": "[encoded data removed]",
      "text/plain": [
       "<Figure size 432x288 with 1 Axes>"
      ]
     },
     "metadata": {
      "needs_background": "light"
     },
     "output_type": "display_data"
    }
   ],
   "source": [
    "import matplotlib.pyplot as plt\n",
    "\n",
    "plt.figure()\n",
    "plt.scatter(X_1, y)\n",
    "plt.plot(np.sort(X_1), m0.predict(X.sort_values(by='X_1')), c='orange')\n",
    "plt.xlabel('X_1')\n",
    "plt.ylabel('y')\n",
    "plt.show()"
   ]
  },
  {
   "cell_type": "markdown",
   "metadata": {},
   "source": [
    "So the $R^2$ and coefficients of the OLS is. "
   ]
  },
  {
   "cell_type": "code",
   "execution_count": 36,
   "metadata": {},
   "outputs": [
    {
     "data": {
      "text/plain": [
       "0.5626844327842466"
      ]
     },
     "execution_count": 36,
     "metadata": {},
     "output_type": "execute_result"
    }
   ],
   "source": [
    "results_m0.score(X, y)"
   ]
  },
  {
   "cell_type": "code",
   "execution_count": 37,
   "metadata": {
    "scrolled": true
   },
   "outputs": [
    {
     "name": "stdout",
     "output_type": "stream",
     "text": [
      "[ 0.84682512 -0.0899066  -0.51547211  1.27023768  0.33135301 -1.40560802] 0.3697679611482665\n"
     ]
    }
   ],
   "source": [
    "print(results_m0.coef_, results_m0.intercept_)"
   ]
  },
  {
   "cell_type": "markdown",
   "metadata": {},
   "source": [
    "Ridge regression tries to shrink the coefficients to the population mean, so that outliers or data with autocorrelation won't be affecting the regression too much. This can be done by a shrinkage coefficient $\\alpha$ in the ridge regression and scikit-learn has a parameter for this. "
   ]
  },
  {
   "cell_type": "code",
   "execution_count": 38,
   "metadata": {},
   "outputs": [],
   "source": [
    "m1 = linear_model.Ridge(alpha=0.5).fit(X, y)"
   ]
  },
  {
   "cell_type": "code",
   "execution_count": 39,
   "metadata": {},
   "outputs": [
    {
     "data": {
      "text/plain": [
       "0.5465691907055142"
      ]
     },
     "execution_count": 39,
     "metadata": {},
     "output_type": "execute_result"
    }
   ],
   "source": [
    "m1.score(X, y)"
   ]
  },
  {
   "cell_type": "code",
   "execution_count": 40,
   "metadata": {
    "scrolled": true
   },
   "outputs": [
    {
     "name": "stdout",
     "output_type": "stream",
     "text": [
      "[ 0.36777126  0.2908886  -0.26621966  0.55165689  0.1015516  -0.13275862] 0.05959359373779227\n"
     ]
    }
   ],
   "source": [
    "print(m1.coef_, m1.intercept_)"
   ]
  },
  {
   "cell_type": "markdown",
   "metadata": {},
   "source": [
    "What does the shrinkage coefficient do? They smooth out the regression line to the middle of the scatter dots as below. We can see at higher values, the regression line becomes more smoother. However, it can become unfitted with the data if too smooth, such as $\\alpha\\;=\\;100$. "
   ]
  },
  {
   "cell_type": "code",
   "execution_count": 41,
   "metadata": {},
   "outputs": [
    {
     "name": "stderr",
     "output_type": "stream",
     "text": [
      "C:\\Users\\jy191\\AppData\\Local\\Temp/ipykernel_11232/3233258672.py:19: UserWarning: Matplotlib is currently using module://matplotlib_inline.backend_inline, which is a non-GUI backend, so cannot show the figure.\n",
      "  fig.show()\n"
     ]
    },
    {
     "data": {
      "image/png": "[encoded data removed]",
      "text/plain": [
       "<Figure size 1080x1080 with 12 Axes>"
      ]
     },
     "metadata": {
      "needs_background": "light"
     },
     "output_type": "display_data"
    }
   ],
   "source": [
    "import matplotlib.pyplot as plt\n",
    "\n",
    "alpha_ridge = [0, 1e-10, 1e-8, 1e-5, 1e-4, 1e-3, 0.1, 1, 5, 10, 50, 100]\n",
    "\n",
    "fig, ax = plt.subplots(6, 2,figsize=(15,15))\n",
    "row_no = 0\n",
    "col_no = 0\n",
    "\n",
    "for row in ax:\n",
    "    col_no = 0\n",
    "    for col in row:\n",
    "        col.title.set_text(f'alpha = {alpha_ridge[row_no * 2 + col_no]}')\n",
    "        col.scatter(X_1, y)\n",
    "        col.plot(np.sort(X_1), linear_model.Ridge(alpha=alpha_ridge[row_no * 2 + col_no]).fit(X, y).predict(X.sort_values(by='X_1')), c='orange')\n",
    "        col_no += 1\n",
    "    row_no += 1\n",
    "    \n",
    "fig.tight_layout()\n",
    "fig.show()"
   ]
  },
  {
   "cell_type": "markdown",
   "metadata": {},
   "source": [
    "The other type of regression is called Lasso regression, it tries to shrink independent variables that are insignificant. To see that we need the help of `statsmodels` from last week. "
   ]
  },
  {
   "cell_type": "code",
   "execution_count": 49,
   "metadata": {},
   "outputs": [
    {
     "name": "stderr",
     "output_type": "stream",
     "text": [
      "C:\\Users\\jy191\\Anaconda3\\lib\\site-packages\\statsmodels\\tsa\\tsatools.py:142: FutureWarning: In a future version of pandas all arguments of concat except for the argument 'objs' will be keyword-only\n",
      "  x = pd.concat(x[::order], 1)\n"
     ]
    },
    {
     "data": {
      "text/html": [
       "<table class=\"simpletable\">\n",
       "<caption>OLS Regression Results</caption>\n",
       "<tr>\n",
       "  <th>Dep. Variable:</th>            <td>y</td>        <th>  R-squared:         </th> <td>   0.563</td>\n",
       "</tr>\n",
       "<tr>\n",
       "  <th>Model:</th>                   <td>OLS</td>       <th>  Adj. R-squared:    </th> <td>   0.519</td>\n",
       "</tr>\n",
       "<tr>\n",
       "  <th>Method:</th>             <td>Least Squares</td>  <th>  F-statistic:       </th> <td>   12.87</td>\n",
       "</tr>\n",
       "<tr>\n",
       "  <th>Date:</th>             <td>Sat, 19 Feb 2022</td> <th>  Prob (F-statistic):</th> <td>8.02e-07</td>\n",
       "</tr>\n",
       "<tr>\n",
       "  <th>Time:</th>                 <td>14:56:33</td>     <th>  Log-Likelihood:    </th> <td> -29.501</td>\n",
       "</tr>\n",
       "<tr>\n",
       "  <th>No. Observations:</th>      <td>    45</td>      <th>  AIC:               </th> <td>   69.00</td>\n",
       "</tr>\n",
       "<tr>\n",
       "  <th>Df Residuals:</th>          <td>    40</td>      <th>  BIC:               </th> <td>   78.03</td>\n",
       "</tr>\n",
       "<tr>\n",
       "  <th>Df Model:</th>              <td>     4</td>      <th>                     </th>     <td> </td>   \n",
       "</tr>\n",
       "<tr>\n",
       "  <th>Covariance Type:</th>      <td>nonrobust</td>    <th>                     </th>     <td> </td>   \n",
       "</tr>\n",
       "</table>\n",
       "<table class=\"simpletable\">\n",
       "<tr>\n",
       "    <td></td>       <th>coef</th>     <th>std err</th>      <th>t</th>      <th>P>|t|</th>  <th>[0.025</th>    <th>0.975]</th>  \n",
       "</tr>\n",
       "<tr>\n",
       "  <th>const</th> <td>    0.3698</td> <td>    1.374</td> <td>    0.269</td> <td> 0.789</td> <td>   -2.406</td> <td>    3.146</td>\n",
       "</tr>\n",
       "<tr>\n",
       "  <th>X_1</th>   <td>    0.8468</td> <td>    0.497</td> <td>    1.702</td> <td> 0.096</td> <td>   -0.159</td> <td>    1.852</td>\n",
       "</tr>\n",
       "<tr>\n",
       "  <th>X_2</th>   <td>   -0.0899</td> <td>    1.378</td> <td>   -0.065</td> <td> 0.948</td> <td>   -2.875</td> <td>    2.696</td>\n",
       "</tr>\n",
       "<tr>\n",
       "  <th>X_3</th>   <td>   -0.5155</td> <td>    0.255</td> <td>   -2.020</td> <td> 0.050</td> <td>   -1.031</td> <td>    0.000</td>\n",
       "</tr>\n",
       "<tr>\n",
       "  <th>X_4</th>   <td>    1.2702</td> <td>    0.746</td> <td>    1.702</td> <td> 0.096</td> <td>   -0.238</td> <td>    2.778</td>\n",
       "</tr>\n",
       "<tr>\n",
       "  <th>X_5</th>   <td>    0.3314</td> <td>    0.243</td> <td>    1.364</td> <td> 0.180</td> <td>   -0.160</td> <td>    0.822</td>\n",
       "</tr>\n",
       "<tr>\n",
       "  <th>X_6</th>   <td>   -1.4056</td> <td>    1.079</td> <td>   -1.302</td> <td> 0.200</td> <td>   -3.587</td> <td>    0.776</td>\n",
       "</tr>\n",
       "</table>\n",
       "<table class=\"simpletable\">\n",
       "<tr>\n",
       "  <th>Omnibus:</th>       <td> 0.563</td> <th>  Durbin-Watson:     </th> <td>   2.831</td>\n",
       "</tr>\n",
       "<tr>\n",
       "  <th>Prob(Omnibus):</th> <td> 0.755</td> <th>  Jarque-Bera (JB):  </th> <td>   0.673</td>\n",
       "</tr>\n",
       "<tr>\n",
       "  <th>Skew:</th>          <td> 0.113</td> <th>  Prob(JB):          </th> <td>   0.714</td>\n",
       "</tr>\n",
       "<tr>\n",
       "  <th>Kurtosis:</th>      <td> 2.445</td> <th>  Cond. No.          </th> <td>7.14e+16</td>\n",
       "</tr>\n",
       "</table><br/><br/>Notes:<br/>[1] Standard Errors assume that the covariance matrix of the errors is correctly specified.<br/>[2] The smallest eigenvalue is 1.98e-30. This might indicate that there are<br/>strong multicollinearity problems or that the design matrix is singular."
      ],
      "text/plain": [
       "<class 'statsmodels.iolib.summary.Summary'>\n",
       "\"\"\"\n",
       "                            OLS Regression Results                            \n",
       "==============================================================================\n",
       "Dep. Variable:                      y   R-squared:                       0.563\n",
       "Model:                            OLS   Adj. R-squared:                  0.519\n",
       "Method:                 Least Squares   F-statistic:                     12.87\n",
       "Date:                Sat, 19 Feb 2022   Prob (F-statistic):           8.02e-07\n",
       "Time:                        14:56:33   Log-Likelihood:                -29.501\n",
       "No. Observations:                  45   AIC:                             69.00\n",
       "Df Residuals:                      40   BIC:                             78.03\n",
       "Df Model:                           4                                         \n",
       "Covariance Type:            nonrobust                                         \n",
       "==============================================================================\n",
       "                 coef    std err          t      P>|t|      [0.025      0.975]\n",
       "------------------------------------------------------------------------------\n",
       "const          0.3698      1.374      0.269      0.789      -2.406       3.146\n",
       "X_1            0.8468      0.497      1.702      0.096      -0.159       1.852\n",
       "X_2           -0.0899      1.378     -0.065      0.948      -2.875       2.696\n",
       "X_3           -0.5155      0.255     -2.020      0.050      -1.031       0.000\n",
       "X_4            1.2702      0.746      1.702      0.096      -0.238       2.778\n",
       "X_5            0.3314      0.243      1.364      0.180      -0.160       0.822\n",
       "X_6           -1.4056      1.079     -1.302      0.200      -3.587       0.776\n",
       "==============================================================================\n",
       "Omnibus:                        0.563   Durbin-Watson:                   2.831\n",
       "Prob(Omnibus):                  0.755   Jarque-Bera (JB):                0.673\n",
       "Skew:                           0.113   Prob(JB):                        0.714\n",
       "Kurtosis:                       2.445   Cond. No.                     7.14e+16\n",
       "==============================================================================\n",
       "\n",
       "Notes:\n",
       "[1] Standard Errors assume that the covariance matrix of the errors is correctly specified.\n",
       "[2] The smallest eigenvalue is 1.98e-30. This might indicate that there are\n",
       "strong multicollinearity problems or that the design matrix is singular.\n",
       "\"\"\""
      ]
     },
     "execution_count": 49,
     "metadata": {},
     "output_type": "execute_result"
    }
   ],
   "source": [
    "import statsmodels.api as sm\n",
    "\n",
    "X_sm = sm.add_constant(X)\n",
    "model = sm.OLS(y, X_sm)\n",
    "\n",
    "model.fit().summary()"
   ]
  },
  {
   "cell_type": "markdown",
   "metadata": {},
   "source": [
    "We can see that `X_1`, `X_3` and `X_4` are more significant than others. So the these parameters will survive while others go to zero. "
   ]
  },
  {
   "cell_type": "code",
   "execution_count": 123,
   "metadata": {},
   "outputs": [],
   "source": [
    "m2 = linear_model.Lasso(alpha=0.1).fit(X, y)"
   ]
  },
  {
   "cell_type": "code",
   "execution_count": 124,
   "metadata": {},
   "outputs": [
    {
     "data": {
      "text/plain": [
       "0.44439781271256884"
      ]
     },
     "execution_count": 124,
     "metadata": {},
     "output_type": "execute_result"
    }
   ],
   "source": [
    "m2.score(X, y)"
   ]
  },
  {
   "cell_type": "code",
   "execution_count": 125,
   "metadata": {
    "scrolled": true
   },
   "outputs": [
    {
     "name": "stdout",
     "output_type": "stream",
     "text": [
      "[ 0.          0.         -0.09514315  0.56678466 -0.          0.        ] 0.7610082235646574\n"
     ]
    }
   ],
   "source": [
    "print(m2.coef_, m2.intercept_)"
   ]
  },
  {
   "cell_type": "markdown",
   "metadata": {},
   "source": [
    "In above, we found that only `X_3` and `X_4` survives. Lasso regression tends to penalise those that are insignificant or autocorrelated. `X_1` did not survive, one reason could be because the coefficient from OLS is already low, and by shrinking them it will falls to 0 easily. "
   ]
  },
  {
   "cell_type": "markdown",
   "metadata": {},
   "source": [
    "The final model to be introduced is the ElasticNet. This is the combination of ridge and lasso. "
   ]
  },
  {
   "cell_type": "code",
   "execution_count": 45,
   "metadata": {},
   "outputs": [],
   "source": [
    "m3 = linear_model.ElasticNet().fit(X, y)"
   ]
  },
  {
   "cell_type": "code",
   "execution_count": 46,
   "metadata": {},
   "outputs": [
    {
     "data": {
      "text/plain": [
       "0.0"
      ]
     },
     "execution_count": 46,
     "metadata": {},
     "output_type": "execute_result"
    }
   ],
   "source": [
    "m3.score(X, y)"
   ]
  },
  {
   "cell_type": "code",
   "execution_count": 47,
   "metadata": {
    "scrolled": true
   },
   "outputs": [
    {
     "name": "stdout",
     "output_type": "stream",
     "text": [
      "[ 0.  0. -0.  0.  0.  0.] 1.352609725976779\n"
     ]
    }
   ],
   "source": [
    "print(m3.coef_, m3.intercept_)"
   ]
  },
  {
   "cell_type": "markdown",
   "metadata": {},
   "source": [
    "Let's compare the 3 models with their $R^2$ score. "
   ]
  },
  {
   "cell_type": "code",
   "execution_count": 48,
   "metadata": {
    "scrolled": true
   },
   "outputs": [
    {
     "data": {
      "text/plain": [
       "(0.5626844327842466, 0.5465691907055142, 0.44439781271256884, 0.0)"
      ]
     },
     "execution_count": 48,
     "metadata": {},
     "output_type": "execute_result"
    }
   ],
   "source": [
    "m0.score(X, y), m1.score(X, y), m2.score(X, y), m3.score(X, y)"
   ]
  },
  {
   "cell_type": "markdown",
   "metadata": {
    "solution2": "hidden",
    "solution2_first": true
   },
   "source": [
    "__Exercise:__ When you finish the exercises in the classification section. Do a \n",
    "\n",
    "* (ordinary) linear regression\n",
    "* ridge regression\n",
    "* Lasso regression\n",
    "* ElasticNet regression\n",
    "\n",
    "with the full model and discuss the scores. "
   ]
  },
  {
   "cell_type": "markdown",
   "metadata": {
    "solution2": "hidden"
   },
   "source": [
    "__Solution:__ \n",
    "\n",
    "The scores are \n",
    "\n",
    "|            | Score       |\n",
    "|------------|-------------|\n",
    "| Ordinary   | 0.612906273 |\n",
    "| Ridge      | 0.612906262 |\n",
    "| Lasso      | 0.612906259 |\n",
    "| ElasticNet | 0.516920054 |\n",
    "\n",
    "Generally this sees a decrease in quality of model. The reason why that the newer models does not outperform the ordinary ones is where \n",
    "\n",
    "* the features are not correlated to each other\n",
    "* The number of data points are sufficiently large compared to number of features. \n",
    "\n",
    "__Code:__\n",
    "```python\n",
    "import pandas as pd\n",
    "from sklearn import linear_model\n",
    "from sklearn import preprocessing\n",
    "\n",
    "df = pd.read_csv('census_ind.csv',index_col='ID')\n",
    "\n",
    "X = df.drop(columns='Salary')\n",
    "y = df['Salary']\n",
    "\n",
    "le = preprocessing.LabelEncoder()\n",
    "le.fit(df['Gender'])\n",
    "X['Gender'] = le.transform(df['Gender'])\n",
    "\n",
    "le = preprocessing.LabelEncoder()\n",
    "le.fit(df['Ethnic'])\n",
    "X['Ethnic'] = le.transform(df['Ethnic'])\n",
    "\n",
    "le = preprocessing.LabelEncoder()\n",
    "le.fit(df['Religion'])\n",
    "X['Religion'] = le.transform(df['Religion'])\n",
    "\n",
    "le = preprocessing.LabelEncoder()\n",
    "le.fit(df['Citizen'])\n",
    "X['Citizen'] = le.transform(df['Citizen'])\n",
    "\n",
    "le = preprocessing.LabelEncoder()\n",
    "le.fit(df['Maternity'])\n",
    "X['Maternity'] = le.transform(df['Maternity'])\n",
    "\n",
    "le = preprocessing.LabelEncoder()\n",
    "le.fit(df['Working'])\n",
    "X['Working'] = le.transform(df['Working'])\n",
    "\n",
    "le = preprocessing.LabelEncoder()\n",
    "le.fit(df['Finding Work'])\n",
    "X['Finding Work'] = le.transform(df['Finding Work'])\n",
    "\n",
    "le = preprocessing.LabelEncoder()\n",
    "le.fit(df['Care of Children'])\n",
    "X['Care of Children'] = le.transform(df['Care of Children'])\n",
    "\n",
    "le = preprocessing.LabelEncoder()\n",
    "le.fit(df['Care of Family'])\n",
    "X['Care of Family'] = le.transform(df['Care of Family'])\n",
    "\n",
    "le = preprocessing.LabelEncoder()\n",
    "le.fit(df['Self Employed'])\n",
    "X['Self Employed'] = le.transform(df['Self Employed'])\n",
    "\n",
    "le = preprocessing.LabelEncoder()\n",
    "le.fit(df['Owned Entity'])\n",
    "X['Owned Entity'] = le.transform(df['Owned Entity'])\n",
    "\n",
    "le = preprocessing.LabelEncoder()\n",
    "le.fit(df['Home Internet'])\n",
    "X['Home Internet'] = le.transform(df['Home Internet'])\n",
    "\n",
    "le = preprocessing.LabelEncoder()\n",
    "le.fit(df['Dwell Type'])\n",
    "X['Dwell Type'] = le.transform(df['Dwell Type'])\n",
    "\n",
    "\n",
    "# OLS\n",
    "print(linear_model.LinearRegression().fit(X, y).score(X, y))\n",
    "# Ridge\n",
    "print(linear_model.Ridge(alpha=0.5).fit(X, y).score(X, y))\n",
    "# Lasso\n",
    "print(linear_model.Lasso(alpha=0.1).fit(X, y).score(X, y))\n",
    "# ElasticNet\n",
    "print(linear_model.ElasticNet().fit(X, y).score(X, y))\n",
    "\n",
    "```"
   ]
  },
  {
   "cell_type": "markdown",
   "metadata": {},
   "source": [
    "## Classification"
   ]
  },
  {
   "cell_type": "markdown",
   "metadata": {},
   "source": [
    "Classification is another way to predict data, and the target variable is categorical. There are many algorithms that predicts the categorical varibles: \n",
    "\n",
    "* Logistic Regression\n",
    "* Naive Bayes\n",
    "* Stochastic Gradient Descent\n",
    "* Decision Tree\n",
    "* Random Forest\n",
    "* Support Vector Machine\n",
    "\n",
    "There are many of them and they are suited for different types of data. We can find out which one is the most suitable for us from the [scikit-learn](https://scikit-learn.org/stable/tutorial/machine_learning_map/index.html). "
   ]
  },
  {
   "cell_type": "markdown",
   "metadata": {},
   "source": [
    "### Example: Interpreting Results using Logistic Regression"
   ]
  },
  {
   "cell_type": "markdown",
   "metadata": {},
   "source": [
    "Logistic regression is one of the easiest examples for classification. Remember from week 8 that we use a signoid curve to decide if something is a \"yes\" while others are a \"no\"? This is the basis of all the classification algorithm, we use a function and a criteria to cut the fine line of decisions. "
   ]
  },
  {
   "cell_type": "markdown",
   "metadata": {},
   "source": [
    "This time we revisit logistic regression in the sense of decision making. This week we will use a (synthetic) dataset that contains individual information. The EDA is done in `census_ind.csv` in the `files` folder. Please have a look before starting this week's exercise. "
   ]
  },
  {
   "cell_type": "markdown",
   "metadata": {},
   "source": [
    "So let's import the data. "
   ]
  },
  {
   "cell_type": "code",
   "execution_count": 23,
   "metadata": {},
   "outputs": [],
   "source": [
    "import pandas as pd\n",
    "df = pd.read_csv('files/census_ind.csv',index_col='ID')"
   ]
  },
  {
   "cell_type": "markdown",
   "metadata": {},
   "source": [
    "The first exercise will look at $2$ independent variables and how they predict the personis working or not. "
   ]
  },
  {
   "cell_type": "code",
   "execution_count": 24,
   "metadata": {},
   "outputs": [],
   "source": [
    "X = df[['Hours of Work', 'Volunteered Hours']]\n",
    "y = df['Working']"
   ]
  },
  {
   "cell_type": "markdown",
   "metadata": {},
   "source": [
    "Now let us construct the model. "
   ]
  },
  {
   "cell_type": "code",
   "execution_count": 4,
   "metadata": {},
   "outputs": [],
   "source": [
    "from sklearn import linear_model\n",
    "log_m = linear_model.LogisticRegression().fit(X, y)"
   ]
  },
  {
   "cell_type": "markdown",
   "metadata": {},
   "source": [
    "Also the score the model. "
   ]
  },
  {
   "cell_type": "code",
   "execution_count": 5,
   "metadata": {
    "scrolled": true
   },
   "outputs": [
    {
     "data": {
      "text/plain": [
       "1.0"
      ]
     },
     "execution_count": 5,
     "metadata": {},
     "output_type": "execute_result"
    }
   ],
   "source": [
    "log_m.score(X, y)"
   ]
  },
  {
   "cell_type": "markdown",
   "metadata": {},
   "source": [
    "It shows that by knowing hours of work and how long they volunteer in life we can know their work status. This is a danger to us because when new data comes in, it often does not fit with the explanation. Nevertheless, we shall predict the data. "
   ]
  },
  {
   "cell_type": "code",
   "execution_count": 6,
   "metadata": {
    "scrolled": true
   },
   "outputs": [
    {
     "data": {
      "text/plain": [
       "array(['Yes', 'Yes', 'Yes', ..., 'No', 'Yes', 'No'], dtype=object)"
      ]
     },
     "execution_count": 6,
     "metadata": {},
     "output_type": "execute_result"
    }
   ],
   "source": [
    "log_m.predict(X)"
   ]
  },
  {
   "cell_type": "markdown",
   "metadata": {},
   "source": [
    "The key of this exercise is we are going to plot the data and their decision. Our plan is\n",
    "* The independent variables belong to both axes of plot. \n",
    "* We colour the data with the decision made by logistic regression. "
   ]
  },
  {
   "cell_type": "markdown",
   "metadata": {},
   "source": [
    "But the plot function does not like strings from the dependent variable, so we will encode them. This is done by `sklearn.preprocessing.LabelEncoder()`. "
   ]
  },
  {
   "cell_type": "code",
   "execution_count": 10,
   "metadata": {},
   "outputs": [],
   "source": [
    "from sklearn.preprocessing import LabelEncoder\n",
    "\n",
    "le = LabelEncoder()\n",
    "le.fit(df['Working'])\n",
    "y = le.transform(df['Working'])"
   ]
  },
  {
   "cell_type": "code",
   "execution_count": 11,
   "metadata": {},
   "outputs": [
    {
     "name": "stderr",
     "output_type": "stream",
     "text": [
      "C:\\Users\\John Yeung\\anaconda3\\lib\\site-packages\\sklearn\\base.py:493: UserWarning: X does not have valid feature names, but LogisticRegression was fitted with feature names\n",
      "  warnings.warn(\n"
     ]
    },
    {
     "data": {
      "image/png": "[encoded data removed]",
      "text/plain": [
       "<Figure size 640x480 with 1 Axes>"
      ]
     },
     "metadata": {},
     "output_type": "display_data"
    }
   ],
   "source": [
    "import numpy as np\n",
    "import matplotlib.pyplot as plt\n",
    "\n",
    "plt.figure()\n",
    "plt.scatter(X['Hours of Work'], X['Volunteered Hours'], c=y)\n",
    "\n",
    "# Get decision boundary\n",
    "xx, yy = np.mgrid[-1:60:.01, -1:21:.01]   # Create an empty grid\n",
    "grid = np.c_[xx.ravel(), yy.ravel()]      # Flatten the array\n",
    "probs = log_m.predict_proba(grid)[:, 1].reshape(xx.shape)\n",
    "plt.contour(xx, yy, probs, levels=[.5], cmap=\"Greys\", vmin=0, vmax=1)\n",
    "\n",
    "plt.xlabel('Hours of Work')\n",
    "plt.ylabel('Volunteered Hours')\n",
    "plt.show()"
   ]
  },
  {
   "cell_type": "markdown",
   "metadata": {},
   "source": [
    "We can see from the plot above where the decision is made from the grey line. This is where the logistic regression line stays at $0.5$. The model is slightly not realistic when we know a person is working or not is when hours of work is less than $0$. The grey line is too above from this.  "
   ]
  },
  {
   "cell_type": "markdown",
   "metadata": {},
   "source": [
    "### Example: Getting Started with Logistic Regression"
   ]
  },
  {
   "cell_type": "markdown",
   "metadata": {},
   "source": [
    "There are many classification algorithms and one main focus this week is to introduce some of the main ones. Let us start with logistic regression and we will use the same dataset for all these exercises. Which we will classify whether a person earns 50000 dollars. "
   ]
  },
  {
   "cell_type": "code",
   "execution_count": 25,
   "metadata": {},
   "outputs": [],
   "source": [
    "X = df.drop(columns=['Salary'])\n",
    "y = df['Salary'] > 50000"
   ]
  },
  {
   "cell_type": "markdown",
   "metadata": {},
   "source": [
    "Logistic regression requires all columns are numerical, so we will need to encode them. "
   ]
  },
  {
   "cell_type": "code",
   "execution_count": 26,
   "metadata": {},
   "outputs": [],
   "source": [
    "from sklearn.preprocessing import LabelEncoder\n",
    "\n",
    "encode_cols = ['Gender', 'Ethnic', 'Religion', 'Citizen', 'Maternity', 'Working', 'Finding Work', 'Care of Children', 'Care of Family', 'Self Employed', 'Owned Entity', 'Dwell Type', 'Home Internet']\n",
    "\n",
    "for col in encode_cols: \n",
    "    le = preprocessing.LabelEncoder()\n",
    "    le.fit(df[col])\n",
    "    X[col] = le.transform(df[col])"
   ]
  },
  {
   "cell_type": "markdown",
   "metadata": {},
   "source": [
    "Now let us fit the data. "
   ]
  },
  {
   "cell_type": "code",
   "execution_count": 14,
   "metadata": {
    "scrolled": true
   },
   "outputs": [
    {
     "name": "stderr",
     "output_type": "stream",
     "text": [
      "C:\\Users\\John Yeung\\anaconda3\\lib\\site-packages\\sklearn\\linear_model\\_logistic.py:469: ConvergenceWarning: lbfgs failed to converge (status=1):\n",
      "STOP: TOTAL NO. of ITERATIONS REACHED LIMIT.\n",
      "\n",
      "Increase the number of iterations (max_iter) or scale the data as shown in:\n",
      "    https://scikit-learn.org/stable/modules/preprocessing.html\n",
      "Please also refer to the documentation for alternative solver options:\n",
      "    https://scikit-learn.org/stable/modules/linear_model.html#logistic-regression\n",
      "  n_iter_i = _check_optimize_result(\n"
     ]
    }
   ],
   "source": [
    "log_m1 = linear_model.LogisticRegression().fit(X, y)"
   ]
  },
  {
   "cell_type": "code",
   "execution_count": 15,
   "metadata": {},
   "outputs": [
    {
     "data": {
      "text/plain": [
       "0.9648524744328201"
      ]
     },
     "execution_count": 15,
     "metadata": {},
     "output_type": "execute_result"
    }
   ],
   "source": [
    "log_m1.score(X, y)"
   ]
  },
  {
   "cell_type": "code",
   "execution_count": 16,
   "metadata": {},
   "outputs": [
    {
     "data": {
      "text/plain": [
       "array([[ 0.01558166,  0.00723355, -0.00272354, -0.02584846, -0.02537293,\n",
       "        -0.01662209, -0.00083711, -0.02400643,  0.03927526,  0.00097244,\n",
       "        -0.01794061,  0.04423343, -0.12605277, -0.0059479 , -0.02759067,\n",
       "         0.3699065 , -0.00264373, -0.02243967, -0.01144102, -0.01663553,\n",
       "        -0.02365178]])"
      ]
     },
     "execution_count": 16,
     "metadata": {},
     "output_type": "execute_result"
    }
   ],
   "source": [
    "log_m1.coef_"
   ]
  },
  {
   "cell_type": "markdown",
   "metadata": {},
   "source": [
    "Afterwards we shall predict the data, this is the most prominent application out of it. "
   ]
  },
  {
   "cell_type": "markdown",
   "metadata": {
    "solution2": "hidden",
    "solution2_first": true
   },
   "source": [
    "__Exercise:__ Find out what does the model predicts for the ID 20?"
   ]
  },
  {
   "cell_type": "code",
   "execution_count": null,
   "metadata": {},
   "outputs": [],
   "source": [
    "# Your code below\n"
   ]
  },
  {
   "cell_type": "code",
   "execution_count": 25,
   "metadata": {
    "solution2": "hidden"
   },
   "outputs": [
    {
     "name": "stderr",
     "output_type": "stream",
     "text": [
      "C:\\Users\\jy191\\Anaconda3\\lib\\site-packages\\sklearn\\base.py:445: UserWarning: X does not have valid feature names, but LogisticRegression was fitted with feature names\n",
      "  warnings.warn(\n"
     ]
    },
    {
     "data": {
      "text/plain": [
       "array([False])"
      ]
     },
     "execution_count": 25,
     "metadata": {},
     "output_type": "execute_result"
    }
   ],
   "source": [
    "# Solution\n",
    "log_m1.predict([X.iloc[20,:]])  # Need extrac bracket as param requires 2D array. "
   ]
  },
  {
   "cell_type": "markdown",
   "metadata": {},
   "source": [
    "### Example: Naive Bayes"
   ]
  },
  {
   "cell_type": "markdown",
   "metadata": {},
   "source": [
    "We will mention one more classification method. An idea borrowed from week 8 of Bayesian statistics, we can calculate the probability of a categorical variable using them. "
   ]
  },
  {
   "cell_type": "code",
   "execution_count": 14,
   "metadata": {},
   "outputs": [],
   "source": [
    "from sklearn.naive_bayes import GaussianNB\n",
    "nnb = GaussianNB().fit(X, y)"
   ]
  },
  {
   "cell_type": "markdown",
   "metadata": {},
   "source": [
    "We can evaluate the model. "
   ]
  },
  {
   "cell_type": "code",
   "execution_count": 15,
   "metadata": {
    "scrolled": true
   },
   "outputs": [
    {
     "data": {
      "text/plain": [
       "0.43561772657811215"
      ]
     },
     "execution_count": 15,
     "metadata": {},
     "output_type": "execute_result"
    }
   ],
   "source": [
    "nnb.score(X, y)"
   ]
  },
  {
   "cell_type": "markdown",
   "metadata": {},
   "source": [
    "Also to predict from a sample. "
   ]
  },
  {
   "cell_type": "code",
   "execution_count": 17,
   "metadata": {},
   "outputs": [
    {
     "name": "stderr",
     "output_type": "stream",
     "text": [
      "C:\\Users\\jy191\\Anaconda3\\lib\\site-packages\\sklearn\\base.py:445: UserWarning: X does not have valid feature names, but GaussianNB was fitted with feature names\n",
      "  warnings.warn(\n"
     ]
    },
    {
     "data": {
      "text/plain": [
       "array([False])"
      ]
     },
     "execution_count": 17,
     "metadata": {},
     "output_type": "execute_result"
    }
   ],
   "source": [
    "nnb.predict([X.iloc[20,:]])"
   ]
  },
  {
   "cell_type": "markdown",
   "metadata": {},
   "source": [
    "### Example: Decision Tree"
   ]
  },
  {
   "cell_type": "markdown",
   "metadata": {},
   "source": [
    "Decision tree is another major classification algorithm. You can think of as a questionaire and they asks you questions about yourself. Each question tries to classify you based on the answer. In machine learning, it tries to calculate the gini index or entropy of a feature and try to split the data based on the mean of feature or by categories. "
   ]
  },
  {
   "cell_type": "markdown",
   "metadata": {},
   "source": [
    "Let us build the model then. "
   ]
  },
  {
   "cell_type": "code",
   "execution_count": 14,
   "metadata": {},
   "outputs": [],
   "source": [
    "from sklearn import tree\n",
    "dt = tree.DecisionTreeClassifier().fit(X, y)"
   ]
  },
  {
   "cell_type": "markdown",
   "metadata": {},
   "source": [
    "We then can start to predict if a person is earning more than 50000 dollars or not based on the model. "
   ]
  },
  {
   "cell_type": "code",
   "execution_count": 161,
   "metadata": {},
   "outputs": [
    {
     "name": "stderr",
     "output_type": "stream",
     "text": [
      "C:\\Users\\jy191\\Anaconda3\\lib\\site-packages\\sklearn\\base.py:445: UserWarning: X does not have valid feature names, but DecisionTreeClassifier was fitted with feature names\n",
      "  warnings.warn(\n"
     ]
    },
    {
     "data": {
      "text/plain": [
       "array([False])"
      ]
     },
     "execution_count": 161,
     "metadata": {},
     "output_type": "execute_result"
    }
   ],
   "source": [
    "dt.predict([X.iloc[20,:]])"
   ]
  },
  {
   "cell_type": "markdown",
   "metadata": {},
   "source": [
    "The decision tree splits the data usually by the most significant feature. From regression model it is the coefficient, but there is not such thing in here. So we use either gini index or entropy and see which variance gives us more variation. Because the more variation of the feature observed, we can get more meaningful information when splitting them. \n",
    "\n",
    "We can visualise the feature importance using scikit-learn. "
   ]
  },
  {
   "cell_type": "code",
   "execution_count": 158,
   "metadata": {},
   "outputs": [
    {
     "data": {
      "text/plain": [
       "<AxesSubplot:>"
      ]
     },
     "execution_count": 158,
     "metadata": {},
     "output_type": "execute_result"
    },
    {
     "data": {
      "image/png": "[encoded data removed]",
      "text/plain": [
       "<Figure size 432x288 with 1 Axes>"
      ]
     },
     "metadata": {
      "needs_background": "light"
     },
     "output_type": "display_data"
    }
   ],
   "source": [
    "dt_feature_importances = pd.Series(dt.feature_importances_, index=X.columns)\n",
    "dt_feature_importances.sort_values().plot.bar()"
   ]
  },
  {
   "cell_type": "markdown",
   "metadata": {},
   "source": [
    "Feature importance can sometimes used to decide if any features is unecessary. We then can drop those columns are build the decision tree again. "
   ]
  },
  {
   "cell_type": "markdown",
   "metadata": {},
   "source": [
    "So why is decision tree called a tree? It is because it splits the data by a feature and again. This is what is called branching and we can see eventually a tree of splitted features with sci-kit-learn as below. \n",
    "\n",
    "```python\n",
    "tree.plot_tree(rf)\n",
    "```\n",
    "\n",
    "The following code will give us what this looks like. "
   ]
  },
  {
   "cell_type": "markdown",
   "metadata": {},
   "source": [
    "<div class=\"alert alert-block alert-warning\">\n",
    "The following cell is not run for a purpose: It may take a bit of while to run them and the figure is quite large. A tree diagram of reduced model is shown in further down. \n",
    "</div>"
   ]
  },
  {
   "cell_type": "code",
   "execution_count": null,
   "metadata": {},
   "outputs": [],
   "source": [
    "# Visualize the tree\n",
    "from sklearn.tree import export_graphviz\n",
    "import graphviz\n",
    "from IPython.display import display\n",
    "display(graphviz.Source(export_graphviz(dt, feature_names=X.columns)))"
   ]
  },
  {
   "cell_type": "code",
   "execution_count": null,
   "metadata": {},
   "outputs": [],
   "source": [
    "# Visualize the tree\n",
    "tree.plot_tree(dt)"
   ]
  },
  {
   "cell_type": "markdown",
   "metadata": {},
   "source": [
    "To make our computation faster, we can define how many layers we wish using `max_depth`. "
   ]
  },
  {
   "cell_type": "code",
   "execution_count": 9,
   "metadata": {},
   "outputs": [],
   "source": [
    "dt_01 = tree.DecisionTreeClassifier(criterion=\"entropy\", max_depth=3).fit(X, y)"
   ]
  },
  {
   "cell_type": "markdown",
   "metadata": {},
   "source": [
    "Now let us plot the tree with the reduced model. "
   ]
  },
  {
   "cell_type": "code",
   "execution_count": 157,
   "metadata": {},
   "outputs": [
    {
     "data": {
      "text/plain": [
       "[Text(209.25, 190.26, 'X[12] <= 0.5\\nentropy = 0.22\\nsamples = 42535\\nvalue = [41040, 1495]'),\n",
       " Text(167.4, 135.9, 'X[15] <= 4.5\\nentropy = 0.309\\nsamples = 27009\\nvalue = [25514, 1495]'),\n",
       " Text(83.7, 81.53999999999999, 'X[0] <= 31.5\\nentropy = 0.222\\nsamples = 19849\\nvalue = [19143, 706]'),\n",
       " Text(41.85, 27.180000000000007, 'entropy = 0.166\\nsamples = 17841\\nvalue = [17404, 437]'),\n",
       " Text(125.55000000000001, 27.180000000000007, 'entropy = 0.568\\nsamples = 2008\\nvalue = [1739, 269]'),\n",
       " Text(251.10000000000002, 81.53999999999999, 'X[17] <= 1.5\\nentropy = 0.501\\nsamples = 7160\\nvalue = [6371, 789]'),\n",
       " Text(209.25, 27.180000000000007, 'entropy = 0.824\\nsamples = 2521\\nvalue = [1870, 651]'),\n",
       " Text(292.95, 27.180000000000007, 'entropy = 0.193\\nsamples = 4639\\nvalue = [4501, 138]'),\n",
       " Text(251.10000000000002, 135.9, 'entropy = 0.0\\nsamples = 15526\\nvalue = [15526, 0]')]"
      ]
     },
     "execution_count": 157,
     "metadata": {},
     "output_type": "execute_result"
    },
    {
     "data": {
      "image/png": "[encoded data removed]",
      "text/plain": [
       "<Figure size 432x288 with 1 Axes>"
      ]
     },
     "metadata": {
      "needs_background": "light"
     },
     "output_type": "display_data"
    }
   ],
   "source": [
    "tree.plot_tree(dt_01)"
   ]
  },
  {
   "cell_type": "markdown",
   "metadata": {},
   "source": [
    "Now we can see the finding work is the most informative feature to predict is someone is earning much or not. "
   ]
  },
  {
   "cell_type": "code",
   "execution_count": 12,
   "metadata": {
    "scrolled": true
   },
   "outputs": [
    {
     "data": {
      "text/plain": [
       "<AxesSubplot:>"
      ]
     },
     "execution_count": 12,
     "metadata": {},
     "output_type": "execute_result"
    },
    {
     "data": {
      "image/png": "[encoded data removed]",
      "text/plain": [
       "<Figure size 432x288 with 1 Axes>"
      ]
     },
     "metadata": {
      "needs_background": "light"
     },
     "output_type": "display_data"
    }
   ],
   "source": [
    "dt01_feature_importances = pd.Series(dt_01.feature_importances_, index=X.columns)\n",
    "dt01_feature_importances.sort_values().plot.bar()"
   ]
  },
  {
   "cell_type": "markdown",
   "metadata": {},
   "source": [
    "Finally let us compare the scores between the full and truncated model. "
   ]
  },
  {
   "cell_type": "code",
   "execution_count": 10,
   "metadata": {},
   "outputs": [
    {
     "data": {
      "text/plain": [
       "(1.0, 0.9648524744328201)"
      ]
     },
     "execution_count": 10,
     "metadata": {},
     "output_type": "execute_result"
    }
   ],
   "source": [
    "dt.score(X, y), dt_01.score(X, y)"
   ]
  },
  {
   "cell_type": "markdown",
   "metadata": {},
   "source": [
    "### Example: Random Forest (Optional)"
   ]
  },
  {
   "cell_type": "markdown",
   "metadata": {},
   "source": [
    "Decision tree classifies the target variable through spliting from most informative features. We can improve this by \n",
    "* Sample the data and build the model and repeat (bootstrap)\n",
    "* Classify the results again from the majority vote of the many trees.\n",
    "\n",
    "This is called random forst. We will construct one now with maximum depth of $3$. "
   ]
  },
  {
   "cell_type": "code",
   "execution_count": 66,
   "metadata": {},
   "outputs": [],
   "source": [
    "from sklearn.ensemble import RandomForestClassifier\n",
    "rf = RandomForestClassifier(max_depth=3).fit(X, y)"
   ]
  },
  {
   "cell_type": "code",
   "execution_count": 67,
   "metadata": {},
   "outputs": [
    {
     "data": {
      "text/plain": [
       "0.9648524744328201"
      ]
     },
     "execution_count": 67,
     "metadata": {},
     "output_type": "execute_result"
    }
   ],
   "source": [
    "rf.score(X, y)"
   ]
  },
  {
   "cell_type": "code",
   "execution_count": 74,
   "metadata": {},
   "outputs": [
    {
     "data": {
      "text/plain": [
       "<AxesSubplot:>"
      ]
     },
     "execution_count": 74,
     "metadata": {},
     "output_type": "execute_result"
    },
    {
     "data": {
      "image/png": "[encoded data removed]",
      "text/plain": [
       "<Figure size 432x288 with 1 Axes>"
      ]
     },
     "metadata": {
      "needs_background": "light"
     },
     "output_type": "display_data"
    }
   ],
   "source": [
    "rf_feature_importances = pd.Series(rf.feature_importances_, index=X.columns)\n",
    "rf_feature_importances.plot.bar()"
   ]
  },
  {
   "cell_type": "markdown",
   "metadata": {},
   "source": [
    "### Confusion Matrix (Optional)"
   ]
  },
  {
   "cell_type": "markdown",
   "metadata": {},
   "source": [
    "Classification will return the labels that they think it is right. Then we compare with the original data (if possible) and we found some are the same, while others are not. So we can classify them as (for binary variables) true or false positives or negatives. \n",
    "\n",
    "In the following, we may try to identify \n",
    "* true positive\n",
    "* false positive\n",
    "* true negative\n",
    "* false negative\n",
    "\n",
    "To better capture them, we use confusion matrix where one side is the predicted labels, and the other one is true label. "
   ]
  },
  {
   "cell_type": "code",
   "execution_count": 21,
   "metadata": {},
   "outputs": [
    {
     "data": {
      "text/plain": [
       "array([[1, 1],\n",
       "       [1, 1]], dtype=int64)"
      ]
     },
     "execution_count": 21,
     "metadata": {},
     "output_type": "execute_result"
    }
   ],
   "source": [
    "from sklearn.metrics import confusion_matrix\n",
    "\n",
    "y_true = [1, 1, 0, 0]\n",
    "y_pred = [1, 0, 1, 0]\n",
    "\n",
    "confusion_matrix(y_true, y_pred)"
   ]
  },
  {
   "cell_type": "markdown",
   "metadata": {
    "solution2": "hidden",
    "solution2_first": true
   },
   "source": [
    "__Exercise:__ From left to right, identity the results from classification. "
   ]
  },
  {
   "cell_type": "markdown",
   "metadata": {
    "solution2": "hidden"
   },
   "source": [
    "__Solution:__\n",
    "\n",
    "They are:\n",
    "* True positive\n",
    "* False negative\n",
    "* False positive\n",
    "* True negative"
   ]
  },
  {
   "cell_type": "markdown",
   "metadata": {},
   "source": [
    "Let us visualise them as a heatmap. "
   ]
  },
  {
   "cell_type": "code",
   "execution_count": 22,
   "metadata": {},
   "outputs": [
    {
     "data": {
      "image/png": "[encoded data removed]",
      "text/plain": [
       "<Figure size 288x288 with 1 Axes>"
      ]
     },
     "metadata": {
      "needs_background": "light"
     },
     "output_type": "display_data"
    }
   ],
   "source": [
    "import matplotlib.pyplot as plt\n",
    "\n",
    "plt.matshow(confusion_matrix(y_true, y_pred))\n",
    "plt.show()"
   ]
  },
  {
   "cell_type": "markdown",
   "metadata": {},
   "source": [
    "Now let us visalise the confusion matrix from the logistic model, if you did not go through the section then it is time do so now to generate `log_m1`. "
   ]
  },
  {
   "cell_type": "code",
   "execution_count": 17,
   "metadata": {
    "scrolled": true
   },
   "outputs": [
    {
     "data": {
      "text/plain": [
       "<sklearn.metrics._plot.confusion_matrix.ConfusionMatrixDisplay at 0x226c1133250>"
      ]
     },
     "execution_count": 17,
     "metadata": {},
     "output_type": "execute_result"
    },
    {
     "data": {
      "image/png": "[encoded data removed]",
      "text/plain": [
       "<Figure size 640x480 with 2 Axes>"
      ]
     },
     "metadata": {},
     "output_type": "display_data"
    }
   ],
   "source": [
    "from sklearn.metrics import ConfusionMatrixDisplay\n",
    "\n",
    "ConfusionMatrixDisplay.from_estimator(log_m1, X, y)"
   ]
  },
  {
   "cell_type": "markdown",
   "metadata": {},
   "source": [
    "We can see that for every person which meant to be classified as true is classified as false. This is a danger because it means the logistic model cannot find out if a person earns a lot or not. "
   ]
  },
  {
   "cell_type": "markdown",
   "metadata": {},
   "source": [
    "How do we know if a model is good or not? We need a metric that normalises from the number of true and predicted labels, so that even the data size went up we can encounter them. There are $4$ metrics that helps us that: \n",
    "* accuracy\n",
    "* precision (How well can the model predict trues of the predicted trues)\n",
    "* true positive rate (aka sensitivity/ recall, how well can the model predict trues out of real trues)\n",
    "* false positive rate (aka specificity, how well can the model predict negatives out of real negatives)\n",
    "\n",
    "The equation of accuracy and precision are as below. \n",
    "\n",
    "$$\\operatorname{ACC}\\;=\\;\\frac{\\operatorname{TP}}{\\operatorname{TP}\\;+\\;\\operatorname{FP}\\;+\\; \\operatorname{TN}\\;+\\;\\operatorname{FN}}$$\n",
    "\n",
    "$$\\operatorname{PPV}\\;=\\;\\frac{\\operatorname{TP}}{\\operatorname{TP}\\;+\\;\\operatorname{FN}}$$\n",
    "\n",
    "We can also calculate the true and false positive rates. \n",
    "\n",
    "$$\\operatorname{TPR}\\;=\\;\\frac{\\operatorname{TP}}{\\operatorname{TP}\\;+\\;\\operatorname{FP}}$$\n",
    "\n",
    "$$\\operatorname{FPR}\\;=\\;\\frac{\\operatorname{FP}}{\\operatorname{FP}\\;+\\;\\operatorname{FN}}$$\n",
    "\n",
    "Where $\\operatorname{TP}$ is true positive, $\\operatorname{FP}$ is false positive, $\\operatorname{FN}$ is false negative. "
   ]
  },
  {
   "cell_type": "markdown",
   "metadata": {},
   "source": [
    "Often only accuracy is not that important because it only tells us the proportion of true positives But more often we want to know about the falsely classified data and the latter ones focus on them. For example, if the false positive are high. We hve high chance of identifying the wrong person for income support (Suppose the threshold is lower than the example). The model is bad at doing that then. "
   ]
  },
  {
   "cell_type": "markdown",
   "metadata": {},
   "source": [
    "Let us calculate the precision as an example. Scikit-learn has a function called `precision_score()` that we can use. This accepts the true and predicted values. "
   ]
  },
  {
   "cell_type": "code",
   "execution_count": 18,
   "metadata": {},
   "outputs": [],
   "source": [
    "# Run me\n",
    "y_true = y\n",
    "y_pred = log_m1.predict(X)"
   ]
  },
  {
   "cell_type": "code",
   "execution_count": 19,
   "metadata": {},
   "outputs": [
    {
     "name": "stderr",
     "output_type": "stream",
     "text": [
      "C:\\Users\\John Yeung\\anaconda3\\lib\\site-packages\\sklearn\\metrics\\_classification.py:1509: UndefinedMetricWarning: Precision is ill-defined and being set to 0.0 due to no predicted samples. Use `zero_division` parameter to control this behavior.\n",
      "  _warn_prf(average, modifier, f\"{metric.capitalize()} is\", len(result))\n"
     ]
    },
    {
     "data": {
      "text/plain": [
       "0.0"
      ]
     },
     "execution_count": 19,
     "metadata": {},
     "output_type": "execute_result"
    }
   ],
   "source": [
    "# Run me\n",
    "from sklearn.metrics import precision_score\n",
    "\n",
    "precision_score(y_true, y_pred)"
   ]
  },
  {
   "cell_type": "markdown",
   "metadata": {},
   "source": [
    "We can see that the logistic regression is not doing a good job here. "
   ]
  },
  {
   "cell_type": "markdown",
   "metadata": {},
   "source": [
    "We can also use classification report from sklearn to obtain these results easier. This is called by: "
   ]
  },
  {
   "cell_type": "code",
   "execution_count": 20,
   "metadata": {},
   "outputs": [],
   "source": [
    "from sklearn.metrics import classification_report"
   ]
  },
  {
   "cell_type": "markdown",
   "metadata": {},
   "source": [
    "So we can run this to see the precision and recall score. This time we use `print()` to print the report nicely. "
   ]
  },
  {
   "cell_type": "code",
   "execution_count": 22,
   "metadata": {},
   "outputs": [
    {
     "name": "stdout",
     "output_type": "stream",
     "text": [
      "              precision    recall  f1-score   support\n",
      "\n",
      "       False       0.96      1.00      0.98     41040\n",
      "        True       0.00      0.00      0.00      1495\n",
      "\n",
      "    accuracy                           0.96     42535\n",
      "   macro avg       0.48      0.50      0.49     42535\n",
      "weighted avg       0.93      0.96      0.95     42535\n",
      "\n"
     ]
    },
    {
     "name": "stderr",
     "output_type": "stream",
     "text": [
      "C:\\Users\\John Yeung\\anaconda3\\lib\\site-packages\\sklearn\\metrics\\_classification.py:1509: UndefinedMetricWarning: Precision is ill-defined and being set to 0.0 in labels with no predicted samples. Use `zero_division` parameter to control this behavior.\n",
      "  _warn_prf(average, modifier, f\"{metric.capitalize()} is\", len(result))\n",
      "C:\\Users\\John Yeung\\anaconda3\\lib\\site-packages\\sklearn\\metrics\\_classification.py:1509: UndefinedMetricWarning: Precision is ill-defined and being set to 0.0 in labels with no predicted samples. Use `zero_division` parameter to control this behavior.\n",
      "  _warn_prf(average, modifier, f\"{metric.capitalize()} is\", len(result))\n",
      "C:\\Users\\John Yeung\\anaconda3\\lib\\site-packages\\sklearn\\metrics\\_classification.py:1509: UndefinedMetricWarning: Precision is ill-defined and being set to 0.0 in labels with no predicted samples. Use `zero_division` parameter to control this behavior.\n",
      "  _warn_prf(average, modifier, f\"{metric.capitalize()} is\", len(result))\n"
     ]
    }
   ],
   "source": [
    "# Run me\n",
    "print(classification_report(y_true, y_pred))"
   ]
  },
  {
   "cell_type": "markdown",
   "metadata": {},
   "source": [
    "We can see the report has the values of precision, recall, f1 score and accuracy (below). Often we use precision, recall or f1 score more than accuracy when often the number of data in each class are __imbalanced__. Moreover, \n",
    "* precision looks at when we want to see how well the model can find true positives\n",
    "* recall looks at how well the model can refrain from false positives (In other words, how well it can find true positives out of all positives it deemed)\n",
    "\n",
    "You can use the classification report in other classification methods this week. Do it in your spare time and check how well are those models perform. Thus you can benchmark the models. "
   ]
  },
  {
   "cell_type": "markdown",
   "metadata": {},
   "source": [
    "### Train and Test Datasets (Optional)"
   ]
  },
  {
   "cell_type": "markdown",
   "metadata": {},
   "source": [
    "Remember at the start where we found the logistic regression has mean accuracy of 1, but found that it cannot predict any trues? It shows that the model can be improved. One way to do so is to separate the dataset that builds the model and to test them. This is called __train-test split__. \n",
    "\n",
    "We can see from below that the blue part represents the training set, and others are for testing. Once we splitted them then we can use the training set to fit with the model. Once the coefficients are produced then we compare the predicted values on the test set and the real ones. "
   ]
  },
  {
   "cell_type": "markdown",
   "metadata": {},
   "source": [
    "<img src=\"fig/TrainTest.png\"/>"
   ]
  },
  {
   "cell_type": "markdown",
   "metadata": {},
   "source": [
    "Before we move to splitting the dataset, we shall use a toy example. "
   ]
  },
  {
   "cell_type": "code",
   "execution_count": 11,
   "metadata": {},
   "outputs": [
    {
     "data": {
      "text/plain": [
       "([[1, 'b', 2], [0, 'a', 2]], [[2, 'c', 2]], [0, 0], [0])"
      ]
     },
     "execution_count": 11,
     "metadata": {},
     "output_type": "execute_result"
    }
   ],
   "source": [
    "from sklearn.model_selection import train_test_split\n",
    "\n",
    "X_alt = [[0, 'a', 2], [1, 'b', 2], [2, 'c', 2]]\n",
    "y_alt = [0, 0, 0]\n",
    "\n",
    "X_train, X_test, y_train, y_test = train_test_split(X_alt, y_alt)\n",
    "X_train, X_test, y_train, y_test"
   ]
  },
  {
   "cell_type": "markdown",
   "metadata": {},
   "source": [
    "If you run the above code again, you will see the splited data becomes different. This is because the function will split the data randomly again. "
   ]
  },
  {
   "cell_type": "markdown",
   "metadata": {},
   "source": [
    "Before we start, let us have a glimpse of `X`. There are 42535 rows in the full dataset. "
   ]
  },
  {
   "cell_type": "code",
   "execution_count": 22,
   "metadata": {
    "scrolled": true
   },
   "outputs": [
    {
     "data": {
      "text/html": [
       "<div>\n",
       "<style scoped>\n",
       "    .dataframe tbody tr th:only-of-type {\n",
       "        vertical-align: middle;\n",
       "    }\n",
       "\n",
       "    .dataframe tbody tr th {\n",
       "        vertical-align: top;\n",
       "    }\n",
       "\n",
       "    .dataframe thead th {\n",
       "        text-align: right;\n",
       "    }\n",
       "</style>\n",
       "<table border=\"1\" class=\"dataframe\">\n",
       "  <thead>\n",
       "    <tr style=\"text-align: right;\">\n",
       "      <th></th>\n",
       "      <th>Age</th>\n",
       "      <th>Gender</th>\n",
       "      <th>Location</th>\n",
       "      <th>Ethnic</th>\n",
       "      <th>Religion</th>\n",
       "      <th>Citizen</th>\n",
       "      <th>English Proficiency</th>\n",
       "      <th>Maternity</th>\n",
       "      <th>Working</th>\n",
       "      <th>Self Employed</th>\n",
       "      <th>...</th>\n",
       "      <th>Hours of Work</th>\n",
       "      <th>Finding Work</th>\n",
       "      <th>Care of Children</th>\n",
       "      <th>Care of Family</th>\n",
       "      <th>Domestic Activities Hours</th>\n",
       "      <th>Volunteered Hours</th>\n",
       "      <th>Education Level</th>\n",
       "      <th>Family</th>\n",
       "      <th>Home Internet</th>\n",
       "      <th>Dwell Type</th>\n",
       "    </tr>\n",
       "    <tr>\n",
       "      <th>ID</th>\n",
       "      <th></th>\n",
       "      <th></th>\n",
       "      <th></th>\n",
       "      <th></th>\n",
       "      <th></th>\n",
       "      <th></th>\n",
       "      <th></th>\n",
       "      <th></th>\n",
       "      <th></th>\n",
       "      <th></th>\n",
       "      <th></th>\n",
       "      <th></th>\n",
       "      <th></th>\n",
       "      <th></th>\n",
       "      <th></th>\n",
       "      <th></th>\n",
       "      <th></th>\n",
       "      <th></th>\n",
       "      <th></th>\n",
       "      <th></th>\n",
       "      <th></th>\n",
       "    </tr>\n",
       "  </thead>\n",
       "  <tbody>\n",
       "    <tr>\n",
       "      <th>0</th>\n",
       "      <td>26</td>\n",
       "      <td>0</td>\n",
       "      <td>2135</td>\n",
       "      <td>5</td>\n",
       "      <td>0</td>\n",
       "      <td>1</td>\n",
       "      <td>0.0</td>\n",
       "      <td>0</td>\n",
       "      <td>1</td>\n",
       "      <td>0</td>\n",
       "      <td>...</td>\n",
       "      <td>39.365005</td>\n",
       "      <td>0</td>\n",
       "      <td>32</td>\n",
       "      <td>2</td>\n",
       "      <td>4</td>\n",
       "      <td>7</td>\n",
       "      <td>6.0</td>\n",
       "      <td>2</td>\n",
       "      <td>1</td>\n",
       "      <td>4</td>\n",
       "    </tr>\n",
       "    <tr>\n",
       "      <th>1</th>\n",
       "      <td>21</td>\n",
       "      <td>1</td>\n",
       "      <td>2038</td>\n",
       "      <td>5</td>\n",
       "      <td>1</td>\n",
       "      <td>1</td>\n",
       "      <td>0.0</td>\n",
       "      <td>0</td>\n",
       "      <td>1</td>\n",
       "      <td>1</td>\n",
       "      <td>...</td>\n",
       "      <td>42.792924</td>\n",
       "      <td>0</td>\n",
       "      <td>33</td>\n",
       "      <td>2</td>\n",
       "      <td>3</td>\n",
       "      <td>9</td>\n",
       "      <td>8.0</td>\n",
       "      <td>2</td>\n",
       "      <td>1</td>\n",
       "      <td>1</td>\n",
       "    </tr>\n",
       "    <tr>\n",
       "      <th>2</th>\n",
       "      <td>28</td>\n",
       "      <td>0</td>\n",
       "      <td>2044</td>\n",
       "      <td>7</td>\n",
       "      <td>0</td>\n",
       "      <td>0</td>\n",
       "      <td>4.0</td>\n",
       "      <td>0</td>\n",
       "      <td>1</td>\n",
       "      <td>1</td>\n",
       "      <td>...</td>\n",
       "      <td>31.934240</td>\n",
       "      <td>0</td>\n",
       "      <td>32</td>\n",
       "      <td>2</td>\n",
       "      <td>5</td>\n",
       "      <td>13</td>\n",
       "      <td>7.0</td>\n",
       "      <td>3</td>\n",
       "      <td>1</td>\n",
       "      <td>4</td>\n",
       "    </tr>\n",
       "    <tr>\n",
       "      <th>3</th>\n",
       "      <td>26</td>\n",
       "      <td>0</td>\n",
       "      <td>2126</td>\n",
       "      <td>2</td>\n",
       "      <td>1</td>\n",
       "      <td>1</td>\n",
       "      <td>0.0</td>\n",
       "      <td>0</td>\n",
       "      <td>1</td>\n",
       "      <td>0</td>\n",
       "      <td>...</td>\n",
       "      <td>38.265747</td>\n",
       "      <td>0</td>\n",
       "      <td>36</td>\n",
       "      <td>2</td>\n",
       "      <td>4</td>\n",
       "      <td>11</td>\n",
       "      <td>1.0</td>\n",
       "      <td>2</td>\n",
       "      <td>1</td>\n",
       "      <td>2</td>\n",
       "    </tr>\n",
       "    <tr>\n",
       "      <th>4</th>\n",
       "      <td>20</td>\n",
       "      <td>2</td>\n",
       "      <td>2177</td>\n",
       "      <td>4</td>\n",
       "      <td>0</td>\n",
       "      <td>1</td>\n",
       "      <td>3.0</td>\n",
       "      <td>1</td>\n",
       "      <td>1</td>\n",
       "      <td>1</td>\n",
       "      <td>...</td>\n",
       "      <td>49.572851</td>\n",
       "      <td>0</td>\n",
       "      <td>12</td>\n",
       "      <td>2</td>\n",
       "      <td>2</td>\n",
       "      <td>14</td>\n",
       "      <td>10.0</td>\n",
       "      <td>0</td>\n",
       "      <td>1</td>\n",
       "      <td>0</td>\n",
       "    </tr>\n",
       "    <tr>\n",
       "      <th>...</th>\n",
       "      <td>...</td>\n",
       "      <td>...</td>\n",
       "      <td>...</td>\n",
       "      <td>...</td>\n",
       "      <td>...</td>\n",
       "      <td>...</td>\n",
       "      <td>...</td>\n",
       "      <td>...</td>\n",
       "      <td>...</td>\n",
       "      <td>...</td>\n",
       "      <td>...</td>\n",
       "      <td>...</td>\n",
       "      <td>...</td>\n",
       "      <td>...</td>\n",
       "      <td>...</td>\n",
       "      <td>...</td>\n",
       "      <td>...</td>\n",
       "      <td>...</td>\n",
       "      <td>...</td>\n",
       "      <td>...</td>\n",
       "      <td>...</td>\n",
       "    </tr>\n",
       "    <tr>\n",
       "      <th>42530</th>\n",
       "      <td>24</td>\n",
       "      <td>1</td>\n",
       "      <td>2070</td>\n",
       "      <td>5</td>\n",
       "      <td>2</td>\n",
       "      <td>1</td>\n",
       "      <td>0.0</td>\n",
       "      <td>0</td>\n",
       "      <td>0</td>\n",
       "      <td>0</td>\n",
       "      <td>...</td>\n",
       "      <td>0.000000</td>\n",
       "      <td>1</td>\n",
       "      <td>32</td>\n",
       "      <td>2</td>\n",
       "      <td>3</td>\n",
       "      <td>12</td>\n",
       "      <td>3.0</td>\n",
       "      <td>2</td>\n",
       "      <td>1</td>\n",
       "      <td>4</td>\n",
       "    </tr>\n",
       "    <tr>\n",
       "      <th>42531</th>\n",
       "      <td>31</td>\n",
       "      <td>0</td>\n",
       "      <td>2093</td>\n",
       "      <td>5</td>\n",
       "      <td>1</td>\n",
       "      <td>1</td>\n",
       "      <td>0.0</td>\n",
       "      <td>1</td>\n",
       "      <td>0</td>\n",
       "      <td>0</td>\n",
       "      <td>...</td>\n",
       "      <td>0.000000</td>\n",
       "      <td>1</td>\n",
       "      <td>12</td>\n",
       "      <td>1</td>\n",
       "      <td>2</td>\n",
       "      <td>7</td>\n",
       "      <td>8.0</td>\n",
       "      <td>0</td>\n",
       "      <td>1</td>\n",
       "      <td>4</td>\n",
       "    </tr>\n",
       "    <tr>\n",
       "      <th>42532</th>\n",
       "      <td>19</td>\n",
       "      <td>0</td>\n",
       "      <td>2149</td>\n",
       "      <td>7</td>\n",
       "      <td>1</td>\n",
       "      <td>1</td>\n",
       "      <td>4.0</td>\n",
       "      <td>1</td>\n",
       "      <td>0</td>\n",
       "      <td>0</td>\n",
       "      <td>...</td>\n",
       "      <td>0.000000</td>\n",
       "      <td>1</td>\n",
       "      <td>16</td>\n",
       "      <td>2</td>\n",
       "      <td>2</td>\n",
       "      <td>10</td>\n",
       "      <td>7.0</td>\n",
       "      <td>1</td>\n",
       "      <td>1</td>\n",
       "      <td>3</td>\n",
       "    </tr>\n",
       "    <tr>\n",
       "      <th>42533</th>\n",
       "      <td>21</td>\n",
       "      <td>0</td>\n",
       "      <td>2110</td>\n",
       "      <td>2</td>\n",
       "      <td>1</td>\n",
       "      <td>1</td>\n",
       "      <td>0.0</td>\n",
       "      <td>0</td>\n",
       "      <td>1</td>\n",
       "      <td>1</td>\n",
       "      <td>...</td>\n",
       "      <td>34.549397</td>\n",
       "      <td>0</td>\n",
       "      <td>31</td>\n",
       "      <td>3</td>\n",
       "      <td>1</td>\n",
       "      <td>5</td>\n",
       "      <td>1.0</td>\n",
       "      <td>3</td>\n",
       "      <td>1</td>\n",
       "      <td>1</td>\n",
       "    </tr>\n",
       "    <tr>\n",
       "      <th>42534</th>\n",
       "      <td>22</td>\n",
       "      <td>0</td>\n",
       "      <td>2114</td>\n",
       "      <td>7</td>\n",
       "      <td>0</td>\n",
       "      <td>1</td>\n",
       "      <td>4.0</td>\n",
       "      <td>1</td>\n",
       "      <td>0</td>\n",
       "      <td>0</td>\n",
       "      <td>...</td>\n",
       "      <td>0.000000</td>\n",
       "      <td>1</td>\n",
       "      <td>15</td>\n",
       "      <td>1</td>\n",
       "      <td>4</td>\n",
       "      <td>10</td>\n",
       "      <td>5.0</td>\n",
       "      <td>2</td>\n",
       "      <td>1</td>\n",
       "      <td>2</td>\n",
       "    </tr>\n",
       "  </tbody>\n",
       "</table>\n",
       "<p>42535 rows × 21 columns</p>\n",
       "</div>"
      ],
      "text/plain": [
       "       Age  Gender  Location  Ethnic  Religion  Citizen  English Proficiency  \\\n",
       "ID                                                                             \n",
       "0       26       0      2135       5         0        1                  0.0   \n",
       "1       21       1      2038       5         1        1                  0.0   \n",
       "2       28       0      2044       7         0        0                  4.0   \n",
       "3       26       0      2126       2         1        1                  0.0   \n",
       "4       20       2      2177       4         0        1                  3.0   \n",
       "...    ...     ...       ...     ...       ...      ...                  ...   \n",
       "42530   24       1      2070       5         2        1                  0.0   \n",
       "42531   31       0      2093       5         1        1                  0.0   \n",
       "42532   19       0      2149       7         1        1                  4.0   \n",
       "42533   21       0      2110       2         1        1                  0.0   \n",
       "42534   22       0      2114       7         0        1                  4.0   \n",
       "\n",
       "       Maternity  Working  Self Employed  ...  Hours of Work  Finding Work  \\\n",
       "ID                                        ...                                \n",
       "0              0        1              0  ...      39.365005             0   \n",
       "1              0        1              1  ...      42.792924             0   \n",
       "2              0        1              1  ...      31.934240             0   \n",
       "3              0        1              0  ...      38.265747             0   \n",
       "4              1        1              1  ...      49.572851             0   \n",
       "...          ...      ...            ...  ...            ...           ...   \n",
       "42530          0        0              0  ...       0.000000             1   \n",
       "42531          1        0              0  ...       0.000000             1   \n",
       "42532          1        0              0  ...       0.000000             1   \n",
       "42533          0        1              1  ...      34.549397             0   \n",
       "42534          1        0              0  ...       0.000000             1   \n",
       "\n",
       "       Care of Children  Care of Family  Domestic Activities Hours  \\\n",
       "ID                                                                   \n",
       "0                    32               2                          4   \n",
       "1                    33               2                          3   \n",
       "2                    32               2                          5   \n",
       "3                    36               2                          4   \n",
       "4                    12               2                          2   \n",
       "...                 ...             ...                        ...   \n",
       "42530                32               2                          3   \n",
       "42531                12               1                          2   \n",
       "42532                16               2                          2   \n",
       "42533                31               3                          1   \n",
       "42534                15               1                          4   \n",
       "\n",
       "       Volunteered Hours  Education Level  Family  Home Internet  Dwell Type  \n",
       "ID                                                                            \n",
       "0                      7              6.0       2              1           4  \n",
       "1                      9              8.0       2              1           1  \n",
       "2                     13              7.0       3              1           4  \n",
       "3                     11              1.0       2              1           2  \n",
       "4                     14             10.0       0              1           0  \n",
       "...                  ...              ...     ...            ...         ...  \n",
       "42530                 12              3.0       2              1           4  \n",
       "42531                  7              8.0       0              1           4  \n",
       "42532                 10              7.0       1              1           3  \n",
       "42533                  5              1.0       3              1           1  \n",
       "42534                 10              5.0       2              1           2  \n",
       "\n",
       "[42535 rows x 21 columns]"
      ]
     },
     "execution_count": 22,
     "metadata": {},
     "output_type": "execute_result"
    }
   ],
   "source": [
    "X"
   ]
  },
  {
   "cell_type": "markdown",
   "metadata": {},
   "source": [
    "This means the train-test split will see a small portion of the dataset. "
   ]
  },
  {
   "cell_type": "markdown",
   "metadata": {},
   "source": [
    "Let's try this on the example that we used in this week. "
   ]
  },
  {
   "cell_type": "code",
   "execution_count": 12,
   "metadata": {},
   "outputs": [],
   "source": [
    "X_train, X_test, y_train, y_test = train_test_split(X, y)"
   ]
  },
  {
   "cell_type": "markdown",
   "metadata": {},
   "source": [
    "We can see the training set is smaller than the full set. "
   ]
  },
  {
   "cell_type": "code",
   "execution_count": 30,
   "metadata": {
    "scrolled": true
   },
   "outputs": [
    {
     "data": {
      "text/html": [
       "<div>\n",
       "<style scoped>\n",
       "    .dataframe tbody tr th:only-of-type {\n",
       "        vertical-align: middle;\n",
       "    }\n",
       "\n",
       "    .dataframe tbody tr th {\n",
       "        vertical-align: top;\n",
       "    }\n",
       "\n",
       "    .dataframe thead th {\n",
       "        text-align: right;\n",
       "    }\n",
       "</style>\n",
       "<table border=\"1\" class=\"dataframe\">\n",
       "  <thead>\n",
       "    <tr style=\"text-align: right;\">\n",
       "      <th></th>\n",
       "      <th>Age</th>\n",
       "      <th>Gender</th>\n",
       "      <th>Location</th>\n",
       "      <th>Ethnic</th>\n",
       "      <th>Religion</th>\n",
       "      <th>Citizen</th>\n",
       "      <th>English Proficiency</th>\n",
       "      <th>Maternity</th>\n",
       "      <th>Working</th>\n",
       "      <th>Self Employed</th>\n",
       "      <th>...</th>\n",
       "      <th>Hours of Work</th>\n",
       "      <th>Finding Work</th>\n",
       "      <th>Care of Children</th>\n",
       "      <th>Care of Family</th>\n",
       "      <th>Domestic Activities Hours</th>\n",
       "      <th>Volunteered Hours</th>\n",
       "      <th>Education Level</th>\n",
       "      <th>Family</th>\n",
       "      <th>Home Internet</th>\n",
       "      <th>Dwell Type</th>\n",
       "    </tr>\n",
       "    <tr>\n",
       "      <th>ID</th>\n",
       "      <th></th>\n",
       "      <th></th>\n",
       "      <th></th>\n",
       "      <th></th>\n",
       "      <th></th>\n",
       "      <th></th>\n",
       "      <th></th>\n",
       "      <th></th>\n",
       "      <th></th>\n",
       "      <th></th>\n",
       "      <th></th>\n",
       "      <th></th>\n",
       "      <th></th>\n",
       "      <th></th>\n",
       "      <th></th>\n",
       "      <th></th>\n",
       "      <th></th>\n",
       "      <th></th>\n",
       "      <th></th>\n",
       "      <th></th>\n",
       "      <th></th>\n",
       "    </tr>\n",
       "  </thead>\n",
       "  <tbody>\n",
       "    <tr>\n",
       "      <th>11796</th>\n",
       "      <td>23</td>\n",
       "      <td>0</td>\n",
       "      <td>2002</td>\n",
       "      <td>6</td>\n",
       "      <td>1</td>\n",
       "      <td>0</td>\n",
       "      <td>1.0</td>\n",
       "      <td>0</td>\n",
       "      <td>1</td>\n",
       "      <td>0</td>\n",
       "      <td>...</td>\n",
       "      <td>29.665665</td>\n",
       "      <td>0</td>\n",
       "      <td>33</td>\n",
       "      <td>0</td>\n",
       "      <td>3</td>\n",
       "      <td>6</td>\n",
       "      <td>8.0</td>\n",
       "      <td>1</td>\n",
       "      <td>1</td>\n",
       "      <td>3</td>\n",
       "    </tr>\n",
       "    <tr>\n",
       "      <th>20545</th>\n",
       "      <td>22</td>\n",
       "      <td>1</td>\n",
       "      <td>2020</td>\n",
       "      <td>5</td>\n",
       "      <td>2</td>\n",
       "      <td>0</td>\n",
       "      <td>0.0</td>\n",
       "      <td>0</td>\n",
       "      <td>0</td>\n",
       "      <td>0</td>\n",
       "      <td>...</td>\n",
       "      <td>0.000000</td>\n",
       "      <td>1</td>\n",
       "      <td>35</td>\n",
       "      <td>2</td>\n",
       "      <td>5</td>\n",
       "      <td>7</td>\n",
       "      <td>1.0</td>\n",
       "      <td>2</td>\n",
       "      <td>1</td>\n",
       "      <td>4</td>\n",
       "    </tr>\n",
       "    <tr>\n",
       "      <th>33807</th>\n",
       "      <td>28</td>\n",
       "      <td>2</td>\n",
       "      <td>2197</td>\n",
       "      <td>5</td>\n",
       "      <td>0</td>\n",
       "      <td>1</td>\n",
       "      <td>0.0</td>\n",
       "      <td>0</td>\n",
       "      <td>0</td>\n",
       "      <td>0</td>\n",
       "      <td>...</td>\n",
       "      <td>0.000000</td>\n",
       "      <td>1</td>\n",
       "      <td>35</td>\n",
       "      <td>2</td>\n",
       "      <td>4</td>\n",
       "      <td>8</td>\n",
       "      <td>1.0</td>\n",
       "      <td>2</td>\n",
       "      <td>1</td>\n",
       "      <td>4</td>\n",
       "    </tr>\n",
       "    <tr>\n",
       "      <th>35792</th>\n",
       "      <td>26</td>\n",
       "      <td>1</td>\n",
       "      <td>2212</td>\n",
       "      <td>5</td>\n",
       "      <td>0</td>\n",
       "      <td>1</td>\n",
       "      <td>0.0</td>\n",
       "      <td>1</td>\n",
       "      <td>0</td>\n",
       "      <td>0</td>\n",
       "      <td>...</td>\n",
       "      <td>0.000000</td>\n",
       "      <td>1</td>\n",
       "      <td>9</td>\n",
       "      <td>3</td>\n",
       "      <td>3</td>\n",
       "      <td>8</td>\n",
       "      <td>3.0</td>\n",
       "      <td>1</td>\n",
       "      <td>1</td>\n",
       "      <td>4</td>\n",
       "    </tr>\n",
       "    <tr>\n",
       "      <th>42494</th>\n",
       "      <td>19</td>\n",
       "      <td>1</td>\n",
       "      <td>2500</td>\n",
       "      <td>7</td>\n",
       "      <td>1</td>\n",
       "      <td>1</td>\n",
       "      <td>4.0</td>\n",
       "      <td>0</td>\n",
       "      <td>0</td>\n",
       "      <td>0</td>\n",
       "      <td>...</td>\n",
       "      <td>0.000000</td>\n",
       "      <td>1</td>\n",
       "      <td>34</td>\n",
       "      <td>3</td>\n",
       "      <td>6</td>\n",
       "      <td>5</td>\n",
       "      <td>4.0</td>\n",
       "      <td>1</td>\n",
       "      <td>1</td>\n",
       "      <td>4</td>\n",
       "    </tr>\n",
       "    <tr>\n",
       "      <th>...</th>\n",
       "      <td>...</td>\n",
       "      <td>...</td>\n",
       "      <td>...</td>\n",
       "      <td>...</td>\n",
       "      <td>...</td>\n",
       "      <td>...</td>\n",
       "      <td>...</td>\n",
       "      <td>...</td>\n",
       "      <td>...</td>\n",
       "      <td>...</td>\n",
       "      <td>...</td>\n",
       "      <td>...</td>\n",
       "      <td>...</td>\n",
       "      <td>...</td>\n",
       "      <td>...</td>\n",
       "      <td>...</td>\n",
       "      <td>...</td>\n",
       "      <td>...</td>\n",
       "      <td>...</td>\n",
       "      <td>...</td>\n",
       "      <td>...</td>\n",
       "    </tr>\n",
       "    <tr>\n",
       "      <th>591</th>\n",
       "      <td>25</td>\n",
       "      <td>0</td>\n",
       "      <td>2075</td>\n",
       "      <td>5</td>\n",
       "      <td>1</td>\n",
       "      <td>1</td>\n",
       "      <td>0.0</td>\n",
       "      <td>0</td>\n",
       "      <td>1</td>\n",
       "      <td>0</td>\n",
       "      <td>...</td>\n",
       "      <td>32.078482</td>\n",
       "      <td>0</td>\n",
       "      <td>34</td>\n",
       "      <td>4</td>\n",
       "      <td>2</td>\n",
       "      <td>6</td>\n",
       "      <td>9.0</td>\n",
       "      <td>1</td>\n",
       "      <td>1</td>\n",
       "      <td>2</td>\n",
       "    </tr>\n",
       "    <tr>\n",
       "      <th>29211</th>\n",
       "      <td>17</td>\n",
       "      <td>0</td>\n",
       "      <td>2005</td>\n",
       "      <td>6</td>\n",
       "      <td>0</td>\n",
       "      <td>0</td>\n",
       "      <td>2.0</td>\n",
       "      <td>0</td>\n",
       "      <td>0</td>\n",
       "      <td>0</td>\n",
       "      <td>...</td>\n",
       "      <td>0.000000</td>\n",
       "      <td>1</td>\n",
       "      <td>32</td>\n",
       "      <td>2</td>\n",
       "      <td>4</td>\n",
       "      <td>3</td>\n",
       "      <td>10.0</td>\n",
       "      <td>1</td>\n",
       "      <td>1</td>\n",
       "      <td>3</td>\n",
       "    </tr>\n",
       "    <tr>\n",
       "      <th>24154</th>\n",
       "      <td>27</td>\n",
       "      <td>0</td>\n",
       "      <td>2017</td>\n",
       "      <td>5</td>\n",
       "      <td>2</td>\n",
       "      <td>1</td>\n",
       "      <td>0.0</td>\n",
       "      <td>0</td>\n",
       "      <td>1</td>\n",
       "      <td>0</td>\n",
       "      <td>...</td>\n",
       "      <td>29.411981</td>\n",
       "      <td>0</td>\n",
       "      <td>33</td>\n",
       "      <td>1</td>\n",
       "      <td>3</td>\n",
       "      <td>4</td>\n",
       "      <td>10.0</td>\n",
       "      <td>2</td>\n",
       "      <td>1</td>\n",
       "      <td>4</td>\n",
       "    </tr>\n",
       "    <tr>\n",
       "      <th>11914</th>\n",
       "      <td>34</td>\n",
       "      <td>1</td>\n",
       "      <td>2012</td>\n",
       "      <td>5</td>\n",
       "      <td>0</td>\n",
       "      <td>1</td>\n",
       "      <td>0.0</td>\n",
       "      <td>1</td>\n",
       "      <td>0</td>\n",
       "      <td>0</td>\n",
       "      <td>...</td>\n",
       "      <td>0.000000</td>\n",
       "      <td>1</td>\n",
       "      <td>15</td>\n",
       "      <td>2</td>\n",
       "      <td>3</td>\n",
       "      <td>9</td>\n",
       "      <td>1.0</td>\n",
       "      <td>0</td>\n",
       "      <td>1</td>\n",
       "      <td>4</td>\n",
       "    </tr>\n",
       "    <tr>\n",
       "      <th>32419</th>\n",
       "      <td>33</td>\n",
       "      <td>1</td>\n",
       "      <td>2155</td>\n",
       "      <td>5</td>\n",
       "      <td>0</td>\n",
       "      <td>1</td>\n",
       "      <td>0.0</td>\n",
       "      <td>0</td>\n",
       "      <td>1</td>\n",
       "      <td>1</td>\n",
       "      <td>...</td>\n",
       "      <td>42.984010</td>\n",
       "      <td>0</td>\n",
       "      <td>34</td>\n",
       "      <td>2</td>\n",
       "      <td>3</td>\n",
       "      <td>8</td>\n",
       "      <td>8.0</td>\n",
       "      <td>1</td>\n",
       "      <td>1</td>\n",
       "      <td>4</td>\n",
       "    </tr>\n",
       "  </tbody>\n",
       "</table>\n",
       "<p>31901 rows × 21 columns</p>\n",
       "</div>"
      ],
      "text/plain": [
       "       Age  Gender  Location  Ethnic  Religion  Citizen  English Proficiency  \\\n",
       "ID                                                                             \n",
       "11796   23       0      2002       6         1        0                  1.0   \n",
       "20545   22       1      2020       5         2        0                  0.0   \n",
       "33807   28       2      2197       5         0        1                  0.0   \n",
       "35792   26       1      2212       5         0        1                  0.0   \n",
       "42494   19       1      2500       7         1        1                  4.0   \n",
       "...    ...     ...       ...     ...       ...      ...                  ...   \n",
       "591     25       0      2075       5         1        1                  0.0   \n",
       "29211   17       0      2005       6         0        0                  2.0   \n",
       "24154   27       0      2017       5         2        1                  0.0   \n",
       "11914   34       1      2012       5         0        1                  0.0   \n",
       "32419   33       1      2155       5         0        1                  0.0   \n",
       "\n",
       "       Maternity  Working  Self Employed  ...  Hours of Work  Finding Work  \\\n",
       "ID                                        ...                                \n",
       "11796          0        1              0  ...      29.665665             0   \n",
       "20545          0        0              0  ...       0.000000             1   \n",
       "33807          0        0              0  ...       0.000000             1   \n",
       "35792          1        0              0  ...       0.000000             1   \n",
       "42494          0        0              0  ...       0.000000             1   \n",
       "...          ...      ...            ...  ...            ...           ...   \n",
       "591            0        1              0  ...      32.078482             0   \n",
       "29211          0        0              0  ...       0.000000             1   \n",
       "24154          0        1              0  ...      29.411981             0   \n",
       "11914          1        0              0  ...       0.000000             1   \n",
       "32419          0        1              1  ...      42.984010             0   \n",
       "\n",
       "       Care of Children  Care of Family  Domestic Activities Hours  \\\n",
       "ID                                                                   \n",
       "11796                33               0                          3   \n",
       "20545                35               2                          5   \n",
       "33807                35               2                          4   \n",
       "35792                 9               3                          3   \n",
       "42494                34               3                          6   \n",
       "...                 ...             ...                        ...   \n",
       "591                  34               4                          2   \n",
       "29211                32               2                          4   \n",
       "24154                33               1                          3   \n",
       "11914                15               2                          3   \n",
       "32419                34               2                          3   \n",
       "\n",
       "       Volunteered Hours  Education Level  Family  Home Internet  Dwell Type  \n",
       "ID                                                                            \n",
       "11796                  6              8.0       1              1           3  \n",
       "20545                  7              1.0       2              1           4  \n",
       "33807                  8              1.0       2              1           4  \n",
       "35792                  8              3.0       1              1           4  \n",
       "42494                  5              4.0       1              1           4  \n",
       "...                  ...              ...     ...            ...         ...  \n",
       "591                    6              9.0       1              1           2  \n",
       "29211                  3             10.0       1              1           3  \n",
       "24154                  4             10.0       2              1           4  \n",
       "11914                  9              1.0       0              1           4  \n",
       "32419                  8              8.0       1              1           4  \n",
       "\n",
       "[31901 rows x 21 columns]"
      ]
     },
     "execution_count": 30,
     "metadata": {},
     "output_type": "execute_result"
    }
   ],
   "source": [
    "X_train"
   ]
  },
  {
   "cell_type": "markdown",
   "metadata": {},
   "source": [
    "Now let us train the logistic model with the training set. "
   ]
  },
  {
   "cell_type": "code",
   "execution_count": 37,
   "metadata": {},
   "outputs": [
    {
     "name": "stderr",
     "output_type": "stream",
     "text": [
      "C:\\Users\\jy191\\Anaconda3\\lib\\site-packages\\sklearn\\linear_model\\_logistic.py:814: ConvergenceWarning: lbfgs failed to converge (status=1):\n",
      "STOP: TOTAL NO. of ITERATIONS REACHED LIMIT.\n",
      "\n",
      "Increase the number of iterations (max_iter) or scale the data as shown in:\n",
      "    https://scikit-learn.org/stable/modules/preprocessing.html\n",
      "Please also refer to the documentation for alternative solver options:\n",
      "    https://scikit-learn.org/stable/modules/linear_model.html#logistic-regression\n",
      "  n_iter_i = _check_optimize_result(\n"
     ]
    }
   ],
   "source": [
    "from sklearn import linear_model\n",
    "m0 = linear_model.LogisticRegression().fit(X_train, y_train)"
   ]
  },
  {
   "cell_type": "markdown",
   "metadata": {},
   "source": [
    "We can also diagnose whether the model overfits by comparing the accuracy score from the training and test datasets. "
   ]
  },
  {
   "cell_type": "code",
   "execution_count": 38,
   "metadata": {
    "scrolled": true
   },
   "outputs": [
    {
     "data": {
      "text/plain": [
       "0.965236199492179"
      ]
     },
     "execution_count": 38,
     "metadata": {},
     "output_type": "execute_result"
    }
   ],
   "source": [
    "m0.score(X_train, y_train)"
   ]
  },
  {
   "cell_type": "code",
   "execution_count": 39,
   "metadata": {},
   "outputs": [
    {
     "data": {
      "text/plain": [
       "0.9637013353394771"
      ]
     },
     "execution_count": 39,
     "metadata": {},
     "output_type": "execute_result"
    }
   ],
   "source": [
    "m0.score(X_test, y_test)"
   ]
  },
  {
   "cell_type": "markdown",
   "metadata": {},
   "source": [
    "We can see the scores are quite high in both datasets. Also the score is higher in test dataset which means the model has ability to predict outside of its training set. Hence by splitting the datasets we prevented overfitting. "
   ]
  },
  {
   "cell_type": "markdown",
   "metadata": {},
   "source": [
    "Train test split is a common preprocessing method and after this we can use that to predict and apply the model to other datasets. "
   ]
  },
  {
   "cell_type": "markdown",
   "metadata": {},
   "source": [
    "### Validation Set in Cross Validation and Tuning Hyperparameters (Optional)"
   ]
  },
  {
   "cell_type": "markdown",
   "metadata": {},
   "source": [
    "In other classification algorithms, they have hyperparameters that fits the model differently. However, there is no one way to decide which hyperparameters are the best and we should find them by scanning one by one. This is called tuning the hyperparameters. However, when we tuning the hyperparameters, we do not want to contaminate the training dataset. Hence we split the training dataset with a validation dataset. \n",
    "\n",
    "To make the model more robust we select one part of training set to tune the parameter, and test them using the validation set. After that we pick another partition as validation dataset and repeat. Eventually all parts of the training set is used for tuning and each iteration results in a set of parameters and we find the average of them. This is called __cross validation__. "
   ]
  },
  {
   "cell_type": "markdown",
   "metadata": {},
   "source": [
    "<img src=\"fig/TrainValidationTest.png\"/>"
   ]
  },
  {
   "cell_type": "markdown",
   "metadata": {},
   "source": [
    "We will use this cross validation technique in hyperparameter tuning. "
   ]
  },
  {
   "cell_type": "markdown",
   "metadata": {},
   "source": [
    "To find the best parameters, we will specify the range of hyperparameters and perform cross validation each time. We will produce a score and move to next one. The diagram below gives us a schematic view of what it means. "
   ]
  },
  {
   "cell_type": "markdown",
   "metadata": {},
   "source": [
    "<img src=\"fig/GridSearch.png\" width=\"680px\"/>"
   ]
  },
  {
   "cell_type": "markdown",
   "metadata": {},
   "source": [
    "The model chose is where it produces the __highest score/ importance__. Now let us use the full dataset first to tune the hyperparameters. "
   ]
  },
  {
   "cell_type": "code",
   "execution_count": 18,
   "metadata": {
    "scrolled": true
   },
   "outputs": [
    {
     "name": "stdout",
     "output_type": "stream",
     "text": [
      "Fitting 5 folds for each of 6 candidates, totalling 30 fits\n",
      "[CV 1/5] END ....max_depth=1, max_features=sqrt;, score=0.965 total time=   0.0s\n",
      "[CV 2/5] END ....max_depth=1, max_features=sqrt;, score=0.965 total time=   0.0s\n",
      "[CV 3/5] END ....max_depth=1, max_features=sqrt;, score=0.965 total time=   0.0s\n",
      "[CV 4/5] END ....max_depth=1, max_features=sqrt;, score=0.965 total time=   0.0s\n",
      "[CV 5/5] END ....max_depth=1, max_features=sqrt;, score=0.965 total time=   0.0s\n",
      "[CV 1/5] END ....max_depth=1, max_features=log2;, score=0.965 total time=   0.0s\n",
      "[CV 2/5] END ....max_depth=1, max_features=log2;, score=0.965 total time=   0.0s\n",
      "[CV 3/5] END ....max_depth=1, max_features=log2;, score=0.965 total time=   0.0s\n",
      "[CV 4/5] END ....max_depth=1, max_features=log2;, score=0.965 total time=   0.0s\n",
      "[CV 5/5] END ....max_depth=1, max_features=log2;, score=0.965 total time=   0.0s\n",
      "[CV 1/5] END ....max_depth=2, max_features=sqrt;, score=0.965 total time=   0.0s\n",
      "[CV 2/5] END ....max_depth=2, max_features=sqrt;, score=0.965 total time=   0.0s\n",
      "[CV 3/5] END ....max_depth=2, max_features=sqrt;, score=0.965 total time=   0.0s\n",
      "[CV 4/5] END ....max_depth=2, max_features=sqrt;, score=0.965 total time=   0.0s\n",
      "[CV 5/5] END ....max_depth=2, max_features=sqrt;, score=0.965 total time=   0.0s\n",
      "[CV 1/5] END ....max_depth=2, max_features=log2;, score=0.965 total time=   0.0s\n",
      "[CV 2/5] END ....max_depth=2, max_features=log2;, score=0.965 total time=   0.0s\n",
      "[CV 3/5] END ....max_depth=2, max_features=log2;, score=0.965 total time=   0.0s\n",
      "[CV 4/5] END ....max_depth=2, max_features=log2;, score=0.965 total time=   0.0s\n",
      "[CV 5/5] END ....max_depth=2, max_features=log2;, score=0.965 total time=   0.0s\n",
      "[CV 1/5] END ....max_depth=3, max_features=sqrt;, score=0.965 total time=   0.0s\n",
      "[CV 2/5] END ....max_depth=3, max_features=sqrt;, score=0.965 total time=   0.0s\n",
      "[CV 3/5] END ....max_depth=3, max_features=sqrt;, score=0.965 total time=   0.0s\n",
      "[CV 4/5] END ....max_depth=3, max_features=sqrt;, score=0.965 total time=   0.0s\n",
      "[CV 5/5] END ....max_depth=3, max_features=sqrt;, score=0.965 total time=   0.0s\n",
      "[CV 1/5] END ....max_depth=3, max_features=log2;, score=0.965 total time=   0.0s\n",
      "[CV 2/5] END ....max_depth=3, max_features=log2;, score=0.965 total time=   0.0s\n",
      "[CV 3/5] END ....max_depth=3, max_features=log2;, score=0.965 total time=   0.0s\n",
      "[CV 4/5] END ....max_depth=3, max_features=log2;, score=0.965 total time=   0.0s\n",
      "[CV 5/5] END ....max_depth=3, max_features=log2;, score=0.965 total time=   0.0s\n"
     ]
    },
    {
     "data": {
      "text/plain": [
       "GridSearchCV(estimator=DecisionTreeClassifier(),\n",
       "             param_grid={'max_depth': [1, 2, 3],\n",
       "                         'max_features': ['sqrt', 'log2']},\n",
       "             verbose=4)"
      ]
     },
     "execution_count": 18,
     "metadata": {},
     "output_type": "execute_result"
    }
   ],
   "source": [
    "from sklearn.model_selection import GridSearchCV\n",
    "\n",
    "gs = GridSearchCV(estimator=tree.DecisionTreeClassifier(), param_grid={'max_depth': [1, 2, 3], 'max_features': ['sqrt', 'log2']}, verbose=4)\n",
    "gs.fit(X, y)"
   ]
  },
  {
   "cell_type": "code",
   "execution_count": 19,
   "metadata": {},
   "outputs": [
    {
     "data": {
      "text/plain": [
       "(DecisionTreeClassifier(max_depth=3, max_features='sqrt'), 0.9649230045844599)"
      ]
     },
     "execution_count": 19,
     "metadata": {},
     "output_type": "execute_result"
    }
   ],
   "source": [
    "gs.best_estimator_, gs.best_score_"
   ]
  },
  {
   "cell_type": "code",
   "execution_count": 20,
   "metadata": {},
   "outputs": [
    {
     "data": {
      "text/plain": [
       "{'mean_fit_time': array([0.01918893, 0.01621704, 0.01958847, 0.02042456, 0.02318602,\n",
       "        0.02223659]),\n",
       " 'std_fit_time': array([0.00292387, 0.00077781, 0.00148334, 0.0027244 , 0.00222587,\n",
       "        0.00166386]),\n",
       " 'mean_score_time': array([0.00419779, 0.00360165, 0.00380297, 0.00339923, 0.00379806,\n",
       "        0.00359826]),\n",
       " 'std_score_time': array([0.00040009, 0.00080502, 0.00040199, 0.00048964, 0.00039941,\n",
       "        0.00048943]),\n",
       " 'param_max_depth': masked_array(data=[1, 1, 2, 2, 3, 3],\n",
       "              mask=[False, False, False, False, False, False],\n",
       "        fill_value='?',\n",
       "             dtype=object),\n",
       " 'param_max_features': masked_array(data=['sqrt', 'log2', 'sqrt', 'log2', 'sqrt', 'log2'],\n",
       "              mask=[False, False, False, False, False, False],\n",
       "        fill_value='?',\n",
       "             dtype=object),\n",
       " 'params': [{'max_depth': 1, 'max_features': 'sqrt'},\n",
       "  {'max_depth': 1, 'max_features': 'log2'},\n",
       "  {'max_depth': 2, 'max_features': 'sqrt'},\n",
       "  {'max_depth': 2, 'max_features': 'log2'},\n",
       "  {'max_depth': 3, 'max_features': 'sqrt'},\n",
       "  {'max_depth': 3, 'max_features': 'log2'}],\n",
       " 'split0_test_score': array([0.96485247, 0.96485247, 0.96485247, 0.96485247, 0.96485247,\n",
       "        0.96485247]),\n",
       " 'split1_test_score': array([0.96485247, 0.96485247, 0.96485247, 0.96485247, 0.96520513,\n",
       "        0.96485247]),\n",
       " 'split2_test_score': array([0.96485247, 0.96485247, 0.96485247, 0.96485247, 0.96485247,\n",
       "        0.96485247]),\n",
       " 'split3_test_score': array([0.96485247, 0.96485247, 0.96485247, 0.96485247, 0.96485247,\n",
       "        0.96485247]),\n",
       " 'split4_test_score': array([0.96485247, 0.96485247, 0.96485247, 0.96485247, 0.96485247,\n",
       "        0.96485247]),\n",
       " 'mean_test_score': array([0.96485247, 0.96485247, 0.96485247, 0.96485247, 0.964923  ,\n",
       "        0.96485247]),\n",
       " 'std_test_score': array([0.        , 0.        , 0.        , 0.        , 0.00014106,\n",
       "        0.        ]),\n",
       " 'rank_test_score': array([2, 2, 2, 2, 1, 2])}"
      ]
     },
     "execution_count": 20,
     "metadata": {},
     "output_type": "execute_result"
    }
   ],
   "source": [
    "gs.cv_results_"
   ]
  },
  {
   "cell_type": "markdown",
   "metadata": {},
   "source": [
    "After that we use the splitted dataset from previous section. "
   ]
  },
  {
   "cell_type": "code",
   "execution_count": 174,
   "metadata": {},
   "outputs": [
    {
     "name": "stdout",
     "output_type": "stream",
     "text": [
      "Fitting 5 folds for each of 6 candidates, totalling 30 fits\n",
      "[CV 1/5] END ....max_depth=1, max_features=sqrt;, score=0.966 total time=   0.0s\n",
      "[CV 2/5] END ....max_depth=1, max_features=sqrt;, score=0.966 total time=   0.0s\n",
      "[CV 3/5] END ....max_depth=1, max_features=sqrt;, score=0.966 total time=   0.0s\n",
      "[CV 4/5] END ....max_depth=1, max_features=sqrt;, score=0.966 total time=   0.0s\n",
      "[CV 5/5] END ....max_depth=1, max_features=sqrt;, score=0.966 total time=   0.0s\n",
      "[CV 1/5] END ....max_depth=1, max_features=log2;, score=0.966 total time=   0.0s\n",
      "[CV 2/5] END ....max_depth=1, max_features=log2;, score=0.966 total time=   0.0s\n",
      "[CV 3/5] END ....max_depth=1, max_features=log2;, score=0.966 total time=   0.0s\n",
      "[CV 4/5] END ....max_depth=1, max_features=log2;, score=0.966 total time=   0.0s\n",
      "[CV 5/5] END ....max_depth=1, max_features=log2;, score=0.966 total time=   0.0s\n",
      "[CV 1/5] END ....max_depth=2, max_features=sqrt;, score=0.966 total time=   0.0s\n",
      "[CV 2/5] END ....max_depth=2, max_features=sqrt;, score=0.966 total time=   0.0s\n",
      "[CV 3/5] END ....max_depth=2, max_features=sqrt;, score=0.966 total time=   0.0s\n",
      "[CV 4/5] END ....max_depth=2, max_features=sqrt;, score=0.966 total time=   0.0s\n",
      "[CV 5/5] END ....max_depth=2, max_features=sqrt;, score=0.966 total time=   0.0s\n",
      "[CV 1/5] END ....max_depth=2, max_features=log2;, score=0.966 total time=   0.0s\n",
      "[CV 2/5] END ....max_depth=2, max_features=log2;, score=0.966 total time=   0.0s\n",
      "[CV 3/5] END ....max_depth=2, max_features=log2;, score=0.966 total time=   0.0s\n",
      "[CV 4/5] END ....max_depth=2, max_features=log2;, score=0.966 total time=   0.0s\n",
      "[CV 5/5] END ....max_depth=2, max_features=log2;, score=0.966 total time=   0.0s\n",
      "[CV 1/5] END ....max_depth=3, max_features=sqrt;, score=0.966 total time=   0.0s\n",
      "[CV 2/5] END ....max_depth=3, max_features=sqrt;, score=0.966 total time=   0.0s\n",
      "[CV 3/5] END ....max_depth=3, max_features=sqrt;, score=0.966 total time=   0.0s\n",
      "[CV 4/5] END ....max_depth=3, max_features=sqrt;, score=0.966 total time=   0.0s\n",
      "[CV 5/5] END ....max_depth=3, max_features=sqrt;, score=0.966 total time=   0.0s\n",
      "[CV 1/5] END ....max_depth=3, max_features=log2;, score=0.966 total time=   0.0s\n",
      "[CV 2/5] END ....max_depth=3, max_features=log2;, score=0.966 total time=   0.0s\n",
      "[CV 3/5] END ....max_depth=3, max_features=log2;, score=0.966 total time=   0.0s\n",
      "[CV 4/5] END ....max_depth=3, max_features=log2;, score=0.966 total time=   0.0s\n",
      "[CV 5/5] END ....max_depth=3, max_features=log2;, score=0.966 total time=   0.0s\n"
     ]
    },
    {
     "data": {
      "text/plain": [
       "GridSearchCV(estimator=DecisionTreeClassifier(),\n",
       "             param_grid={'max_depth': [1, 2, 3],\n",
       "                         'max_features': ['sqrt', 'log2']},\n",
       "             verbose=4)"
      ]
     },
     "execution_count": 174,
     "metadata": {},
     "output_type": "execute_result"
    }
   ],
   "source": [
    "gs = GridSearchCV(estimator=tree.DecisionTreeClassifier(), param_grid={'max_depth': [1, 2, 3], 'max_features': ['sqrt', 'log2']}, verbose=4)\n",
    "gs.fit(X_train, y_train)"
   ]
  },
  {
   "cell_type": "code",
   "execution_count": 175,
   "metadata": {
    "scrolled": true
   },
   "outputs": [
    {
     "data": {
      "text/plain": [
       "(DecisionTreeClassifier(max_depth=1, max_features='sqrt'), 0.9660512227965172)"
      ]
     },
     "execution_count": 175,
     "metadata": {},
     "output_type": "execute_result"
    }
   ],
   "source": [
    "gs.best_estimator_, gs.best_score_"
   ]
  },
  {
   "cell_type": "markdown",
   "metadata": {},
   "source": [
    "We found that the splitted dataset produces a better model. "
   ]
  },
  {
   "cell_type": "markdown",
   "metadata": {},
   "source": [
    "Before we move on, let us use a boosting model. Boosting in machine learning means we train the models and weighted the ones that are important and retrain to obtain the hyperparameters. This is useful when we have features that is irrelevant to the target variable. "
   ]
  },
  {
   "cell_type": "code",
   "execution_count": 183,
   "metadata": {},
   "outputs": [
    {
     "name": "stdout",
     "output_type": "stream",
     "text": [
      "Fitting 5 folds for each of 4 candidates, totalling 20 fits\n",
      "[CV 1/5] END ....................n_estimators=1;, score=0.966 total time=   0.0s\n",
      "[CV 2/5] END ....................n_estimators=1;, score=0.966 total time=   0.0s\n",
      "[CV 3/5] END ....................n_estimators=1;, score=0.966 total time=   0.0s\n",
      "[CV 4/5] END ....................n_estimators=1;, score=0.966 total time=   0.0s\n",
      "[CV 5/5] END ....................n_estimators=1;, score=0.966 total time=   0.0s\n",
      "[CV 1/5] END ....................n_estimators=2;, score=0.966 total time=   0.0s\n",
      "[CV 2/5] END ....................n_estimators=2;, score=0.966 total time=   0.0s\n",
      "[CV 3/5] END ....................n_estimators=2;, score=0.966 total time=   0.0s\n",
      "[CV 4/5] END ....................n_estimators=2;, score=0.966 total time=   0.0s\n",
      "[CV 5/5] END ....................n_estimators=2;, score=0.966 total time=   0.0s\n",
      "[CV 1/5] END ....................n_estimators=3;, score=0.966 total time=   0.0s\n",
      "[CV 2/5] END ....................n_estimators=3;, score=0.966 total time=   0.0s\n",
      "[CV 3/5] END ....................n_estimators=3;, score=0.966 total time=   0.0s\n",
      "[CV 4/5] END ....................n_estimators=3;, score=0.966 total time=   0.0s\n",
      "[CV 5/5] END ....................n_estimators=3;, score=0.966 total time=   0.0s\n",
      "[CV 1/5] END ....................n_estimators=5;, score=0.966 total time=   0.0s\n",
      "[CV 2/5] END ....................n_estimators=5;, score=0.966 total time=   0.0s\n",
      "[CV 3/5] END ....................n_estimators=5;, score=0.966 total time=   0.0s\n",
      "[CV 4/5] END ....................n_estimators=5;, score=0.966 total time=   0.0s\n",
      "[CV 5/5] END ....................n_estimators=5;, score=0.966 total time=   0.0s\n"
     ]
    },
    {
     "data": {
      "text/plain": [
       "GridSearchCV(estimator=AdaBoostClassifier(),\n",
       "             param_grid={'n_estimators': [1, 2, 3, 5]}, verbose=4)"
      ]
     },
     "execution_count": 183,
     "metadata": {},
     "output_type": "execute_result"
    }
   ],
   "source": [
    "gs_alt = GridSearchCV(estimator=AdaBoostClassifier(), param_grid={'n_estimators': [1, 2, 3, 5]}, verbose=4)\n",
    "gs_alt.fit(X_train, y_train)"
   ]
  },
  {
   "cell_type": "markdown",
   "metadata": {},
   "source": [
    "Finally let us find out which parameter produces the best model."
   ]
  },
  {
   "cell_type": "code",
   "execution_count": 184,
   "metadata": {},
   "outputs": [
    {
     "data": {
      "text/plain": [
       "(AdaBoostClassifier(n_estimators=1), 0.9660512227965172)"
      ]
     },
     "execution_count": 184,
     "metadata": {},
     "output_type": "execute_result"
    }
   ],
   "source": [
    "gs_alt.best_estimator_, gs_alt.best_score_"
   ]
  },
  {
   "cell_type": "markdown",
   "metadata": {},
   "source": [
    "### Ensemble Methods (Optional)"
   ]
  },
  {
   "cell_type": "markdown",
   "metadata": {},
   "source": [
    "Ensemble method means we train our data in several algorithms and weight their results by their score. This is one of the ways to make our classification task better. \n",
    "\n",
    "To do so, we use `StackingClassifier()` from scikit-learn. But first let us prepare the algorithms to be stacked in `estimators`. It is a list with format of \n",
    "```python\n",
    "('name of the classifer', the classifier here)\n",
    "```"
   ]
  },
  {
   "cell_type": "code",
   "execution_count": 207,
   "metadata": {},
   "outputs": [],
   "source": [
    "from sklearn.linear_model import RidgeClassifier\n",
    "from sklearn import tree\n",
    "from sklearn.ensemble import AdaBoostClassifier\n",
    "from sklearn.ensemble import GradientBoostingClassifier\n",
    "\n",
    "estimators = [('tree', tree.DecisionTreeClassifier(max_depth=1, max_features='sqrt')), ('ridge', RidgeClassifier(alpha=1e-08, solver='svd')), ('ada', AdaBoostClassifier(n_estimators=1))]\n",
    "final_estimator = GradientBoostingClassifier(n_estimators=12, subsample=0.5, min_samples_leaf=25, max_features=1, random_state=42)"
   ]
  },
  {
   "cell_type": "code",
   "execution_count": 208,
   "metadata": {},
   "outputs": [
    {
     "data": {
      "text/plain": [
       "StackingClassifier(estimators=[('tree',\n",
       "                                DecisionTreeClassifier(max_depth=1,\n",
       "                                                       max_features='sqrt')),\n",
       "                               ('ridge',\n",
       "                                RidgeClassifier(alpha=1e-08, solver='svd')),\n",
       "                               ('ada', AdaBoostClassifier(n_estimators=1))],\n",
       "                   final_estimator=GradientBoostingClassifier(max_features=1,\n",
       "                                                              min_samples_leaf=25,\n",
       "                                                              n_estimators=12,\n",
       "                                                              random_state=42,\n",
       "                                                              subsample=0.5))"
      ]
     },
     "execution_count": 208,
     "metadata": {},
     "output_type": "execute_result"
    }
   ],
   "source": [
    "from sklearn.ensemble import StackingClassifier\n",
    "\n",
    "m_f = StackingClassifier(estimators=estimators, final_estimator=final_estimator)\n",
    "m_f.fit(X_train, y_train)"
   ]
  },
  {
   "cell_type": "markdown",
   "metadata": {},
   "source": [
    "Of course, we should predict from the test dataset and see what happens. "
   ]
  },
  {
   "cell_type": "code",
   "execution_count": 209,
   "metadata": {},
   "outputs": [],
   "source": [
    "y_pred = m_f.predict(X_test)"
   ]
  },
  {
   "cell_type": "markdown",
   "metadata": {},
   "source": [
    "The accuracy score is below. "
   ]
  },
  {
   "cell_type": "code",
   "execution_count": 212,
   "metadata": {},
   "outputs": [
    {
     "name": "stdout",
     "output_type": "stream",
     "text": [
      "0.961256347564416\n"
     ]
    }
   ],
   "source": [
    "from sklearn.metrics import accuracy_score\n",
    "print(accuracy_score(y_test, y_pred))"
   ]
  },
  {
   "cell_type": "markdown",
   "metadata": {},
   "source": [
    "### Evaluate your Model (Optional)"
   ]
  },
  {
   "cell_type": "markdown",
   "metadata": {},
   "source": [
    "Finally we should evaluate if what we have done fits the data best. From last week we used $R^2$, AIC and others to evaluate regression model. In this week we have seen couple of the evaluation metrics: \n",
    "* mean accuracy\n",
    "* precision score\n",
    "* statistical significance\n",
    "\n",
    "This section will cover the rest of the methods to evaluate the models. This is called the Receiver Operating Characteristic (ROC). "
   ]
  },
  {
   "cell_type": "markdown",
   "metadata": {},
   "source": [
    "ROC tells at different hyperparameter settings how will the tradeoff between true positive rate (sensitivity) and false positive rate (specificity) holds. It forms a line that is the threshold of what will happen. So let us start. "
   ]
  },
  {
   "cell_type": "code",
   "execution_count": 12,
   "metadata": {},
   "outputs": [],
   "source": [
    "from sklearn.metrics import roc_curve"
   ]
  },
  {
   "cell_type": "markdown",
   "metadata": {},
   "source": [
    "The function `roc_curve` looks for both the `y` values and the score of each corresponding values. This time we get them from one ridge classifier model (similar to one mentioned from regression, if you not sure of this then treat it as a different classifier). "
   ]
  },
  {
   "cell_type": "code",
   "execution_count": 16,
   "metadata": {},
   "outputs": [],
   "source": [
    "from sklearn.linear_model import RidgeClassifier\n",
    "y_score = RidgeClassifier().fit(X_train, y_train).decision_function(X_test)"
   ]
  },
  {
   "cell_type": "markdown",
   "metadata": {},
   "source": [
    "So we can calculate the true and false positive rates using them. As a reminder, they are defined as. \n",
    "\n",
    "$$\\operatorname{TPR}\\;=\\;\\frac{\\operatorname{TP}}{\\operatorname{TP}\\;+\\;\\operatorname{FP}}$$\n",
    "\n",
    "$$\\operatorname{FPR}\\;=\\;\\frac{\\operatorname{FP}}{\\operatorname{FP}\\;+\\;\\operatorname{FN}}$$\n",
    "\n",
    "Where $\\operatorname{TP}$ is true positive, $\\operatorname{FP}$ is false positive, $\\operatorname{FN}$ is false negative. "
   ]
  },
  {
   "cell_type": "code",
   "execution_count": 17,
   "metadata": {},
   "outputs": [],
   "source": [
    "fpr, tpr, _ = roc_curve(y_test.ravel(), y_score.ravel())"
   ]
  },
  {
   "cell_type": "markdown",
   "metadata": {},
   "source": [
    "We can also compute the area under the ROC. Because of fluctuations from classifying, this shows at different combinations of classification thresholds. The higher the AUC the better the classification algorithm to classify from the data. "
   ]
  },
  {
   "cell_type": "code",
   "execution_count": 18,
   "metadata": {},
   "outputs": [
    {
     "data": {
      "text/plain": [
       "0.755796360294429"
      ]
     },
     "execution_count": 18,
     "metadata": {},
     "output_type": "execute_result"
    }
   ],
   "source": [
    "from sklearn.metrics import auc\n",
    "auc(fpr, tpr)"
   ]
  },
  {
   "cell_type": "markdown",
   "metadata": {},
   "source": [
    "So now we can plot them and we can see what ROC looks like. "
   ]
  },
  {
   "cell_type": "code",
   "execution_count": 19,
   "metadata": {},
   "outputs": [
    {
     "data": {
      "image/png": "[encoded data removed]",
      "text/plain": [
       "<Figure size 432x288 with 1 Axes>"
      ]
     },
     "metadata": {
      "needs_background": "light"
     },
     "output_type": "display_data"
    }
   ],
   "source": [
    "import matplotlib.pyplot as plt\n",
    "\n",
    "plt.figure()\n",
    "plt.plot(fpr, tpr, color=\"orange\", label=\"ROC curve (AUC = %0.2f)\" % auc(fpr, tpr))\n",
    "plt.plot([0, 1], [0, 1], color=\"navy\", linestyle=\"--\")\n",
    "plt.xlim([0.0, 1.0])\n",
    "plt.ylim([0.0, 1.05])\n",
    "plt.xlabel(\"False Positive Rate\")\n",
    "plt.ylabel(\"True Positive Rate\")\n",
    "plt.title(\"ROC Curve\")\n",
    "plt.legend(loc=\"lower right\")\n",
    "plt.show()"
   ]
  },
  {
   "cell_type": "markdown",
   "metadata": {},
   "source": [
    "We observe the following: \n",
    "* The line starts from botton left and goes to top right. You can prove that when all data is true positive then in the equation for false positive rate, there is no data that can be false negative (because they are predicted to be true). \n",
    "* ROC increases monotonically. "
   ]
  },
  {
   "cell_type": "markdown",
   "metadata": {},
   "source": [
    "We can also possess ROC curves by calculating the true and false positive rates for different models (with different hyperparameters). In the following we change the depth from the decision tree. "
   ]
  },
  {
   "cell_type": "code",
   "execution_count": 50,
   "metadata": {},
   "outputs": [
    {
     "data": {
      "image/png": "[encoded data removed]",
      "text/plain": [
       "<Figure size 432x288 with 1 Axes>"
      ]
     },
     "metadata": {
      "needs_background": "light"
     },
     "output_type": "display_data"
    }
   ],
   "source": [
    "import numpy as np\n",
    "\n",
    "from sklearn import tree\n",
    "\n",
    "from sklearn.impute import SimpleImputer\n",
    "from sklearn.metrics import confusion_matrix\n",
    "import matplotlib.pyplot as plt\n",
    "\n",
    "imp = SimpleImputer(missing_values=np.nan, strategy='constant', fill_value=1)\n",
    "\n",
    "tpr = []\n",
    "fpr = []\n",
    "\n",
    "max_depth = [5, 10, 20, 50, 100, 150]\n",
    "\n",
    "for i in range(len(max_depth)):\n",
    "    y_pred = tree.DecisionTreeClassifier(max_depth=max_depth[i]).fit(X, y).predict(X)\n",
    "    tn, fp, fn, tp = confusion_matrix(y, y_pred).ravel()\n",
    "    \n",
    "    tpr.append(tp/(tp+fp))\n",
    "    fpr.append(fp/(fp+tn))\n",
    "\n",
    "plt.figure()\n",
    "plt.scatter(fpr, tpr)\n",
    "plt.plot([0, 1], [0, 1], color=\"navy\", linestyle=\"--\")\n",
    "plt.xlim([-0.01, 1.0])\n",
    "plt.ylim([0.0, 1.05])\n",
    "plt.xlabel('False Positive Rate')\n",
    "plt.ylabel('True Positive Rate')\n",
    "plt.show()"
   ]
  },
  {
   "cell_type": "markdown",
   "metadata": {},
   "source": [
    "We can see the curve reaches to the top very early. "
   ]
  },
  {
   "cell_type": "markdown",
   "metadata": {},
   "source": [
    "The other main category of evaluating classification models is to look at the business rules. For example, we can look at the range of predicted data or other characteristics using EDA. "
   ]
  },
  {
   "cell_type": "markdown",
   "metadata": {},
   "source": [
    "## Application: Classifying Texts"
   ]
  },
  {
   "cell_type": "markdown",
   "metadata": {},
   "source": [
    "Now we have gone through the techniques of supervised learning, let us apply them on classifying texts. In this week, we will look at classifying positive and negative texts. This is useful when we are trying to find negative comments, fake news or spamming messages. "
   ]
  },
  {
   "cell_type": "markdown",
   "metadata": {},
   "source": [
    "In these examples it requires text data as inputs. Text is not numerical so we need to convert them to quantitative data. `sklearn` offers `.CountVectorizer()` which converts texts into their frequency counts. Let us see an example. "
   ]
  },
  {
   "cell_type": "code",
   "execution_count": 1,
   "metadata": {},
   "outputs": [],
   "source": [
    "# Try me\n",
    "from sklearn.feature_extraction.text import CountVectorizer\n",
    "\n",
    "corpus = [\"Here’s to your health and the New Year.\", \n",
    "          \"Although it wasn't a pot of gold, Nancy was still enthralled at what she found at the end of the rainbow.\", \n",
    "          \"You have every right to be angry, but that doesn't give you the right to be mean.\", \n",
    "          \"The hand sanitizer was actually very cold.\", \n",
    "          \"Sometimes you have to just give up and win by cheating.\", \n",
    "          \"The blinking lights of the antenna tower came into focus just as I heard a loud snap.\", \n",
    "          \"After a long talk, they decided to break up.\", \n",
    "          \"She couldn't decide of the glass was half empty or half full so she drank it.\", \n",
    "          \"Malls are great places to shop; I can find everything I need under one roof.\", \n",
    "          \"His eyes met mine on the street.\", \n",
    "          \"She is never happy until she finds something to be unhappy about; then, she is overjoyed.\", \n",
    "          \"She had that tint of craziness in her soul that made her believe she could actually make a difference.\", \n",
    "          \"Where do I put this box?\", \n",
    "          \"Mary plays the little lamb.\", \n",
    "          \"It isn't difficult to do a handstand if you just stand on your hands.\"]\n",
    "\n",
    "vectoriser = CountVectorizer()  # We generate the CountVectorizer object first and use it to count from `corpus`\n",
    "X = vectoriser.fit_transform(corpus)"
   ]
  },
  {
   "cell_type": "markdown",
   "metadata": {},
   "source": [
    "The cell outputs a term-document matrix which shows the frequency of words appeared. This is done by `.fit_transform()`. Now `X` contains the frequency data and if we simply print it, it does not print the data that we wanted. The `CountVectorizer()` has an attribute called `vocabulary_` (There is an underscore at the end) which shows the frequency of each words appeared. "
   ]
  },
  {
   "cell_type": "code",
   "execution_count": 18,
   "metadata": {},
   "outputs": [
    {
     "data": {
      "text/plain": [
       "{'here': 56,\n",
       " 'to': 111,\n",
       " 'your': 125,\n",
       " 'health': 53,\n",
       " 'and': 4,\n",
       " 'the': 106,\n",
       " 'new': 80,\n",
       " 'year': 123,\n",
       " 'although': 3,\n",
       " 'it': 63,\n",
       " 'wasn': 119,\n",
       " 'pot': 88,\n",
       " 'of': 81,\n",
       " 'gold': 44,\n",
       " 'nancy': 77,\n",
       " 'was': 118,\n",
       " 'still': 102,\n",
       " 'enthralled': 33,\n",
       " 'at': 9,\n",
       " 'what': 120,\n",
       " 'she': 94,\n",
       " 'found': 40,\n",
       " 'end': 32,\n",
       " 'rainbow': 90,\n",
       " 'you': 124,\n",
       " 'have': 52,\n",
       " 'every': 34,\n",
       " 'right': 91,\n",
       " 'be': 10,\n",
       " 'angry': 5,\n",
       " 'but': 15,\n",
       " 'that': 105,\n",
       " 'doesn': 29,\n",
       " 'give': 42,\n",
       " 'mean': 74,\n",
       " 'hand': 48,\n",
       " 'sanitizer': 93,\n",
       " 'actually': 1,\n",
       " 'very': 117,\n",
       " 'cold': 20,\n",
       " 'sometimes': 99,\n",
       " 'just': 64,\n",
       " 'up': 116,\n",
       " 'win': 122,\n",
       " 'by': 16,\n",
       " 'cheating': 19,\n",
       " 'blinking': 12,\n",
       " 'lights': 66,\n",
       " 'antenna': 6,\n",
       " 'tower': 112,\n",
       " 'came': 17,\n",
       " 'into': 60,\n",
       " 'focus': 39,\n",
       " 'as': 8,\n",
       " 'heard': 54,\n",
       " 'loud': 69,\n",
       " 'snap': 96,\n",
       " 'after': 2,\n",
       " 'long': 68,\n",
       " 'talk': 104,\n",
       " 'they': 108,\n",
       " 'decided': 25,\n",
       " 'break': 14,\n",
       " 'couldn': 22,\n",
       " 'decide': 24,\n",
       " 'glass': 43,\n",
       " 'half': 47,\n",
       " 'empty': 31,\n",
       " 'or': 84,\n",
       " 'full': 41,\n",
       " 'so': 97,\n",
       " 'drank': 30,\n",
       " 'malls': 72,\n",
       " 'are': 7,\n",
       " 'great': 45,\n",
       " 'places': 86,\n",
       " 'shop': 95,\n",
       " 'can': 18,\n",
       " 'find': 37,\n",
       " 'everything': 35,\n",
       " 'need': 78,\n",
       " 'under': 113,\n",
       " 'one': 83,\n",
       " 'roof': 92,\n",
       " 'his': 57,\n",
       " 'eyes': 36,\n",
       " 'met': 75,\n",
       " 'mine': 76,\n",
       " 'on': 82,\n",
       " 'street': 103,\n",
       " 'is': 61,\n",
       " 'never': 79,\n",
       " 'happy': 51,\n",
       " 'until': 115,\n",
       " 'finds': 38,\n",
       " 'something': 98,\n",
       " 'unhappy': 114,\n",
       " 'about': 0,\n",
       " 'then': 107,\n",
       " 'overjoyed': 85,\n",
       " 'had': 46,\n",
       " 'tint': 110,\n",
       " 'craziness': 23,\n",
       " 'in': 59,\n",
       " 'her': 55,\n",
       " 'soul': 100,\n",
       " 'made': 70,\n",
       " 'believe': 11,\n",
       " 'could': 21,\n",
       " 'make': 71,\n",
       " 'difference': 26,\n",
       " 'where': 121,\n",
       " 'do': 28,\n",
       " 'put': 89,\n",
       " 'this': 109,\n",
       " 'box': 13,\n",
       " 'mary': 73,\n",
       " 'plays': 87,\n",
       " 'little': 67,\n",
       " 'lamb': 65,\n",
       " 'isn': 62,\n",
       " 'difficult': 27,\n",
       " 'handstand': 50,\n",
       " 'if': 58,\n",
       " 'stand': 101,\n",
       " 'hands': 49}"
      ]
     },
     "execution_count": 18,
     "metadata": {},
     "output_type": "execute_result"
    }
   ],
   "source": [
    "vectoriser.vocabulary_"
   ]
  },
  {
   "cell_type": "markdown",
   "metadata": {},
   "source": [
    "Too difficult to read all of them? You can visualise them with a bar plot. "
   ]
  },
  {
   "cell_type": "code",
   "execution_count": 2,
   "metadata": {},
   "outputs": [
    {
     "data": {
      "image/png": "[encoded data removed]",
      "text/plain": [
       "<Figure size 1440x648 with 1 Axes>"
      ]
     },
     "metadata": {
      "needs_background": "light"
     },
     "output_type": "display_data"
    }
   ],
   "source": [
    "import matplotlib.pyplot as plt\n",
    "\n",
    "plt.figure(figsize=(20,9))\n",
    "plt.bar(range(len(vectoriser.vocabulary_)), list(vectoriser.vocabulary_.values()), align='center')\n",
    "plt.xticks(range(len(vectoriser.vocabulary_)), list(vectoriser.vocabulary_.keys()), rotation=70)\n",
    "plt.xlabel(\"Words\")\n",
    "plt.ylabel(\"Frequency\")\n",
    "plt.show()"
   ]
  },
  {
   "cell_type": "markdown",
   "metadata": {},
   "source": [
    "You can see that there are many words. Some of them are not necessary: They are the minor words that we use in conversations such as \"and\", \"I\" but they do not span anything meaningful. These are called __stopping words__ and too many unecessary words can contaminate our data quality. We can remove them in our analysis with the keyword `stop_words`. Let's see this in below: "
   ]
  },
  {
   "cell_type": "code",
   "execution_count": 3,
   "metadata": {},
   "outputs": [
    {
     "data": {
      "image/png": "[encoded data removed]",
      "text/plain": [
       "<Figure size 1440x648 with 1 Axes>"
      ]
     },
     "metadata": {
      "needs_background": "light"
     },
     "output_type": "display_data"
    }
   ],
   "source": [
    "# Try me\n",
    "from sklearn.feature_extraction.text import CountVectorizer\n",
    "import matplotlib.pyplot as plt\n",
    "\n",
    "vectoriser = CountVectorizer(stop_words=\"english\")  \n",
    "X = vectoriser.fit_transform(corpus)\n",
    "\n",
    "plt.figure(figsize=(20,9))\n",
    "plt.bar(range(len(vectoriser.vocabulary_)), list(vectoriser.vocabulary_.values()), align='center')\n",
    "plt.xticks(range(len(vectoriser.vocabulary_)), list(vectoriser.vocabulary_.keys()), rotation=70)\n",
    "plt.xlabel(\"Words\")\n",
    "plt.ylabel(\"Frequency\")\n",
    "plt.show()"
   ]
  },
  {
   "cell_type": "markdown",
   "metadata": {},
   "source": [
    "Of course, since we are doing a supervised learning. Let us add the target variables. In this exercise, we are trying to find whether the texts are from a particular person or not. Hence we are able to recognise words choice of that person. In the following, we transformed the data so that it includes another column called `flag`. If `flag` is 1 then this means it is from that person, where else is 0. So let us obtain the data. "
   ]
  },
  {
   "cell_type": "code",
   "execution_count": 24,
   "metadata": {
    "solution": "hidden"
   },
   "outputs": [],
   "source": [
    "# Run to get the data\n",
    "train_data = [(\"Here's to your health and the New Year.\", 0), \n",
    "          (\"Although it wasn't a pot of gold, Nancy was still enthralled at what she found at the end of the rainbow.\", 0), \n",
    "          (\"You have every right to be angry, but that doesn't give you the right to be mean.\", 0), \n",
    "          (\"The hand sanitizer was actually very cold.\", 1), \n",
    "          (\"Sometimes you have to just give up and win by cheating.\", 1), \n",
    "          (\"The blinking lights of the antenna tower came into focus just as I heard a loud snap.\", 0), \n",
    "          (\"After a long talk, they decided to break up.\", 0), \n",
    "          (\"She couldn't decide of the glass was half empty or half full so she drank it.\", 1), \n",
    "          (\"Malls are great places to shop; I can find everything I need under one roof.\", 0), \n",
    "          (\"His eyes met mine on the street.\", 0), \n",
    "          (\"She is never happy until she finds something to be unhappy about; then, she is overjoyed.\", 0), \n",
    "          (\"She had that tint of craziness in her soul that made her believe she could actually make a difference.\", 0), \n",
    "          (\"Where do I put this box?\", 0), \n",
    "          (\"Mary plays the little lamb.\", 0), \n",
    "          (\"It isn't difficult to do a handstand if you just stand on your hands.\", 0),\n",
    "          (\"I made an effort to smile in front of others.\",0),\n",
    "          (\"After exploring the abandoned building, he started to believe in ghosts. Sometimes he cannot sleep in night.\",0),\n",
    "          (\"I don't except anybody who can tell the difference between Pepsi and Coke.\",0),\n",
    "          (\"You can tweet whatever you want, at any time you want, as often as you want.\",0),\n",
    "          (\"I was so mad that I yelled at him at the top of my lungs.\",0),\n",
    "          (\"Your mom is so nice she gave me a ride home today. We had a chat.\",0),\n",
    "          (\"What I remember is that she was with us at 8 pm. After that we have not heard anything.\",0),\n",
    "          (\"There are few things better in life than a slice of pie.\",1),\n",
    "          (\"Generally speaking, a woman will live longer than a man. Statistics shows that on average woman live around 80 years while men live around 84 years.\",0),\n",
    "          (\"We have been convinced of this because the people who own everything also own the news.\",0),\n",
    "          (\"This company is listed on the Paris stock exchange.\",0),\n",
    "          (\"We have a big stove which keeps us very toasty.\",0),\n",
    "          (\"Wes likes watching old movies on Sunday nights. This is when we sit together as a family.\",0),\n",
    "          (\"I haven’t heard anything about him since you wrote to me.\",0),\n",
    "          (\"Tom and Mary shared an umbrella However, it wasn't big enough and they both got wet.\",0)\n",
    "            ]\n",
    "test_data = [\"Tom and Mary shared an umbrella However, it wasn't big enough and they both got wet.\", \n",
    "          \"Although it wasn't a pot of gold, Nancy was still enthralled at what she found at the end of the rainbow.\", \n",
    "          \"You have every right to be angry, but that doesn't give you the right to be mean.\", \n",
    "          \"Excuse me sir I would like you to get me another drink.\", \n",
    "          \"Thank you for finishing the last slice of pizza!\", \n",
    "          \"The blinking lights of the antenna tower came into focus just as I heard a loud snap.\", \n",
    "          \"Mary plays the little lamb.\", \n",
    "          \"She had that tint of craziness in her soul that made her believe she could actually make a difference.\", \n",
    "          \"Malls are great places to shop; I can find everything I need under one roof.\", \n",
    "          \"His eyes met mine on the street.\", \n",
    "          \"She is never happy until she finds something to be unhappy about; then, she is overjoyed.\", \n",
    "          \"She couldn't decide of the glass was half empty or half full so she drank it.\", \n",
    "          \"Where do I put this box?\",\n",
    "          \"25 years later, she still regretted that specific moment.\",\n",
    "          \"As the rental car rolled to a stop on the dark road, she looked back to us.\", \n",
    "          \"That is an appealing treasure map that I can't read.\"\n",
    "            ]"
   ]
  },
  {
   "cell_type": "markdown",
   "metadata": {},
   "source": [
    "After that, we should fit our training dataset. "
   ]
  },
  {
   "cell_type": "markdown",
   "metadata": {
    "solution": "hidden",
    "solution2": "hidden",
    "solution2_first": true,
    "solution_first": true
   },
   "source": [
    "__Exercise:__ Write a code so that it transforms the data into a term-document matrix. "
   ]
  },
  {
   "cell_type": "code",
   "execution_count": 26,
   "metadata": {
    "solution": "hidden",
    "solution2": "hidden"
   },
   "outputs": [],
   "source": [
    "# Solution\n",
    "vectoriser = CountVectorizer()  # We generate the CountVectorizer object first and use it to count from `corpus`\n",
    "X_train = vectoriser.fit_transform([x[0] for x in train_data])\n",
    "X_test = vectoriser.fit_transform([x for x in test_data])"
   ]
  },
  {
   "cell_type": "code",
   "execution_count": null,
   "metadata": {},
   "outputs": [],
   "source": [
    "# Your code below\n",
    "vectoriser = \n"
   ]
  },
  {
   "cell_type": "markdown",
   "metadata": {
    "solution": "hidden",
    "solution2": "hidden",
    "solution2_first": true,
    "solution_first": true
   },
   "source": [
    "__Exercise:__ Texts are unstructure data, then why do we classify this exercise as supervised learning?"
   ]
  },
  {
   "cell_type": "markdown",
   "metadata": {
    "solution": "hidden",
    "solution2": "hidden"
   },
   "source": [
    "__Solution:__ The confusion here is that we link unstructure data into unsupervised learning. Truely it is hard to find the target variable from text variables. In this exercise, we entail each messages with a target variable, which is it is positive or not. "
   ]
  },
  {
   "cell_type": "markdown",
   "metadata": {
    "solution": "hidden"
   },
   "source": [
    "We can now apply the machine learning into the term-document matrix. In here, you can choose either logistic regression or random forest or anything else. The part that you have to realise is, we still have the target variable to use. "
   ]
  },
  {
   "cell_type": "markdown",
   "metadata": {},
   "source": [
    "Before we finish this, let us talk about an adjustment to the count vectoriser. `sklearn` offers another vectoriser object called Term Frequency Inverse Document Frequency (TF-IDF). For example [this document](https://medium.com/@cmukesh8688/tf-idf-vectorizer-scikit-learn-dbc0244a911a). "
   ]
  },
  {
   "cell_type": "markdown",
   "metadata": {
    "solution": "hidden",
    "solution2": "hidden",
    "solution2_first": true,
    "solution_first": true
   },
   "source": [
    "__Exercise:__ This is often said to be improving the machine learning model. Why is that?"
   ]
  },
  {
   "cell_type": "markdown",
   "metadata": {
    "solution": "hidden",
    "solution2": "hidden"
   },
   "source": [
    "__Solution:__ TF-IDF weighs more if the word appears more in a text piece/ document, but other documents might be irrelevant to this and does not include this specific keyword. TF-IDF optimises the results by rewarding the individual documents that are more relevant to topics. "
   ]
  },
  {
   "cell_type": "markdown",
   "metadata": {},
   "source": [
    "Before we start the modelling, we have forgot about the target variable. Which is produced by. "
   ]
  },
  {
   "cell_type": "code",
   "execution_count": 27,
   "metadata": {},
   "outputs": [],
   "source": [
    "y_train = [x[1] for x in train_data]"
   ]
  },
  {
   "cell_type": "markdown",
   "metadata": {},
   "source": [
    "To conduct a sentiment analysis, we will use Naive Bayes. "
   ]
  },
  {
   "cell_type": "code",
   "execution_count": 29,
   "metadata": {},
   "outputs": [],
   "source": [
    "from sklearn.naive_bayes import GaussianNB\n",
    "nnb = GaussianNB().fit(X_train.toarray(), y_train)"
   ]
  },
  {
   "cell_type": "markdown",
   "metadata": {},
   "source": [
    "The score of the model. "
   ]
  },
  {
   "cell_type": "code",
   "execution_count": 31,
   "metadata": {},
   "outputs": [
    {
     "data": {
      "text/plain": [
       "1.0"
      ]
     },
     "execution_count": 31,
     "metadata": {},
     "output_type": "execute_result"
    }
   ],
   "source": [
    "nnb.score(X_train.toarray(), y_train)"
   ]
  },
  {
   "cell_type": "markdown",
   "metadata": {},
   "source": [
    "The model is overwhemingly accurate, so there must be ways to improve it. We will take about the preprocessing of text data next week. "
   ]
  },
  {
   "cell_type": "markdown",
   "metadata": {},
   "source": [
    "## Conclusion"
   ]
  },
  {
   "cell_type": "markdown",
   "metadata": {},
   "source": [
    "In this week we have learnt about:\n",
    "* Differentiate between supervised and unsupervised machine learning. \n",
    "* Transform data with standardisation, normalisation. \n",
    "* Process missing data with imputation. \n",
    "* Understand regression methods that prevent overfit. \n",
    "* Understand various classification algorithms. \n",
    "* Evaluate classification algorithms and elaborate its effectiveness. \n",
    "* Transform data by splitting into training, testing and validation partitions. While appreciating the robust model produced. \n",
    "* Classify data with ensemble methods such as stacking classifier. \n",
    "* Classify text sentiment with Naive Bayes classfier. "
   ]
  }
 ],
 "metadata": {
  "kernelspec": {
   "display_name": "Python 3 (ipykernel)",
   "language": "python",
   "name": "python3"
  },
  "language_info": {
   "codemirror_mode": {
    "name": "ipython",
    "version": 3
   },
   "file_extension": ".py",
   "mimetype": "text/x-python",
   "name": "python",
   "nbconvert_exporter": "python",
   "pygments_lexer": "ipython3",
   "version": "3.10.9"
  },
  "latex_envs": {
   "LaTeX_envs_menu_present": true,
   "autoclose": true,
   "autocomplete": true,
   "bibliofile": "biblio.bib",
   "cite_by": "apalike",
   "current_citInitial": 1,
   "eqLabelWithNumbers": true,
   "eqNumInitial": 1,
   "hotkeys": {
    "equation": "Ctrl-E",
    "itemize": "Ctrl-I"
   },
   "labels_anchors": false,
   "latex_user_defs": false,
   "report_style_numbering": false,
   "user_envs_cfg": false
  },
  "toc": {
   "base_numbering": 1,
   "nav_menu": {},
   "number_sections": false,
   "sideBar": true,
   "skip_h1_title": false,
   "title_cell": "Table of Contents",
   "title_sidebar": "Contents",
   "toc_cell": false,
   "toc_position": {
    "height": "calc(100% - 180px)",
    "left": "10px",
    "top": "150px",
    "width": "284px"
   },
   "toc_section_display": true,
   "toc_window_display": true
  }
 },
 "nbformat": 4,
 "nbformat_minor": 4
}
