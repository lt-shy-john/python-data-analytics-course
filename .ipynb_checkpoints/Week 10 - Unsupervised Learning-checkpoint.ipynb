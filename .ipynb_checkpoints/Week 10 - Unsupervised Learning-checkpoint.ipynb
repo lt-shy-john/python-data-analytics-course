{
 "cells": [
  {
   "cell_type": "markdown",
   "metadata": {},
   "source": [
    "# Week 10 - Unsupervised Learning"
   ]
  },
  {
   "cell_type": "markdown",
   "metadata": {},
   "source": [
    "## Drill"
   ]
  },
  {
   "cell_type": "markdown",
   "metadata": {
    "solution": "hidden",
    "solution2": "hidden",
    "solution2_first": true,
    "solution_first": true
   },
   "source": [
    "__Exercise:__ Write a code that will find the sum of the square of first 50 natural numbers. "
   ]
  },
  {
   "cell_type": "code",
   "execution_count": null,
   "metadata": {},
   "outputs": [],
   "source": [
    "# Your code below\n"
   ]
  },
  {
   "cell_type": "code",
   "execution_count": 1,
   "metadata": {
    "solution": "hidden",
    "solution2": "hidden"
   },
   "outputs": [
    {
     "name": "stdout",
     "output_type": "stream",
     "text": [
      "40425\n"
     ]
    }
   ],
   "source": [
    "# Solution\n",
    "sum = 0\n",
    "for i in range(50): \n",
    "    sum += i ** 2\n",
    "print(sum)"
   ]
  },
  {
   "cell_type": "markdown",
   "metadata": {
    "solution2": "hidden",
    "solution2_first": true
   },
   "source": [
    "__Exercise:__ Write a class `Clothes` for different types of clothes. A clothing should have the following attributes: \n",
    "* `type` - A string that describe what type of clothes is (e.g. t-shirt, socks) \n",
    "* `colour` - A string that describes the colour of the garment\n",
    "\n",
    "Write the constructor for the class `Clothes` and also \n",
    "* getter methods \n",
    "* setter methods"
   ]
  },
  {
   "cell_type": "code",
   "execution_count": null,
   "metadata": {},
   "outputs": [],
   "source": [
    "# Your code below\n"
   ]
  },
  {
   "cell_type": "code",
   "execution_count": null,
   "metadata": {
    "solution2": "hidden"
   },
   "outputs": [],
   "source": [
    "# Solution\n",
    "\n",
    "class Clothes: \n",
    "    def __init__(self, c_type, colour): \n",
    "        self.type = c_type\n",
    "        self.colour = colour \n",
    "        \n",
    "    def get_type(self): \n",
    "        return type"
   ]
  },
  {
   "cell_type": "markdown",
   "metadata": {},
   "source": [
    "## What is Unsupervised Learning?"
   ]
  },
  {
   "cell_type": "markdown",
   "metadata": {},
   "source": [
    "Last week we have looked into supervised learning, which is a type of machine learning where a target variable exists. This is very useful in prescribing practical solutions. There is another main category of machine learning, which is called unsupervised learning. Following the logic, it means there are no target variables to be deduced. Rather, unsupervised learning looked at the patterns within data. "
   ]
  },
  {
   "cell_type": "markdown",
   "metadata": {},
   "source": [
    "These are the main applications of unsupervised learning: \n",
    "* Dimensionality reduction\n",
    "* Clustering\n",
    "* Association rule learning\n",
    "\n",
    "This week we are looking into dimension reduction and clustering only. As from last week, we know there are many different clustering and dimensionality reduction algorithms. We will look into [scikit-learn](https://scikit-learn.org/stable/tutorial/machine_learning_map/index.html) to see how they are different. "
   ]
  },
  {
   "cell_type": "markdown",
   "metadata": {},
   "source": [
    "## Dimensionality Reduction"
   ]
  },
  {
   "cell_type": "markdown",
   "metadata": {},
   "source": [
    "Dimensionality reduction means to reduce the number of factors that describes the outcome. This will help to capture the so-called essense of the data, but in front end it will improve the machine learning results. It means the many dimensions data are mapped into the lower dimension object, while each new dimensions is a combination of all previous ones.  "
   ]
  },
  {
   "cell_type": "markdown",
   "metadata": {},
   "source": [
    "In this week, we will use a synthetical wellbeing survey dataset. Let us import the data. "
   ]
  },
  {
   "cell_type": "code",
   "execution_count": 2,
   "metadata": {},
   "outputs": [],
   "source": [
    "import pandas as pd\n",
    "df = pd.read_csv('files/wellbeing_ind.csv',index_col='ID')"
   ]
  },
  {
   "cell_type": "markdown",
   "metadata": {},
   "source": [
    "Before we start, we should understand what is inside the dataset. "
   ]
  },
  {
   "cell_type": "code",
   "execution_count": 2,
   "metadata": {
    "scrolled": true
   },
   "outputs": [
    {
     "data": {
      "text/html": [
       "<div>\n",
       "<style scoped>\n",
       "    .dataframe tbody tr th:only-of-type {\n",
       "        vertical-align: middle;\n",
       "    }\n",
       "\n",
       "    .dataframe tbody tr th {\n",
       "        vertical-align: top;\n",
       "    }\n",
       "\n",
       "    .dataframe thead th {\n",
       "        text-align: right;\n",
       "    }\n",
       "</style>\n",
       "<table border=\"1\" class=\"dataframe\">\n",
       "  <thead>\n",
       "    <tr style=\"text-align: right;\">\n",
       "      <th></th>\n",
       "      <th>Age</th>\n",
       "      <th>Location</th>\n",
       "      <th>Ethnic</th>\n",
       "      <th>Religion</th>\n",
       "      <th>Maternity</th>\n",
       "      <th>Working</th>\n",
       "      <th>Education Level</th>\n",
       "      <th>VALUE_FAMILY</th>\n",
       "      <th>VALUE_FRIENDS</th>\n",
       "      <th>VALUE_WORK</th>\n",
       "      <th>ECONOMIC_VALUE_VALUE_IND_EFFORT</th>\n",
       "      <th>ECONOMIC_VALUE_VALUE_PRIVATE_PUBLIC_ENTITIES</th>\n",
       "      <th>ECONOMIC_VALUE_VALUE_COMPETITION</th>\n",
       "      <th>SECURE</th>\n",
       "      <th>SECURE_JOB</th>\n",
       "    </tr>\n",
       "    <tr>\n",
       "      <th>ID</th>\n",
       "      <th></th>\n",
       "      <th></th>\n",
       "      <th></th>\n",
       "      <th></th>\n",
       "      <th></th>\n",
       "      <th></th>\n",
       "      <th></th>\n",
       "      <th></th>\n",
       "      <th></th>\n",
       "      <th></th>\n",
       "      <th></th>\n",
       "      <th></th>\n",
       "      <th></th>\n",
       "      <th></th>\n",
       "      <th></th>\n",
       "    </tr>\n",
       "  </thead>\n",
       "  <tbody>\n",
       "    <tr>\n",
       "      <th>9479</th>\n",
       "      <td>23</td>\n",
       "      <td>2004</td>\n",
       "      <td>No</td>\n",
       "      <td>Hinduism</td>\n",
       "      <td>Single</td>\n",
       "      <td>Yes</td>\n",
       "      <td>10.0</td>\n",
       "      <td>3.0</td>\n",
       "      <td>5.0</td>\n",
       "      <td>1.0</td>\n",
       "      <td>5.0</td>\n",
       "      <td>5.0</td>\n",
       "      <td>3.0</td>\n",
       "      <td>5</td>\n",
       "      <td>1.0</td>\n",
       "    </tr>\n",
       "    <tr>\n",
       "      <th>38929</th>\n",
       "      <td>24</td>\n",
       "      <td>2212</td>\n",
       "      <td>Middle East</td>\n",
       "      <td>Christian</td>\n",
       "      <td>Married</td>\n",
       "      <td>Yes</td>\n",
       "      <td>5.0</td>\n",
       "      <td>4.0</td>\n",
       "      <td>1.0</td>\n",
       "      <td>5.0</td>\n",
       "      <td>5.0</td>\n",
       "      <td>5.0</td>\n",
       "      <td>5.0</td>\n",
       "      <td>4</td>\n",
       "      <td>5.0</td>\n",
       "    </tr>\n",
       "    <tr>\n",
       "      <th>11746</th>\n",
       "      <td>25</td>\n",
       "      <td>2012</td>\n",
       "      <td>No</td>\n",
       "      <td>Catholic</td>\n",
       "      <td>Married</td>\n",
       "      <td>Yes</td>\n",
       "      <td>1.0</td>\n",
       "      <td>4.0</td>\n",
       "      <td>1.0</td>\n",
       "      <td>5.0</td>\n",
       "      <td>5.0</td>\n",
       "      <td>2.0</td>\n",
       "      <td>4.0</td>\n",
       "      <td>2</td>\n",
       "      <td>5.0</td>\n",
       "    </tr>\n",
       "    <tr>\n",
       "      <th>17334</th>\n",
       "      <td>20</td>\n",
       "      <td>2191</td>\n",
       "      <td>No</td>\n",
       "      <td>Catholic</td>\n",
       "      <td>Single</td>\n",
       "      <td>No</td>\n",
       "      <td>1.0</td>\n",
       "      <td>3.0</td>\n",
       "      <td>1.0</td>\n",
       "      <td>5.0</td>\n",
       "      <td>5.0</td>\n",
       "      <td>4.0</td>\n",
       "      <td>1.0</td>\n",
       "      <td>5</td>\n",
       "      <td>5.0</td>\n",
       "    </tr>\n",
       "    <tr>\n",
       "      <th>15328</th>\n",
       "      <td>30</td>\n",
       "      <td>2141</td>\n",
       "      <td>Asian</td>\n",
       "      <td>Christian</td>\n",
       "      <td>Single</td>\n",
       "      <td>Yes</td>\n",
       "      <td>10.0</td>\n",
       "      <td>4.0</td>\n",
       "      <td>1.0</td>\n",
       "      <td>1.0</td>\n",
       "      <td>5.0</td>\n",
       "      <td>5.0</td>\n",
       "      <td>3.0</td>\n",
       "      <td>3</td>\n",
       "      <td>1.0</td>\n",
       "    </tr>\n",
       "  </tbody>\n",
       "</table>\n",
       "</div>"
      ],
      "text/plain": [
       "       Age  Location       Ethnic   Religion Maternity Working  \\\n",
       "ID                                                               \n",
       "9479    23      2004           No   Hinduism    Single     Yes   \n",
       "38929   24      2212  Middle East  Christian   Married     Yes   \n",
       "11746   25      2012           No   Catholic   Married     Yes   \n",
       "17334   20      2191           No   Catholic    Single      No   \n",
       "15328   30      2141        Asian  Christian    Single     Yes   \n",
       "\n",
       "       Education Level  VALUE_FAMILY  VALUE_FRIENDS  VALUE_WORK  \\\n",
       "ID                                                                \n",
       "9479              10.0           3.0            5.0         1.0   \n",
       "38929              5.0           4.0            1.0         5.0   \n",
       "11746              1.0           4.0            1.0         5.0   \n",
       "17334              1.0           3.0            1.0         5.0   \n",
       "15328             10.0           4.0            1.0         1.0   \n",
       "\n",
       "       ECONOMIC_VALUE_VALUE_IND_EFFORT  \\\n",
       "ID                                       \n",
       "9479                               5.0   \n",
       "38929                              5.0   \n",
       "11746                              5.0   \n",
       "17334                              5.0   \n",
       "15328                              5.0   \n",
       "\n",
       "       ECONOMIC_VALUE_VALUE_PRIVATE_PUBLIC_ENTITIES  \\\n",
       "ID                                                    \n",
       "9479                                            5.0   \n",
       "38929                                           5.0   \n",
       "11746                                           2.0   \n",
       "17334                                           4.0   \n",
       "15328                                           5.0   \n",
       "\n",
       "       ECONOMIC_VALUE_VALUE_COMPETITION  SECURE  SECURE_JOB  \n",
       "ID                                                           \n",
       "9479                                3.0       5         1.0  \n",
       "38929                               5.0       4         5.0  \n",
       "11746                               4.0       2         5.0  \n",
       "17334                               1.0       5         5.0  \n",
       "15328                               3.0       3         1.0  "
      ]
     },
     "execution_count": 2,
     "metadata": {},
     "output_type": "execute_result"
    }
   ],
   "source": [
    "df.head()"
   ]
  },
  {
   "cell_type": "markdown",
   "metadata": {},
   "source": [
    "You should also do further EDA on the dataset. What do you think are good ways to inspect the dataset?"
   ]
  },
  {
   "cell_type": "markdown",
   "metadata": {},
   "source": [
    "The first few columns are from last week, and of course each rows represent the person that is from the census dataset. So let us drop the dataset for this week's purpose. "
   ]
  },
  {
   "cell_type": "code",
   "execution_count": 3,
   "metadata": {},
   "outputs": [],
   "source": [
    "X = df.drop(columns=['Age', 'Location', 'Ethnic', 'Religion', 'Maternity', 'Working', 'Education Level'])"
   ]
  },
  {
   "cell_type": "markdown",
   "metadata": {},
   "source": [
    "### Principle Component Analysis"
   ]
  },
  {
   "cell_type": "markdown",
   "metadata": {},
   "source": [
    "Principle Component Analysis (PCA) is a common dimensionality reduction task where the reduced components sits where the data has the most variance. You can think of we are rotating the $x$-$y$ plane until the data points are most variant. In terms of analysis, we have the most information because more values along the coordinates are occupied. "
   ]
  },
  {
   "cell_type": "markdown",
   "metadata": {},
   "source": [
    "As usual, we create a PCA object and fit them. "
   ]
  },
  {
   "cell_type": "code",
   "execution_count": 4,
   "metadata": {},
   "outputs": [],
   "source": [
    "from sklearn.decomposition import PCA\n",
    "\n",
    "pca = PCA(n_components=2)"
   ]
  },
  {
   "cell_type": "markdown",
   "metadata": {},
   "source": [
    "We will realise that there is a `.T` after the data frame. This is the transpose, which means we will invert the values in the dataset diagonally. This will help us to map the data according to the individuals, not to the questions. "
   ]
  },
  {
   "cell_type": "code",
   "execution_count": 5,
   "metadata": {},
   "outputs": [
    {
     "data": {
      "text/html": [
       "<style>#sk-container-id-1 {\n",
       "  /* Definition of color scheme common for light and dark mode */\n",
       "  --sklearn-color-text: black;\n",
       "  --sklearn-color-line: gray;\n",
       "  /* Definition of color scheme for unfitted estimators */\n",
       "  --sklearn-color-unfitted-level-0: #fff5e6;\n",
       "  --sklearn-color-unfitted-level-1: #f6e4d2;\n",
       "  --sklearn-color-unfitted-level-2: #ffe0b3;\n",
       "  --sklearn-color-unfitted-level-3: chocolate;\n",
       "  /* Definition of color scheme for fitted estimators */\n",
       "  --sklearn-color-fitted-level-0: #f0f8ff;\n",
       "  --sklearn-color-fitted-level-1: #d4ebff;\n",
       "  --sklearn-color-fitted-level-2: #b3dbfd;\n",
       "  --sklearn-color-fitted-level-3: cornflowerblue;\n",
       "\n",
       "  /* Specific color for light theme */\n",
       "  --sklearn-color-text-on-default-background: var(--sg-text-color, var(--theme-code-foreground, var(--jp-content-font-color1, black)));\n",
       "  --sklearn-color-background: var(--sg-background-color, var(--theme-background, var(--jp-layout-color0, white)));\n",
       "  --sklearn-color-border-box: var(--sg-text-color, var(--theme-code-foreground, var(--jp-content-font-color1, black)));\n",
       "  --sklearn-color-icon: #696969;\n",
       "\n",
       "  @media (prefers-color-scheme: dark) {\n",
       "    /* Redefinition of color scheme for dark theme */\n",
       "    --sklearn-color-text-on-default-background: var(--sg-text-color, var(--theme-code-foreground, var(--jp-content-font-color1, white)));\n",
       "    --sklearn-color-background: var(--sg-background-color, var(--theme-background, var(--jp-layout-color0, #111)));\n",
       "    --sklearn-color-border-box: var(--sg-text-color, var(--theme-code-foreground, var(--jp-content-font-color1, white)));\n",
       "    --sklearn-color-icon: #878787;\n",
       "  }\n",
       "}\n",
       "\n",
       "#sk-container-id-1 {\n",
       "  color: var(--sklearn-color-text);\n",
       "}\n",
       "\n",
       "#sk-container-id-1 pre {\n",
       "  padding: 0;\n",
       "}\n",
       "\n",
       "#sk-container-id-1 input.sk-hidden--visually {\n",
       "  border: 0;\n",
       "  clip: rect(1px 1px 1px 1px);\n",
       "  clip: rect(1px, 1px, 1px, 1px);\n",
       "  height: 1px;\n",
       "  margin: -1px;\n",
       "  overflow: hidden;\n",
       "  padding: 0;\n",
       "  position: absolute;\n",
       "  width: 1px;\n",
       "}\n",
       "\n",
       "#sk-container-id-1 div.sk-dashed-wrapped {\n",
       "  border: 1px dashed var(--sklearn-color-line);\n",
       "  margin: 0 0.4em 0.5em 0.4em;\n",
       "  box-sizing: border-box;\n",
       "  padding-bottom: 0.4em;\n",
       "  background-color: var(--sklearn-color-background);\n",
       "}\n",
       "\n",
       "#sk-container-id-1 div.sk-container {\n",
       "  /* jupyter's `normalize.less` sets `[hidden] { display: none; }`\n",
       "     but bootstrap.min.css set `[hidden] { display: none !important; }`\n",
       "     so we also need the `!important` here to be able to override the\n",
       "     default hidden behavior on the sphinx rendered scikit-learn.org.\n",
       "     See: https://github.com/scikit-learn/scikit-learn/issues/21755 */\n",
       "  display: inline-block !important;\n",
       "  position: relative;\n",
       "}\n",
       "\n",
       "#sk-container-id-1 div.sk-text-repr-fallback {\n",
       "  display: none;\n",
       "}\n",
       "\n",
       "div.sk-parallel-item,\n",
       "div.sk-serial,\n",
       "div.sk-item {\n",
       "  /* draw centered vertical line to link estimators */\n",
       "  background-image: linear-gradient(var(--sklearn-color-text-on-default-background), var(--sklearn-color-text-on-default-background));\n",
       "  background-size: 2px 100%;\n",
       "  background-repeat: no-repeat;\n",
       "  background-position: center center;\n",
       "}\n",
       "\n",
       "/* Parallel-specific style estimator block */\n",
       "\n",
       "#sk-container-id-1 div.sk-parallel-item::after {\n",
       "  content: \"\";\n",
       "  width: 100%;\n",
       "  border-bottom: 2px solid var(--sklearn-color-text-on-default-background);\n",
       "  flex-grow: 1;\n",
       "}\n",
       "\n",
       "#sk-container-id-1 div.sk-parallel {\n",
       "  display: flex;\n",
       "  align-items: stretch;\n",
       "  justify-content: center;\n",
       "  background-color: var(--sklearn-color-background);\n",
       "  position: relative;\n",
       "}\n",
       "\n",
       "#sk-container-id-1 div.sk-parallel-item {\n",
       "  display: flex;\n",
       "  flex-direction: column;\n",
       "}\n",
       "\n",
       "#sk-container-id-1 div.sk-parallel-item:first-child::after {\n",
       "  align-self: flex-end;\n",
       "  width: 50%;\n",
       "}\n",
       "\n",
       "#sk-container-id-1 div.sk-parallel-item:last-child::after {\n",
       "  align-self: flex-start;\n",
       "  width: 50%;\n",
       "}\n",
       "\n",
       "#sk-container-id-1 div.sk-parallel-item:only-child::after {\n",
       "  width: 0;\n",
       "}\n",
       "\n",
       "/* Serial-specific style estimator block */\n",
       "\n",
       "#sk-container-id-1 div.sk-serial {\n",
       "  display: flex;\n",
       "  flex-direction: column;\n",
       "  align-items: center;\n",
       "  background-color: var(--sklearn-color-background);\n",
       "  padding-right: 1em;\n",
       "  padding-left: 1em;\n",
       "}\n",
       "\n",
       "\n",
       "/* Toggleable style: style used for estimator/Pipeline/ColumnTransformer box that is\n",
       "clickable and can be expanded/collapsed.\n",
       "- Pipeline and ColumnTransformer use this feature and define the default style\n",
       "- Estimators will overwrite some part of the style using the `sk-estimator` class\n",
       "*/\n",
       "\n",
       "/* Pipeline and ColumnTransformer style (default) */\n",
       "\n",
       "#sk-container-id-1 div.sk-toggleable {\n",
       "  /* Default theme specific background. It is overwritten whether we have a\n",
       "  specific estimator or a Pipeline/ColumnTransformer */\n",
       "  background-color: var(--sklearn-color-background);\n",
       "}\n",
       "\n",
       "/* Toggleable label */\n",
       "#sk-container-id-1 label.sk-toggleable__label {\n",
       "  cursor: pointer;\n",
       "  display: block;\n",
       "  width: 100%;\n",
       "  margin-bottom: 0;\n",
       "  padding: 0.5em;\n",
       "  box-sizing: border-box;\n",
       "  text-align: center;\n",
       "}\n",
       "\n",
       "#sk-container-id-1 label.sk-toggleable__label-arrow:before {\n",
       "  /* Arrow on the left of the label */\n",
       "  content: \"▸\";\n",
       "  float: left;\n",
       "  margin-right: 0.25em;\n",
       "  color: var(--sklearn-color-icon);\n",
       "}\n",
       "\n",
       "#sk-container-id-1 label.sk-toggleable__label-arrow:hover:before {\n",
       "  color: var(--sklearn-color-text);\n",
       "}\n",
       "\n",
       "/* Toggleable content - dropdown */\n",
       "\n",
       "#sk-container-id-1 div.sk-toggleable__content {\n",
       "  max-height: 0;\n",
       "  max-width: 0;\n",
       "  overflow: hidden;\n",
       "  text-align: left;\n",
       "  /* unfitted */\n",
       "  background-color: var(--sklearn-color-unfitted-level-0);\n",
       "}\n",
       "\n",
       "#sk-container-id-1 div.sk-toggleable__content.fitted {\n",
       "  /* fitted */\n",
       "  background-color: var(--sklearn-color-fitted-level-0);\n",
       "}\n",
       "\n",
       "#sk-container-id-1 div.sk-toggleable__content pre {\n",
       "  margin: 0.2em;\n",
       "  border-radius: 0.25em;\n",
       "  color: var(--sklearn-color-text);\n",
       "  /* unfitted */\n",
       "  background-color: var(--sklearn-color-unfitted-level-0);\n",
       "}\n",
       "\n",
       "#sk-container-id-1 div.sk-toggleable__content.fitted pre {\n",
       "  /* unfitted */\n",
       "  background-color: var(--sklearn-color-fitted-level-0);\n",
       "}\n",
       "\n",
       "#sk-container-id-1 input.sk-toggleable__control:checked~div.sk-toggleable__content {\n",
       "  /* Expand drop-down */\n",
       "  max-height: 200px;\n",
       "  max-width: 100%;\n",
       "  overflow: auto;\n",
       "}\n",
       "\n",
       "#sk-container-id-1 input.sk-toggleable__control:checked~label.sk-toggleable__label-arrow:before {\n",
       "  content: \"▾\";\n",
       "}\n",
       "\n",
       "/* Pipeline/ColumnTransformer-specific style */\n",
       "\n",
       "#sk-container-id-1 div.sk-label input.sk-toggleable__control:checked~label.sk-toggleable__label {\n",
       "  color: var(--sklearn-color-text);\n",
       "  background-color: var(--sklearn-color-unfitted-level-2);\n",
       "}\n",
       "\n",
       "#sk-container-id-1 div.sk-label.fitted input.sk-toggleable__control:checked~label.sk-toggleable__label {\n",
       "  background-color: var(--sklearn-color-fitted-level-2);\n",
       "}\n",
       "\n",
       "/* Estimator-specific style */\n",
       "\n",
       "/* Colorize estimator box */\n",
       "#sk-container-id-1 div.sk-estimator input.sk-toggleable__control:checked~label.sk-toggleable__label {\n",
       "  /* unfitted */\n",
       "  background-color: var(--sklearn-color-unfitted-level-2);\n",
       "}\n",
       "\n",
       "#sk-container-id-1 div.sk-estimator.fitted input.sk-toggleable__control:checked~label.sk-toggleable__label {\n",
       "  /* fitted */\n",
       "  background-color: var(--sklearn-color-fitted-level-2);\n",
       "}\n",
       "\n",
       "#sk-container-id-1 div.sk-label label.sk-toggleable__label,\n",
       "#sk-container-id-1 div.sk-label label {\n",
       "  /* The background is the default theme color */\n",
       "  color: var(--sklearn-color-text-on-default-background);\n",
       "}\n",
       "\n",
       "/* On hover, darken the color of the background */\n",
       "#sk-container-id-1 div.sk-label:hover label.sk-toggleable__label {\n",
       "  color: var(--sklearn-color-text);\n",
       "  background-color: var(--sklearn-color-unfitted-level-2);\n",
       "}\n",
       "\n",
       "/* Label box, darken color on hover, fitted */\n",
       "#sk-container-id-1 div.sk-label.fitted:hover label.sk-toggleable__label.fitted {\n",
       "  color: var(--sklearn-color-text);\n",
       "  background-color: var(--sklearn-color-fitted-level-2);\n",
       "}\n",
       "\n",
       "/* Estimator label */\n",
       "\n",
       "#sk-container-id-1 div.sk-label label {\n",
       "  font-family: monospace;\n",
       "  font-weight: bold;\n",
       "  display: inline-block;\n",
       "  line-height: 1.2em;\n",
       "}\n",
       "\n",
       "#sk-container-id-1 div.sk-label-container {\n",
       "  text-align: center;\n",
       "}\n",
       "\n",
       "/* Estimator-specific */\n",
       "#sk-container-id-1 div.sk-estimator {\n",
       "  font-family: monospace;\n",
       "  border: 1px dotted var(--sklearn-color-border-box);\n",
       "  border-radius: 0.25em;\n",
       "  box-sizing: border-box;\n",
       "  margin-bottom: 0.5em;\n",
       "  /* unfitted */\n",
       "  background-color: var(--sklearn-color-unfitted-level-0);\n",
       "}\n",
       "\n",
       "#sk-container-id-1 div.sk-estimator.fitted {\n",
       "  /* fitted */\n",
       "  background-color: var(--sklearn-color-fitted-level-0);\n",
       "}\n",
       "\n",
       "/* on hover */\n",
       "#sk-container-id-1 div.sk-estimator:hover {\n",
       "  /* unfitted */\n",
       "  background-color: var(--sklearn-color-unfitted-level-2);\n",
       "}\n",
       "\n",
       "#sk-container-id-1 div.sk-estimator.fitted:hover {\n",
       "  /* fitted */\n",
       "  background-color: var(--sklearn-color-fitted-level-2);\n",
       "}\n",
       "\n",
       "/* Specification for estimator info (e.g. \"i\" and \"?\") */\n",
       "\n",
       "/* Common style for \"i\" and \"?\" */\n",
       "\n",
       ".sk-estimator-doc-link,\n",
       "a:link.sk-estimator-doc-link,\n",
       "a:visited.sk-estimator-doc-link {\n",
       "  float: right;\n",
       "  font-size: smaller;\n",
       "  line-height: 1em;\n",
       "  font-family: monospace;\n",
       "  background-color: var(--sklearn-color-background);\n",
       "  border-radius: 1em;\n",
       "  height: 1em;\n",
       "  width: 1em;\n",
       "  text-decoration: none !important;\n",
       "  margin-left: 1ex;\n",
       "  /* unfitted */\n",
       "  border: var(--sklearn-color-unfitted-level-1) 1pt solid;\n",
       "  color: var(--sklearn-color-unfitted-level-1);\n",
       "}\n",
       "\n",
       ".sk-estimator-doc-link.fitted,\n",
       "a:link.sk-estimator-doc-link.fitted,\n",
       "a:visited.sk-estimator-doc-link.fitted {\n",
       "  /* fitted */\n",
       "  border: var(--sklearn-color-fitted-level-1) 1pt solid;\n",
       "  color: var(--sklearn-color-fitted-level-1);\n",
       "}\n",
       "\n",
       "/* On hover */\n",
       "div.sk-estimator:hover .sk-estimator-doc-link:hover,\n",
       ".sk-estimator-doc-link:hover,\n",
       "div.sk-label-container:hover .sk-estimator-doc-link:hover,\n",
       ".sk-estimator-doc-link:hover {\n",
       "  /* unfitted */\n",
       "  background-color: var(--sklearn-color-unfitted-level-3);\n",
       "  color: var(--sklearn-color-background);\n",
       "  text-decoration: none;\n",
       "}\n",
       "\n",
       "div.sk-estimator.fitted:hover .sk-estimator-doc-link.fitted:hover,\n",
       ".sk-estimator-doc-link.fitted:hover,\n",
       "div.sk-label-container:hover .sk-estimator-doc-link.fitted:hover,\n",
       ".sk-estimator-doc-link.fitted:hover {\n",
       "  /* fitted */\n",
       "  background-color: var(--sklearn-color-fitted-level-3);\n",
       "  color: var(--sklearn-color-background);\n",
       "  text-decoration: none;\n",
       "}\n",
       "\n",
       "/* Span, style for the box shown on hovering the info icon */\n",
       ".sk-estimator-doc-link span {\n",
       "  display: none;\n",
       "  z-index: 9999;\n",
       "  position: relative;\n",
       "  font-weight: normal;\n",
       "  right: .2ex;\n",
       "  padding: .5ex;\n",
       "  margin: .5ex;\n",
       "  width: min-content;\n",
       "  min-width: 20ex;\n",
       "  max-width: 50ex;\n",
       "  color: var(--sklearn-color-text);\n",
       "  box-shadow: 2pt 2pt 4pt #999;\n",
       "  /* unfitted */\n",
       "  background: var(--sklearn-color-unfitted-level-0);\n",
       "  border: .5pt solid var(--sklearn-color-unfitted-level-3);\n",
       "}\n",
       "\n",
       ".sk-estimator-doc-link.fitted span {\n",
       "  /* fitted */\n",
       "  background: var(--sklearn-color-fitted-level-0);\n",
       "  border: var(--sklearn-color-fitted-level-3);\n",
       "}\n",
       "\n",
       ".sk-estimator-doc-link:hover span {\n",
       "  display: block;\n",
       "}\n",
       "\n",
       "/* \"?\"-specific style due to the `<a>` HTML tag */\n",
       "\n",
       "#sk-container-id-1 a.estimator_doc_link {\n",
       "  float: right;\n",
       "  font-size: 1rem;\n",
       "  line-height: 1em;\n",
       "  font-family: monospace;\n",
       "  background-color: var(--sklearn-color-background);\n",
       "  border-radius: 1rem;\n",
       "  height: 1rem;\n",
       "  width: 1rem;\n",
       "  text-decoration: none;\n",
       "  /* unfitted */\n",
       "  color: var(--sklearn-color-unfitted-level-1);\n",
       "  border: var(--sklearn-color-unfitted-level-1) 1pt solid;\n",
       "}\n",
       "\n",
       "#sk-container-id-1 a.estimator_doc_link.fitted {\n",
       "  /* fitted */\n",
       "  border: var(--sklearn-color-fitted-level-1) 1pt solid;\n",
       "  color: var(--sklearn-color-fitted-level-1);\n",
       "}\n",
       "\n",
       "/* On hover */\n",
       "#sk-container-id-1 a.estimator_doc_link:hover {\n",
       "  /* unfitted */\n",
       "  background-color: var(--sklearn-color-unfitted-level-3);\n",
       "  color: var(--sklearn-color-background);\n",
       "  text-decoration: none;\n",
       "}\n",
       "\n",
       "#sk-container-id-1 a.estimator_doc_link.fitted:hover {\n",
       "  /* fitted */\n",
       "  background-color: var(--sklearn-color-fitted-level-3);\n",
       "}\n",
       "</style><div id=\"sk-container-id-1\" class=\"sk-top-container\"><div class=\"sk-text-repr-fallback\"><pre>PCA(n_components=2)</pre><b>In a Jupyter environment, please rerun this cell to show the HTML representation or trust the notebook. <br />On GitHub, the HTML representation is unable to render, please try loading this page with nbviewer.org.</b></div><div class=\"sk-container\" hidden><div class=\"sk-item\"><div class=\"sk-estimator fitted sk-toggleable\"><input class=\"sk-toggleable__control sk-hidden--visually\" id=\"sk-estimator-id-1\" type=\"checkbox\" checked><label for=\"sk-estimator-id-1\" class=\"sk-toggleable__label fitted sk-toggleable__label-arrow fitted\">&nbsp;&nbsp;PCA<a class=\"sk-estimator-doc-link fitted\" rel=\"noreferrer\" target=\"_blank\" href=\"https://scikit-learn.org/1.4/modules/generated/sklearn.decomposition.PCA.html\">?<span>Documentation for PCA</span></a><span class=\"sk-estimator-doc-link fitted\">i<span>Fitted</span></span></label><div class=\"sk-toggleable__content fitted\"><pre>PCA(n_components=2)</pre></div> </div></div></div></div>"
      ],
      "text/plain": [
       "PCA(n_components=2)"
      ]
     },
     "execution_count": 5,
     "metadata": {},
     "output_type": "execute_result"
    }
   ],
   "source": [
    "pca.fit(X.T)"
   ]
  },
  {
   "cell_type": "markdown",
   "metadata": {},
   "source": [
    "If we score the PCA, we see it is a negative score. This means the new components have a __negative correlation__ with the existing dataset. "
   ]
  },
  {
   "cell_type": "code",
   "execution_count": 6,
   "metadata": {},
   "outputs": [
    {
     "data": {
      "text/plain": [
       "-770.1021018394752"
      ]
     },
     "execution_count": 6,
     "metadata": {},
     "output_type": "execute_result"
    }
   ],
   "source": [
    "pca.score(X.T)"
   ]
  },
  {
   "cell_type": "markdown",
   "metadata": {},
   "source": [
    "Run the code snippet below to see the components. "
   ]
  },
  {
   "cell_type": "code",
   "execution_count": 19,
   "metadata": {},
   "outputs": [
    {
     "data": {
      "text/plain": [
       "array([[ 0.02143649, -0.07589047, -0.07137229, -0.07471493, -0.06238498,\n",
       "        -0.07917663, -0.08092463, -0.04651277, -0.04079472, -0.04855408,\n",
       "        -0.04671637, -0.07299364, -0.08075822, -0.07909841, -0.05576273,\n",
       "        -0.08684626, -0.06139499, -0.05741729, -0.07629652, -0.05948315,\n",
       "        -0.07406924,  0.02889627, -0.07743361, -0.06854159,  0.0169698 ,\n",
       "        -0.05636583, -0.05299904, -0.03963566,  0.0044567 , -0.07110593,\n",
       "        -0.07288871,  0.00577438, -0.0361127 , -0.0609648 , -0.05170223,\n",
       "        -0.07927656, -0.08256272, -0.04977437, -0.03302104, -0.06980742,\n",
       "         0.0169698 , -0.03758156, -0.06855367, -0.07733367, -0.08380474,\n",
       "        -0.08100285,  0.032985  , -0.05301577, -0.05285605, -0.08368308,\n",
       "        -0.08865076, -0.04849259, -0.0808197 , -0.04370805, -0.07315506,\n",
       "        -0.08404437, -0.05820636, -0.07208443, -0.0824013 , -0.07284895,\n",
       "        -0.06546739, -0.0652868 , -0.07772169, -0.03798759, -0.07711077,\n",
       "        -0.07121086, -0.0544757 , -0.06418947, -0.04873722, -0.06129506,\n",
       "        -0.00440651, -0.08238457, -0.04228788,  0.00136499,  0.02027768,\n",
       "        -0.07595695, -0.07029668, -0.07605189, -0.03227083, -0.0710892 ,\n",
       "        -0.02692165,  0.01934392, -0.0659399 , -0.05757871, -0.06823548,\n",
       "        -0.05632365,  0.02759776, -0.07179507, -0.08055834, -0.06380515,\n",
       "        -0.07843383, -0.06501081, -0.03656107, -0.04701094, -0.05137755,\n",
       "        -0.07187827, -0.07933805,  0.02234071, -0.0871691 , -0.03132317,\n",
       "        -0.0626935 , -0.07769497, -0.05604057, -0.05161732, -0.05084781,\n",
       "        -0.06031656,  0.01641625, -0.04853735, -0.04719408, -0.06577107,\n",
       "        -0.08197852, -0.05810642, -0.06067038, -0.06228504, -0.05531194,\n",
       "        -0.03434297,  0.00052272, -0.06277469, -0.05631866,  0.01668003,\n",
       "        -0.07015199, -0.07303209, -0.07455351, -0.08246278,  0.0371406 ,\n",
       "        -0.06224272, -0.07127235, -0.05127276,  0.02998862, -0.07414746,\n",
       "        -0.06534829,  0.01837324, -0.07142878, -0.07465844, -0.06412799,\n",
       "         0.027441  ,  0.01522679, -0.07747706, -0.04399486, -0.05613551,\n",
       "        -0.03674124, -0.06066113, -0.0697857 ,  0.02157619, -0.07741688,\n",
       "         0.01837324, -0.05289411, -0.08256272, -0.01393084, -0.06370265,\n",
       "         0.0154413 ,  0.03688874, -0.06544822, -0.05914358, -0.0644148 ,\n",
       "        -0.07912014, -0.06692988, -0.07118415, -0.04829272, -0.07770961,\n",
       "        -0.05116783, -0.0790152 , -0.05036099, -0.0805968 , -0.03904504,\n",
       "        -0.06206213, -0.06080338, -0.06059426, -0.06508437, -0.05475879,\n",
       "        -0.03677728, -0.04542935, -0.01566605, -0.0684307 , -0.04847087,\n",
       "        -0.05457564, -0.06228504, -0.08065828, -0.08216166, -0.06106474,\n",
       "        -0.06048763, -0.07005205, -0.05725587,  0.01131209, -0.0756906 ,\n",
       "        -0.05778358,  0.01360543, -0.06772267,  0.00644934, -0.05630193,\n",
       "        -0.05936018, -0.0595002 , -0.05506023, -0.06577107, -0.07431387,\n",
       "        -0.05757871, -0.0422264 , -0.05948315, -0.07256587, -0.0714505 ,\n",
       "        -0.00014469, -0.051283  ,  0.02981979, -0.03579864, -0.04995253,\n",
       "        -0.06123357, -0.07169513, -0.04555729, -0.06112864, -0.07303209,\n",
       "        -0.07449203, -0.05559463, -0.02070019, -0.05612403, -0.06380515,\n",
       "        -0.08090291, -0.03827567, -0.06741414,  0.00286337, -0.05916031,\n",
       "        -0.05757871, -0.05928197, -0.05492021, -0.05545662, -0.03789789,\n",
       "        -0.04820951, -0.04823123, -0.07118914, -0.06222355, -0.07933805,\n",
       "         0.01204057, -0.05944838, -0.05820636, -0.06831868, -0.07285394,\n",
       "        -0.0796044 , -0.0642944 , -0.08230136, -0.07562911, -0.00644435,\n",
       "        -0.05127276, -0.07729391, -0.05984944, -0.06593249,  0.02475072,\n",
       "        -0.00302479,  0.03689767, -0.06032436, -0.07273228, -0.04986932,\n",
       "        -0.04220468, -0.04715563, -0.0808197 , -0.06798619,  0.00719213,\n",
       "        -0.07925983, -0.08690775, -0.08552603, -0.0726658 , -0.06354123,\n",
       "        -0.06412799, -0.0790152 , -0.07317678, -0.07291043, -0.05003573,\n",
       "         0.00496768, -0.05774255, -0.06492295, -0.05966629, -0.0465497 ,\n",
       "        -0.08075822, -0.05143418, -0.0805968 , -0.08378301, -0.05674346],\n",
       "       [-0.09982238,  0.0176234 ,  0.04902881,  0.04272656, -0.08682635,\n",
       "         0.02759256,  0.04872817, -0.04739528,  0.04044907, -0.07085423,\n",
       "         0.07385591,  0.05335554,  0.01774182,  0.04320612,  0.07325855,\n",
       "         0.03804127,  0.04600839, -0.07198907,  0.03287582, -0.08220094,\n",
       "         0.04320807, -0.07796903,  0.03756368, -0.00682545, -0.08384965,\n",
       "         0.04601035, -0.05553935, -0.05357323,  0.04624074,  0.03299816,\n",
       "         0.03720451, -0.07916571, -0.03521924, -0.07709598, -0.0312429 ,\n",
       "         0.01263686,  0.02260602, -0.05067319, -0.09110198,  0.02843068,\n",
       "        -0.08384965, -0.06082323,  0.0691474 ,  0.05251938,  0.04344491,\n",
       "         0.03311462, -0.04588315, -0.08598823, -0.05700392,  0.05774276,\n",
       "         0.04290548, -0.08568955,  0.03257714, -0.07031479,  0.05323516,\n",
       "         0.02771098, -0.08611057,  0.05039562,  0.0227264 ,  0.02302704,\n",
       "         0.02926683, -0.09145176,  0.05425219, -0.08966454,  0.03780444,\n",
       "         0.04914919, -0.08154113, -0.08196215, -0.07031675,  0.0609641 ,\n",
       "         0.0451059 ,  0.05317528, -0.06058443, -0.05050954, -0.09447667,\n",
       "         0.06356546,  0.05917627,  0.01750302, -0.07778232,  0.06344704,\n",
       "        -0.06495038, -0.07826967,  0.04636757, -0.07210944, -0.03703358,\n",
       "        -0.07536122, -0.07340155,  0.03383235,  0.04765322, -0.09655671,\n",
       "         0.05561899, -0.03216741, -0.00237639, -0.09079451,  0.04391506,\n",
       "         0.04932553,  0.02747218, -0.07167557,  0.03780052, -0.05095121,\n",
       "         0.05057588,  0.0224876 , -0.06094299, -0.07560001, -0.07933817,\n",
       "         0.04356664,  0.05382082, -0.04040535, -0.09025704, -0.09181289,\n",
       "         0.03792286, -0.07115487, -0.0162267 , -0.07187065,  0.05681567,\n",
       "        -0.05701271,  0.03015216, -0.0562296 , -0.10646795, -0.03829721,\n",
       "         0.02884777,  0.02356451,  0.04284694,  0.03756172, -0.04463476,\n",
       "         0.03413299,  0.06398451, -0.07601711, -0.08146643,  0.02759452,\n",
       "        -0.07661643, -0.10456817,  0.0327574 ,  0.05899797, -0.09679747,\n",
       "        -0.01119394, -0.09382077,  0.03887939,  0.06642958, -0.10700543,\n",
       "         0.08935301,  0.04398374,  0.02777282, -0.09904415,  0.06801256,\n",
       "        -0.10456817, -0.07169039,  0.02260602, -0.03092782,  0.0385801 ,\n",
       "        -0.01970111, -0.08817699, -0.09157213, -0.05151131,  0.0399469 ,\n",
       "         0.04386397, -0.08646717,  0.0173846 , -0.05577815, -0.02172066,\n",
       "        -0.09216814,  0.02771294,  0.04120407,  0.01786219,  0.03454326,\n",
       "        -0.08658559, -0.07697561,  0.01314624,  0.05864076, -0.09595935,\n",
       "        -0.04763212, -0.08094377, -0.04050115,  0.03947675, -0.08634741,\n",
       "        -0.09649683, -0.07187065,  0.03269752,  0.03846033, -0.09205168,\n",
       "        -0.03186873,  0.04380347, -0.07186869,  0.04072064,  0.0475348 ,\n",
       "        -0.07091411, -0.08949405,  0.05057392,  0.00973232, -0.07601907,\n",
       "        -0.11187159, -0.0192151 , -0.00342324, -0.09181289,  0.05858087,\n",
       "        -0.07210944, -0.07541975, -0.08220094,  0.03744526,  0.03341526,\n",
       "         0.0303285 ,  0.07487294,  0.05671403,  0.03875157, -0.08124245,\n",
       "         0.04612877,  0.04878806, -0.06426013,  0.02997774,  0.02356451,\n",
       "         0.02801162,  0.057502  , -0.05349012,  0.04322677, -0.09655671,\n",
       "         0.04807032, -0.07297604, -0.08682831, -0.02516562, -0.08196019,\n",
       "        -0.07210944, -0.09625803, -0.09607973,  0.04305043,  0.07618121,\n",
       "        -0.07127133, -0.07061347,  0.04849134, -0.08670597,  0.02747218,\n",
       "        -0.06889591, -0.06527168, -0.08611057, -0.0215404 ,  0.05413377,\n",
       "         0.04350284, -0.06581111,  0.0376821 ,  0.03269948, -0.04083906,\n",
       "        -0.07601711,  0.03834191, -0.08112599, -0.09193327, -0.03289161,\n",
       "         0.02504524, -0.0581259 ,  0.04316885,  0.06843162, -0.09673563,\n",
       "        -0.07607761, -0.06046601,  0.03257714,  0.05401535,  0.03775876,\n",
       "         0.04308574,  0.0528766 ,  0.03281594,  0.02248956,  0.03870048,\n",
       "        -0.09679747,  0.02771294,  0.05389301,  0.03786236, -0.06574927,\n",
       "         0.01483728,  0.03496428,  0.05876114, -0.08166347, -0.04580703,\n",
       "         0.01774182, -0.07613749,  0.01786219,  0.04278706,  0.00063425]])"
      ]
     },
     "execution_count": 19,
     "metadata": {},
     "output_type": "execute_result"
    }
   ],
   "source": [
    "pca.components_"
   ]
  },
  {
   "cell_type": "markdown",
   "metadata": {},
   "source": [
    "Once the components are generated, we can use them as the new independent variables/ factors. The first thing we should do is to visualise them. "
   ]
  },
  {
   "cell_type": "code",
   "execution_count": 8,
   "metadata": {},
   "outputs": [
    {
     "data": {
      "image/png": "[encoded data removed]",
      "text/plain": [
       "<Figure size 720x720 with 1 Axes>"
      ]
     },
     "metadata": {
      "needs_background": "light"
     },
     "output_type": "display_data"
    }
   ],
   "source": [
    "import matplotlib.pyplot as plt\n",
    "\n",
    "plt.figure(figsize=(10, 10))\n",
    "plt.scatter(pca.components_[0], pca.components_[1])\n",
    "plt.xlabel(\"First Principle Component\")\n",
    "plt.ylabel(\"Second Principle Component\")\n",
    "plt.show()"
   ]
  },
  {
   "cell_type": "markdown",
   "metadata": {},
   "source": [
    "There are many applications of PCA, for example\n",
    "* Use the components to do a clustering analysis as below. \n",
    "* Feed the data into classification. \n",
    "* Use it for image recognition with a more efficient data.\n",
    "\n",
    "You may explore them after this class. "
   ]
  },
  {
   "cell_type": "markdown",
   "metadata": {},
   "source": [
    "### Factor Analysis"
   ]
  },
  {
   "cell_type": "markdown",
   "metadata": {},
   "source": [
    "PCA is one of the Factor Analysis and this section refers to the general case of dimensional reduction. Factor Analysis contains the following steps: \n",
    "* Uses PCA or common factor analysis to select a number of (specified) components/ dimensions. \n",
    "* Convert factors into uncorrelated factors (factor rotation) until it contains simpler data structure. "
   ]
  },
  {
   "cell_type": "markdown",
   "metadata": {},
   "source": [
    "This week we will use factor analysis to generate a wellbeing score. This will be done by `FactorAnalysis()` from scikit-learn. "
   ]
  },
  {
   "cell_type": "code",
   "execution_count": 32,
   "metadata": {},
   "outputs": [],
   "source": [
    "from sklearn.decomposition import FactorAnalysis\n",
    "\n",
    "fa = FactorAnalysis(n_components=1)\n",
    "fa.fit(X.T)\n",
    "\n",
    "wellbeing = fa.components_"
   ]
  },
  {
   "cell_type": "markdown",
   "metadata": {},
   "source": [
    "After that this `wellbeing` is the variable that we look for. You can use it as a target variable for a regression model, or classification. The important thing before doing so, is to do an EDA of it. "
   ]
  },
  {
   "cell_type": "markdown",
   "metadata": {},
   "source": [
    "## Clustering"
   ]
  },
  {
   "cell_type": "markdown",
   "metadata": {},
   "source": [
    "Clustering calculates the distance between data and tries to label them as groups if they deemed to be near enough. There are many algorithms and for example\n",
    "* k-mean Clustering\n",
    "* Hierarchical Clustering\n",
    "* Mean Shift\n",
    "\n",
    "There are many common algorithms in fact. You can read more of them in [scikit-learn](https://scikit-learn.org/stable/modules/clustering.htm) documentations. "
   ]
  },
  {
   "cell_type": "markdown",
   "metadata": {},
   "source": [
    "### k-Means Clustering"
   ]
  },
  {
   "cell_type": "markdown",
   "metadata": {},
   "source": [
    "k-means Clustering uses user-specified number of clusters and the dataset is calculated with its distance to the randomly defined cluster center. After that, the algorithm will repeat by reassigning the cluster mean to the center of the cluster and recalculate the distances until it is too near to move the centers. "
   ]
  },
  {
   "cell_type": "markdown",
   "metadata": {},
   "source": [
    "This time we will use scikit-learn to compute the clustering. This time we use the reduced dataset (instead of the PCA) to possess the clustering. "
   ]
  },
  {
   "cell_type": "code",
   "execution_count": 7,
   "metadata": {},
   "outputs": [
    {
     "name": "stderr",
     "output_type": "stream",
     "text": [
      "C:\\Users\\John Yeung\\anaconda3\\lib\\site-packages\\sklearn\\cluster\\_kmeans.py:1446: UserWarning: KMeans is known to have a memory leak on Windows with MKL, when there are less chunks than available threads. You can avoid it by setting the environment variable OMP_NUM_THREADS=2.\n",
      "  warnings.warn(\n",
      "C:\\Users\\John Yeung\\anaconda3\\lib\\site-packages\\sklearn\\cluster\\_kmeans.py:1446: UserWarning: KMeans is known to have a memory leak on Windows with MKL, when there are less chunks than available threads. You can avoid it by setting the environment variable OMP_NUM_THREADS=2.\n",
      "  warnings.warn(\n"
     ]
    }
   ],
   "source": [
    "from sklearn.cluster import KMeans\n",
    "\n",
    "kmeans = KMeans(n_clusters=3).fit(X)\n",
    "group = kmeans.fit_predict(X)"
   ]
  },
  {
   "cell_type": "markdown",
   "metadata": {},
   "source": [
    "The most apparent application is where we can colour the data points in a scatter plot. This will show how clustering works in practice. In this plot, because it is best for eyes to see in two-dimensions. So we will use the PCA components, which is the two dimensions that summarises from the many, in the plot. "
   ]
  },
  {
   "cell_type": "code",
   "execution_count": 8,
   "metadata": {},
   "outputs": [
    {
     "data": {
      "image/png": "[encoded data removed]",
      "text/plain": [
       "<Figure size 1000x1000 with 1 Axes>"
      ]
     },
     "metadata": {},
     "output_type": "display_data"
    }
   ],
   "source": [
    "import matplotlib.pyplot as plt\n",
    "\n",
    "plt.figure(figsize=(10, 10))\n",
    "plt.scatter(pca.components_[0], pca.components_[1], c=group)\n",
    "plt.xlabel(\"First Principle Component\")\n",
    "plt.ylabel(\"Second Principle Component\")\n",
    "plt.show()"
   ]
  },
  {
   "cell_type": "markdown",
   "metadata": {},
   "source": [
    "Because the PCA components are in the order of the data points, so each data point represents a row from the dataset. "
   ]
  },
  {
   "cell_type": "markdown",
   "metadata": {},
   "source": [
    "Clustering is said to be difficult to interpret the meaning of the clusters and further investigation is required in each cluster. However, we can bring back the results from clustering into supervied learning, for example\n",
    "* Use the clustering label as a new factor for classification\n",
    "* Remove outliers for linear regression. \n",
    "\n",
    "You may try them outside the class. "
   ]
  },
  {
   "cell_type": "markdown",
   "metadata": {},
   "source": [
    "### Elbow Plot (Optional)"
   ]
  },
  {
   "cell_type": "markdown",
   "metadata": {},
   "source": [
    "The number of clusters in fact is defined by the user, not seek by the algorithm. So we should find the optimum number of clusters that would not have excessive errors from the model, but also has the least computation time (remember more clusters means more computation) and before it becomes overfitting. We use the __elbow plot__ as a __heuristic__. This is a plot between the sum of standard error within the cluster as a function of the number of clusters. "
   ]
  },
  {
   "cell_type": "markdown",
   "metadata": {},
   "source": [
    "The following we use the inertia from our k-means model, which is provided by the calculation above. "
   ]
  },
  {
   "cell_type": "code",
   "execution_count": 10,
   "metadata": {},
   "outputs": [
    {
     "name": "stderr",
     "output_type": "stream",
     "text": [
      "C:\\Users\\John Yeung\\anaconda3\\lib\\site-packages\\sklearn\\cluster\\_kmeans.py:1446: UserWarning: KMeans is known to have a memory leak on Windows with MKL, when there are less chunks than available threads. You can avoid it by setting the environment variable OMP_NUM_THREADS=2.\n",
      "  warnings.warn(\n",
      "C:\\Users\\John Yeung\\anaconda3\\lib\\site-packages\\sklearn\\cluster\\_kmeans.py:1446: UserWarning: KMeans is known to have a memory leak on Windows with MKL, when there are less chunks than available threads. You can avoid it by setting the environment variable OMP_NUM_THREADS=2.\n",
      "  warnings.warn(\n",
      "C:\\Users\\John Yeung\\anaconda3\\lib\\site-packages\\sklearn\\cluster\\_kmeans.py:1446: UserWarning: KMeans is known to have a memory leak on Windows with MKL, when there are less chunks than available threads. You can avoid it by setting the environment variable OMP_NUM_THREADS=2.\n",
      "  warnings.warn(\n",
      "C:\\Users\\John Yeung\\anaconda3\\lib\\site-packages\\sklearn\\cluster\\_kmeans.py:1446: UserWarning: KMeans is known to have a memory leak on Windows with MKL, when there are less chunks than available threads. You can avoid it by setting the environment variable OMP_NUM_THREADS=2.\n",
      "  warnings.warn(\n",
      "C:\\Users\\John Yeung\\anaconda3\\lib\\site-packages\\sklearn\\cluster\\_kmeans.py:1446: UserWarning: KMeans is known to have a memory leak on Windows with MKL, when there are less chunks than available threads. You can avoid it by setting the environment variable OMP_NUM_THREADS=2.\n",
      "  warnings.warn(\n",
      "C:\\Users\\John Yeung\\anaconda3\\lib\\site-packages\\sklearn\\cluster\\_kmeans.py:1446: UserWarning: KMeans is known to have a memory leak on Windows with MKL, when there are less chunks than available threads. You can avoid it by setting the environment variable OMP_NUM_THREADS=2.\n",
      "  warnings.warn(\n",
      "C:\\Users\\John Yeung\\anaconda3\\lib\\site-packages\\sklearn\\cluster\\_kmeans.py:1446: UserWarning: KMeans is known to have a memory leak on Windows with MKL, when there are less chunks than available threads. You can avoid it by setting the environment variable OMP_NUM_THREADS=2.\n",
      "  warnings.warn(\n",
      "C:\\Users\\John Yeung\\anaconda3\\lib\\site-packages\\sklearn\\cluster\\_kmeans.py:1446: UserWarning: KMeans is known to have a memory leak on Windows with MKL, when there are less chunks than available threads. You can avoid it by setting the environment variable OMP_NUM_THREADS=2.\n",
      "  warnings.warn(\n",
      "C:\\Users\\John Yeung\\anaconda3\\lib\\site-packages\\sklearn\\cluster\\_kmeans.py:1446: UserWarning: KMeans is known to have a memory leak on Windows with MKL, when there are less chunks than available threads. You can avoid it by setting the environment variable OMP_NUM_THREADS=2.\n",
      "  warnings.warn(\n",
      "C:\\Users\\John Yeung\\anaconda3\\lib\\site-packages\\sklearn\\cluster\\_kmeans.py:1446: UserWarning: KMeans is known to have a memory leak on Windows with MKL, when there are less chunks than available threads. You can avoid it by setting the environment variable OMP_NUM_THREADS=2.\n",
      "  warnings.warn(\n",
      "C:\\Users\\John Yeung\\anaconda3\\lib\\site-packages\\sklearn\\cluster\\_kmeans.py:1446: UserWarning: KMeans is known to have a memory leak on Windows with MKL, when there are less chunks than available threads. You can avoid it by setting the environment variable OMP_NUM_THREADS=2.\n",
      "  warnings.warn(\n",
      "C:\\Users\\John Yeung\\anaconda3\\lib\\site-packages\\sklearn\\cluster\\_kmeans.py:1446: UserWarning: KMeans is known to have a memory leak on Windows with MKL, when there are less chunks than available threads. You can avoid it by setting the environment variable OMP_NUM_THREADS=2.\n",
      "  warnings.warn(\n",
      "C:\\Users\\John Yeung\\anaconda3\\lib\\site-packages\\sklearn\\cluster\\_kmeans.py:1446: UserWarning: KMeans is known to have a memory leak on Windows with MKL, when there are less chunks than available threads. You can avoid it by setting the environment variable OMP_NUM_THREADS=2.\n",
      "  warnings.warn(\n",
      "C:\\Users\\John Yeung\\anaconda3\\lib\\site-packages\\sklearn\\cluster\\_kmeans.py:1446: UserWarning: KMeans is known to have a memory leak on Windows with MKL, when there are less chunks than available threads. You can avoid it by setting the environment variable OMP_NUM_THREADS=2.\n",
      "  warnings.warn(\n"
     ]
    },
    {
     "data": {
      "image/png": "[encoded data removed]",
      "text/plain": [
       "<Figure size 1000x1000 with 1 Axes>"
      ]
     },
     "metadata": {},
     "output_type": "display_data"
    }
   ],
   "source": [
    "sses = []\n",
    "n_components = list(range(1, 15))\n",
    "\n",
    "for k in n_components: \n",
    "    kmeans = KMeans(n_clusters=k).fit(X)\n",
    "    sses.append(kmeans.inertia_)\n",
    "\n",
    "plt.figure(figsize=(10, 10))\n",
    "plt.scatter(n_components, sses)\n",
    "plt.plot(n_components, sses)\n",
    "plt.title(\"Elbow Plot\")\n",
    "plt.xlabel(\"Number of Components\")\n",
    "plt.ylabel(\"SSE\")\n",
    "plt.show()"
   ]
  },
  {
   "cell_type": "markdown",
   "metadata": {},
   "source": [
    "We pick the __optimum number of clusters__ as where the line turns a lot from sloping down to slowing down. This is about thirteen clusters ($n\\;=\\;13$).  "
   ]
  },
  {
   "cell_type": "markdown",
   "metadata": {},
   "source": [
    "For other clustering algorithms, they do not have the inertia and we should code ourselves to calculate the sum of standard error per cluster and use it in the elbow plot. "
   ]
  },
  {
   "cell_type": "markdown",
   "metadata": {},
   "source": [
    "## Application: Topic Modelling using Latent Dirichlet Allocation (LDA)"
   ]
  },
  {
   "cell_type": "markdown",
   "metadata": {},
   "source": [
    "As a closing of this week, let us apply unsupervised learning into classifying documents by topics. We are using Latent Dirichlet Allocation (LDA) possess topic modelling. The aim of this exercise is to identify what topic is the document or string and compare them with other documents. "
   ]
  },
  {
   "cell_type": "markdown",
   "metadata": {},
   "source": [
    "Before we start the exercise, let us introduce the background on LDA. LDA is based on Bayesian statistics where we use a multinomial distribution to represent the probability of occuring different words. The word \"Dirichlet\" comes from the Dirichlet distribution which is its (conjugate) prior. It controls the probability of the words occurance and has the following parameters: \n",
    "* $\\alpha$ - The document-topic density. Higher value assumes there are more topics to be classified. \n",
    "* $\\beta$ (or $\\eta$ (`eta`) in this example) - The topic-word density. Higher value assumes the topics are concentrated with particular words. "
   ]
  },
  {
   "cell_type": "markdown",
   "metadata": {},
   "source": [
    "So first let us read the sample data. Which contains 9 conversations or paragraphs. "
   ]
  },
  {
   "cell_type": "code",
   "execution_count": 1,
   "metadata": {},
   "outputs": [],
   "source": [
    "text_data = [\"25 years old, I said. \", \n",
    "             \"It was a rat's nest. Not a literal one, but that is what her hair seemed to resemble every morning when she got up. It was going to take at least an hour to get it under control and she was sick and tired of it. She peered into the mirror and wondered if it was worth it. It wasn't. She opened the drawer and picked up the hair clippers.\", \n",
    "             \"She sat in the darkened room waiting. It was now a standoff. He had the power to put her in the room, but not the power to make her repent. It wasn't fair and no matter how long she had to endure the darkness, she wouldn't change her attitude. At three years old, Sandy's stubborn personality had already bloomed into full view.\", \n",
    "             \"Pink ponies and purple giraffes roamed the field. Cotton candy grew from the ground as a chocolate river meandered off to the side. What looked like stones in the pasture were actually rock candy. Everything in her dream seemed to be perfect except for the fact that she had no mouth.\", \n",
    "             \"It's not his fault. I know you're going to want to, but you can't blame him. He really has no idea how it happened. I kept trying to come up with excuses I could say to mom that would keep her calm when she found out what happened, but the more I tried, the more I could see none of them would work. He was going to get her wrath and there was nothing I could say to prevent it.\", \n",
    "             \"There was something in the tree. It was difficult to tell from the ground, but Rachael could see movement. She squinted her eyes and peered in the direction of the movement, trying to decipher exactly what she had spied. The more she peered, however, the more she thought it might be a figment of her imagination. Nothing seemed to move until the moment she began to take her eyes off the tree. Then in the corner of her eye, she would see the movement again and begin the process of staring again.\",\n",
    "             \"It was going to rain. The weather forecast didn't say that, but the steel plate in his hip did. He had learned over the years to trust his hip over the weatherman. It was going to rain, so he better get outside and prepare. He heard the crack echo in the late afternoon about a mile away. His heart started racing and he bolted into a full sprint. \\\"It wasn't a gunshot, it wasn't a gunshot,\\\" he repeated under his breathlessness as he continued to sprint.\",\n",
    "             \"She wondered if the note had reached him. She scolded herself for not handing it to him in person. She trusted her friend, but so much could happen. She waited impatiently for word.\",\n",
    "             \"Sitting in the sun, away from everyone who had done him harm in the past, he quietly listened to those who roamed by. He felt at peace in the moment, hoping it would last, but knowing the reprieve would soon come to an end. He closed his eyes, the sun beating down on face and he smiled. He smiled for the first time in as long as he could remember.\"\n",
    "            ]"
   ]
  },
  {
   "cell_type": "markdown",
   "metadata": {},
   "source": [
    "In this exercise we will look into natural language processing (NLP). Where this is a technique to analyse the sematics of texts. Normally it involves the following steps: \n",
    "1. Tokenisation - Converting words or characters into individual tokens for analysis. \n",
    "2. Preprocessing \n",
    "    * Stopping word removal\n",
    "    * Stemming/ Lemmatisation\n",
    "    * n-grams\n",
    "3. Generate the bag-of-words/ text-document matrix\n",
    "4. Train the LDA model"
   ]
  },
  {
   "cell_type": "markdown",
   "metadata": {},
   "source": [
    "The first thing we should do is to convert the words as token for our analysis. In this exercise we use `nltk` to possess NLP, and they have offered several tokenisers. For example, \n",
    "* `word_tokenize()` splits the string into words. \n",
    "* `sent_tokenize` splits the sentence into words. \n",
    "* `RegexpTokenizer` splits the sentence into words using [regex](https://developer.mozilla.org/en-US/docs/Web/JavaScript/Guide/Regular_Expressions/Cheatsheet).\n",
    "\n",
    "In this tutorial we use the latter one to tokenise the strings. "
   ]
  },
  {
   "cell_type": "code",
   "execution_count": null,
   "metadata": {},
   "outputs": [],
   "source": [
    "'''Run me\n",
    "'''\n",
    "# Tokenise the documents.\n",
    "from nltk.tokenize import RegexpTokenizer\n",
    "\n",
    "docs = []\n",
    "\n",
    "# Split the documents into tokens.\n",
    "tokenizer = RegexpTokenizer(r'\\w+')\n",
    "for idx in range(len(text_data)):\n",
    "    text_data[idx] = text_data[idx].lower()  # Convert to lowercase.\n",
    "    docs.append(tokenizer.tokenize(text_data[idx]))  # Split into words.\n",
    "\n",
    "# Remove numbers, but not words that contain numbers.\n",
    "docs = [[x for x in token if not x.isnumeric()] for token in docs]"
   ]
  },
  {
   "cell_type": "markdown",
   "metadata": {},
   "source": [
    "From above we spend the first few rows to tokenise the strings and store them to a new list called `docs`. This list is a nested list which contains all the words within the sentences. After that we try to clean the list by removing the numbers. "
   ]
  },
  {
   "cell_type": "markdown",
   "metadata": {
    "solution": "hidden",
    "solution2": "hidden",
    "solution2_first": true,
    "solution_first": true
   },
   "source": [
    "__Exercise:__ Does `.isnumeric()` returns `True` if the string contains both alphabetic characters and numbers?"
   ]
  },
  {
   "cell_type": "markdown",
   "metadata": {
    "solution": "hidden",
    "solution2": "hidden"
   },
   "source": [
    "__Solution:__ No. But you might want to use a loop to search numbers within the tokens for this. "
   ]
  },
  {
   "cell_type": "markdown",
   "metadata": {
    "solution": "hidden",
    "solution2": "hidden",
    "solution2_first": true,
    "solution_first": true
   },
   "source": [
    "__Exercise:__ Write a code so that the tokenised list has no words with one character (or less). "
   ]
  },
  {
   "cell_type": "code",
   "execution_count": null,
   "metadata": {
    "solution": "hidden",
    "solution2": "hidden"
   },
   "outputs": [],
   "source": [
    "# Remove words that are only one character.\n",
    "docs = [[x for x in token if len(x) > 1] for token in docs]"
   ]
  },
  {
   "cell_type": "code",
   "execution_count": null,
   "metadata": {},
   "outputs": [],
   "source": [
    "# Your code below\n",
    "docs = "
   ]
  },
  {
   "cell_type": "markdown",
   "metadata": {},
   "source": [
    "We have made our first (or second if you have done the exercise) attempt on cleaning the data. Now let us move on to pre-processing and clean the data further. Firstly let us proceed with lemmatise. This is a process to group the words with similar meanings or form (e.g. \"playing\" or \"played\" or \"plays\" are stemmed to \"play\"). \n",
    "\n",
    "There is another NLP task called stemming which is similar, except lemmatisation identifies which part of speech the word is used to decide if the words should be grouped. \n",
    "\n",
    "The following is the code to lemmatise the tokenised strings. "
   ]
  },
  {
   "cell_type": "code",
   "execution_count": null,
   "metadata": {},
   "outputs": [],
   "source": [
    "'''Run me\n",
    "'''\n",
    "'''\n",
    "If seen: \n",
    "\n",
    "    LookupError: \n",
    "    **********************************************************************\n",
    "      Resource wordnet not found.\n",
    "      Please use the NLTK Downloader to obtain the resource:\n",
    "\n",
    "      >>> import nltk\n",
    "      >>> nltk.download('wordnet')\n",
    "Then use the snippet to download the wordnet. \n",
    "\n",
    "'''\n",
    "# import nltk\n",
    "# nltk.download('wordnet')\n",
    "\n",
    "from nltk.stem.wordnet import WordNetLemmatizer\n",
    "\n",
    "lemmatizer = WordNetLemmatizer()\n",
    "docs = [[lemmatizer.lemmatize(token) for token in doc] for doc in docs]"
   ]
  },
  {
   "cell_type": "markdown",
   "metadata": {},
   "source": [
    "In `nltk` there the lemmatiser requires a package `wordnet`. If you see the following: \n",
    "```bash\n",
    "LookupError: \n",
    "    **********************************************************************\n",
    "      Resource wordnet not found.\n",
    "      Please use the NLTK Downloader to obtain the resource:\n",
    "\n",
    "      >>> import nltk\n",
    "      >>> nltk.download('wordnet')\n",
    "```\n",
    "Then simply use the code specified above to run your code. It is commented in the code snippet above. "
   ]
  },
  {
   "cell_type": "markdown",
   "metadata": {
    "solution": "hidden",
    "solution2": "hidden",
    "solution2_first": true,
    "solution_first": true
   },
   "source": [
    "The other one you might want to pre-process the data is to remove the stopping words. Remember from week 7 that these are the words that does not convey significant meanings. In `ntlk` they have provided a set of stopping words in english if you call\n",
    "```python\n",
    "stop_words = set(stopwords.words('english'))\n",
    "```\n",
    "\n",
    "__Exercise:__ Remove the stopping words from `docs`. \n",
    "\n",
    "If you see: \n",
    "```bash\n",
    "LookupError: \n",
    "    **********************************************************************\n",
    "      Resource stopwords not found.\n",
    "      Please use the NLTK Downloader to obtain the resource:\n",
    "\n",
    "      >>> import nltk\n",
    "      >>> nltk.download('stopwords')\n",
    "```\n",
    "Then you might want to uncomment the code from below. Do a search on how it could be done, or you can try yourself first. "
   ]
  },
  {
   "cell_type": "code",
   "execution_count": null,
   "metadata": {
    "solution": "hidden",
    "solution2": "hidden"
   },
   "outputs": [],
   "source": [
    "'''\n",
    "If seen: \n",
    "    LookupError: \n",
    "    **********************************************************************\n",
    "      Resource stopwords not found.\n",
    "      Please use the NLTK Downloader to obtain the resource:\n",
    "\n",
    "      >>> import nltk\n",
    "      >>> nltk.download('stopwords')\n",
    "Then use the snippet to download the stopwords library. \n",
    "'''\n",
    "# import nltk\n",
    "# nltk.download('stopwords')\n",
    "# Remove stopping words\n",
    "from nltk.corpus import stopwords\n",
    "\n",
    "stop_words = set(stopwords.words('english'))\n",
    "docs = [[x for x in token if x not in stop_words] for token in docs]"
   ]
  },
  {
   "cell_type": "code",
   "execution_count": null,
   "metadata": {},
   "outputs": [],
   "source": [
    "# import nltk\n",
    "# nltk.download('stopwords')\n",
    "\n",
    "# Your code below\n",
    "from nltk.corpus import stopwords\n",
    "\n",
    "stop_words = ???\n",
    "docs = "
   ]
  },
  {
   "cell_type": "markdown",
   "metadata": {},
   "source": [
    "The other pre-processing task is to find n-grams or bigrams. These are the phrases with more than one word. For example, phrases with 2 words are bigrams. In `nltk` we can find the bigrams using `Phrases()` function. "
   ]
  },
  {
   "cell_type": "markdown",
   "metadata": {
    "solution": "hidden",
    "solution2": "hidden",
    "solution2_first": true,
    "solution_first": true
   },
   "source": [
    "__Exercise:__ Find the bigrams from `docs`. "
   ]
  },
  {
   "cell_type": "code",
   "execution_count": null,
   "metadata": {
    "solution": "hidden",
    "solution2": "hidden"
   },
   "outputs": [],
   "source": [
    "# Code from https://radimrehurek.com/gensim/auto_examples/tutorials/run_lda.html (Accessed 11 July 2021)\n",
    "# Compute bigrams.\n",
    "from gensim.models import Phrases\n",
    "\n",
    "bigram = Phrases(docs)\n",
    "\n",
    "for idx in range(len(docs)):\n",
    "    for token in bigram[docs[idx]]:\n",
    "        if '_' in token: # Token is a bigram, add to document. \n",
    "            docs[idx].append(token)"
   ]
  },
  {
   "cell_type": "code",
   "execution_count": null,
   "metadata": {},
   "outputs": [],
   "source": [
    "# Your code below\n"
   ]
  },
  {
   "cell_type": "markdown",
   "metadata": {},
   "source": [
    "Now we have pre-processed the strings, we can start training the model. In this exercise we use `gensim` to possess topic modelling. It provide a function `LdaModel()` to proceed with the analysis. Before training the model, we will need to convert the words into quantitative variables. This is done by `Dictionary()` in `gensim`. "
   ]
  },
  {
   "cell_type": "code",
   "execution_count": null,
   "metadata": {},
   "outputs": [],
   "source": [
    "'''Run me\n",
    "'''\n",
    "from gensim.corpora import Dictionary\n",
    "\n",
    "dictionary = Dictionary(docs)"
   ]
  },
  {
   "cell_type": "markdown",
   "metadata": {},
   "source": [
    "In reality you may need to analyse a large amount of documents. Words that rarely appeared in the set of strings or too much are outliers and it affects what we predict. So we need to filter out words that occur outside a range of documents. For example, to filter our words appeared in less than 20 documents, or more than 50% of the documents we can write.\n",
    "```python\n",
    "dictionary.filter_extremes(no_below=20, no_above=0.75)\n",
    "```\n",
    "In this exercise we don't have do that as there are too little strings in `docs`. "
   ]
  },
  {
   "cell_type": "markdown",
   "metadata": {},
   "source": [
    "We now do the same thing as in last week to generate the bag-of-words representation. Or the term term-document matrix as from last week: "
   ]
  },
  {
   "cell_type": "code",
   "execution_count": null,
   "metadata": {},
   "outputs": [],
   "source": [
    "'''Run me\n",
    "'''\n",
    "# Bag-of-words representation of the documents.\n",
    "corpus = [dictionary.doc2bow(doc) for doc in docs]"
   ]
  },
  {
   "cell_type": "markdown",
   "metadata": {},
   "source": [
    "Finally we can train our LDA model. In `gensim` there is a `LdaModel()` function. \n",
    "* `num_topics` - Number of topics, you will need to think how many topics the strings might appear. It could be an educated guess. \n",
    "* `chunksize` - Controls how many documents are processed at a time in the training algorithm. The higher the value the faster it is proceeded. \n",
    "* `corpus` the bag-of-words representation we wanted to feed in. If you want to use TF-IDF then you can add the following line after you have created `corpus` above: \n",
    "    ```python\n",
    "    import gensim.models\n",
    "    tfidf = models.TfidfModel(mm)\n",
    "    ```\n",
    "    Then use `tfidf` for your `corpus` option in `LdaModel()` below. "
   ]
  },
  {
   "cell_type": "code",
   "execution_count": null,
   "metadata": {},
   "outputs": [],
   "source": [
    "'''Run me\n",
    "'''\n",
    "# Code from https://radimrehurek.com/gensim/auto_examples/tutorials/run_lda.html (Accessed 11 July 2021)\n",
    "# Train LDA model.\n",
    "from gensim.models import LdaModel\n",
    "\n",
    "# Set training parameters.\n",
    "num_topics = 5\n",
    "chunksize = 2000\n",
    "passes = 20\n",
    "iterations = 400\n",
    "eval_every = None  # Don't evaluate model perplexity, takes too much time.\n",
    "\n",
    "# Make a index to word dictionary.\n",
    "temp = dictionary[0]  # This is only to \"load\" the dictionary.\n",
    "id2word = dictionary.id2token\n",
    "\n",
    "model = LdaModel(\n",
    "    corpus=corpus,\n",
    "    id2word=id2word,\n",
    "    chunksize=chunksize,\n",
    "    alpha='auto',\n",
    "    eta='auto',\n",
    "    iterations=iterations,\n",
    "    num_topics=num_topics,\n",
    "    passes=passes,\n",
    "    eval_every=eval_every\n",
    ")"
   ]
  },
  {
   "cell_type": "markdown",
   "metadata": {},
   "source": [
    "We now have classified the strings into topics. Note that we now have created 5 groups/ clusters, there are further work to find out what do each group mean. There are many ways to represent the results. The following are two of the ways to represent them. \n",
    "* `.show_topics()` represents the topics as a list of probability-word pair equations. It shows what words are in the (grouped) topics and how likely does the word appear in the topic. \n",
    "* `top_topics()` shows what are the words that most belonged to that group, which is shown by a cohesion score. \n",
    "\n",
    "These are shown below. "
   ]
  },
  {
   "cell_type": "code",
   "execution_count": null,
   "metadata": {},
   "outputs": [],
   "source": [
    "'''Run me\n",
    "'''\n",
    "model.show_topics()"
   ]
  },
  {
   "cell_type": "code",
   "execution_count": null,
   "metadata": {},
   "outputs": [],
   "source": [
    "'''Run me\n",
    "'''\n",
    "top_topics = model.top_topics(corpus)\n",
    "top_topics"
   ]
  },
  {
   "cell_type": "markdown",
   "metadata": {},
   "source": [
    "There are also visual ways to present the results from our model. `pyLDAvis` is a package that we can visually present the results from the LDA model. You can also present the topics with word cloud. \n",
    "\n",
    "Note that this does not mean the end of the analysis. You may see that the topics have a lot of overlapping words. This may indicate to tune the number of topics, or other hyperparameters from `LdaModel()`. "
   ]
  },
  {
   "cell_type": "markdown",
   "metadata": {},
   "source": [
    "## Conclusion"
   ]
  },
  {
   "cell_type": "markdown",
   "metadata": {},
   "source": [
    "In this week we have learnt about:\n",
    "* Conduct dimensional reduction tasks. \n",
    "* Conduct clustering tasks. \n",
    "* Optimise the clustering task by tuning the number of clusters. \n",
    "* Understand the application of clustering and how it assists supervised learning tasks. \n",
    "* Cluster texts using Latent Dirichlet Allocation. "
   ]
  }
 ],
 "metadata": {
  "kernelspec": {
   "display_name": "Python 3 (ipykernel)",
   "language": "python",
   "name": "python3"
  },
  "language_info": {
   "codemirror_mode": {
    "name": "ipython",
    "version": 3
   },
   "file_extension": ".py",
   "mimetype": "text/x-python",
   "name": "python",
   "nbconvert_exporter": "python",
   "pygments_lexer": "ipython3",
   "version": "3.10.9"
  },
  "latex_envs": {
   "LaTeX_envs_menu_present": true,
   "autoclose": true,
   "autocomplete": true,
   "bibliofile": "biblio.bib",
   "cite_by": "apalike",
   "current_citInitial": 1,
   "eqLabelWithNumbers": true,
   "eqNumInitial": 1,
   "hotkeys": {
    "equation": "Ctrl-E",
    "itemize": "Ctrl-I"
   },
   "labels_anchors": false,
   "latex_user_defs": false,
   "report_style_numbering": false,
   "user_envs_cfg": false
  },
  "toc": {
   "base_numbering": 1,
   "nav_menu": {},
   "number_sections": false,
   "sideBar": true,
   "skip_h1_title": false,
   "title_cell": "Table of Contents",
   "title_sidebar": "Contents",
   "toc_cell": false,
   "toc_position": {},
   "toc_section_display": true,
   "toc_window_display": true
  }
 },
 "nbformat": 4,
 "nbformat_minor": 4
}
